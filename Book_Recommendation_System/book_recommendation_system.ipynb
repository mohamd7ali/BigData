{
  "cells": [
    {
      "cell_type": "markdown",
      "metadata": {
        "id": "1tuNinnHSAjI"
      },
      "source": [
        "<!-- <img src='./pic/SharifUniLogo.png' alt=\"SUT logo\" width=300 height=300 align=left class=\"saturate\" > <br> -->\n",
        "\n",
        "<div dir=ltr align=center>\n",
        "<font color=0F5298 size=7>\n",
        "    Big Data - Massive Data Mining <br>\n",
        "<font color=696080 size=5>\n",
        "    Book Recommendation System <br>\n",
        "<font color=696880 size=4>\n",
        "    Mohammad Ali Etemadi Naeen\n",
        "    \n",
        "____"
      ]
    },
    {
      "cell_type": "markdown",
      "metadata": {
        "id": "5vEeySsmSAjW"
      },
      "source": [
        "# **import Libraries**"
      ]
    },
    {
      "cell_type": "code",
      "execution_count": 3,
      "metadata": {
        "colab": {
          "base_uri": "https://localhost:8080/"
        },
        "id": "p_a0fDO0VZyr",
        "outputId": "639f0f9b-3861-457d-accd-d1f6b2245ddb"
      },
      "outputs": [
        {
          "name": "stdout",
          "output_type": "stream",
          "text": [
            "Requirement already satisfied: pyspark in /usr/local/lib/python3.11/dist-packages (3.5.4)\n",
            "Requirement already satisfied: py4j==0.10.9.7 in /usr/local/lib/python3.11/dist-packages (from pyspark) (0.10.9.7)\n",
            "Requirement already satisfied: pyspark in /usr/local/lib/python3.11/dist-packages (3.5.4)\n",
            "Collecting findspark\n",
            "  Downloading findspark-2.0.1-py2.py3-none-any.whl.metadata (352 bytes)\n",
            "Requirement already satisfied: py4j==0.10.9.7 in /usr/local/lib/python3.11/dist-packages (from pyspark) (0.10.9.7)\n",
            "Downloading findspark-2.0.1-py2.py3-none-any.whl (4.4 kB)\n",
            "Installing collected packages: findspark\n",
            "Successfully installed findspark-2.0.1\n",
            "The following additional packages will be installed:\n",
            "  libxtst6 openjdk-8-jre-headless\n",
            "Suggested packages:\n",
            "  openjdk-8-demo openjdk-8-source libnss-mdns fonts-dejavu-extra fonts-nanum fonts-ipafont-gothic\n",
            "  fonts-ipafont-mincho fonts-wqy-microhei fonts-wqy-zenhei fonts-indic\n",
            "The following NEW packages will be installed:\n",
            "  libxtst6 openjdk-8-jdk-headless openjdk-8-jre-headless\n",
            "0 upgraded, 3 newly installed, 0 to remove and 49 not upgraded.\n",
            "Need to get 39.7 MB of archives.\n",
            "After this operation, 144 MB of additional disk space will be used.\n",
            "Selecting previously unselected package libxtst6:amd64.\n",
            "(Reading database ... 124574 files and directories currently installed.)\n",
            "Preparing to unpack .../libxtst6_2%3a1.2.3-1build4_amd64.deb ...\n",
            "Unpacking libxtst6:amd64 (2:1.2.3-1build4) ...\n",
            "Selecting previously unselected package openjdk-8-jre-headless:amd64.\n",
            "Preparing to unpack .../openjdk-8-jre-headless_8u432-ga~us1-0ubuntu2~22.04_amd64.deb ...\n",
            "Unpacking openjdk-8-jre-headless:amd64 (8u432-ga~us1-0ubuntu2~22.04) ...\n",
            "Selecting previously unselected package openjdk-8-jdk-headless:amd64.\n",
            "Preparing to unpack .../openjdk-8-jdk-headless_8u432-ga~us1-0ubuntu2~22.04_amd64.deb ...\n",
            "Unpacking openjdk-8-jdk-headless:amd64 (8u432-ga~us1-0ubuntu2~22.04) ...\n",
            "Setting up libxtst6:amd64 (2:1.2.3-1build4) ...\n",
            "Setting up openjdk-8-jre-headless:amd64 (8u432-ga~us1-0ubuntu2~22.04) ...\n",
            "update-alternatives: using /usr/lib/jvm/java-8-openjdk-amd64/jre/bin/orbd to provide /usr/bin/orbd (orbd) in auto mode\n",
            "update-alternatives: using /usr/lib/jvm/java-8-openjdk-amd64/jre/bin/servertool to provide /usr/bin/servertool (servertool) in auto mode\n",
            "update-alternatives: using /usr/lib/jvm/java-8-openjdk-amd64/jre/bin/tnameserv to provide /usr/bin/tnameserv (tnameserv) in auto mode\n",
            "Setting up openjdk-8-jdk-headless:amd64 (8u432-ga~us1-0ubuntu2~22.04) ...\n",
            "update-alternatives: using /usr/lib/jvm/java-8-openjdk-amd64/bin/clhsdb to provide /usr/bin/clhsdb (clhsdb) in auto mode\n",
            "update-alternatives: using /usr/lib/jvm/java-8-openjdk-amd64/bin/extcheck to provide /usr/bin/extcheck (extcheck) in auto mode\n",
            "update-alternatives: using /usr/lib/jvm/java-8-openjdk-amd64/bin/hsdb to provide /usr/bin/hsdb (hsdb) in auto mode\n",
            "update-alternatives: using /usr/lib/jvm/java-8-openjdk-amd64/bin/idlj to provide /usr/bin/idlj (idlj) in auto mode\n",
            "update-alternatives: using /usr/lib/jvm/java-8-openjdk-amd64/bin/javah to provide /usr/bin/javah (javah) in auto mode\n",
            "update-alternatives: using /usr/lib/jvm/java-8-openjdk-amd64/bin/jhat to provide /usr/bin/jhat (jhat) in auto mode\n",
            "update-alternatives: using /usr/lib/jvm/java-8-openjdk-amd64/bin/jsadebugd to provide /usr/bin/jsadebugd (jsadebugd) in auto mode\n",
            "update-alternatives: using /usr/lib/jvm/java-8-openjdk-amd64/bin/native2ascii to provide /usr/bin/native2ascii (native2ascii) in auto mode\n",
            "update-alternatives: using /usr/lib/jvm/java-8-openjdk-amd64/bin/schemagen to provide /usr/bin/schemagen (schemagen) in auto mode\n",
            "update-alternatives: using /usr/lib/jvm/java-8-openjdk-amd64/bin/wsgen to provide /usr/bin/wsgen (wsgen) in auto mode\n",
            "update-alternatives: using /usr/lib/jvm/java-8-openjdk-amd64/bin/wsimport to provide /usr/bin/wsimport (wsimport) in auto mode\n",
            "update-alternatives: using /usr/lib/jvm/java-8-openjdk-amd64/bin/xjc to provide /usr/bin/xjc (xjc) in auto mode\n",
            "Processing triggers for libc-bin (2.35-0ubuntu3.4) ...\n",
            "/sbin/ldconfig.real: /usr/local/lib/libtbbbind.so.3 is not a symbolic link\n",
            "\n",
            "/sbin/ldconfig.real: /usr/local/lib/libtbb.so.12 is not a symbolic link\n",
            "\n",
            "/sbin/ldconfig.real: /usr/local/lib/libtcm.so.1 is not a symbolic link\n",
            "\n",
            "/sbin/ldconfig.real: /usr/local/lib/libtbbbind_2_0.so.3 is not a symbolic link\n",
            "\n",
            "/sbin/ldconfig.real: /usr/local/lib/libumf.so.0 is not a symbolic link\n",
            "\n",
            "/sbin/ldconfig.real: /usr/local/lib/libtbbbind_2_5.so.3 is not a symbolic link\n",
            "\n",
            "/sbin/ldconfig.real: /usr/local/lib/libtbbmalloc.so.2 is not a symbolic link\n",
            "\n",
            "/sbin/ldconfig.real: /usr/local/lib/libhwloc.so.15 is not a symbolic link\n",
            "\n",
            "/sbin/ldconfig.real: /usr/local/lib/libur_adapter_level_zero.so.0 is not a symbolic link\n",
            "\n",
            "/sbin/ldconfig.real: /usr/local/lib/libur_loader.so.0 is not a symbolic link\n",
            "\n",
            "/sbin/ldconfig.real: /usr/local/lib/libur_adapter_opencl.so.0 is not a symbolic link\n",
            "\n",
            "/sbin/ldconfig.real: /usr/local/lib/libtcm_debug.so.1 is not a symbolic link\n",
            "\n",
            "/sbin/ldconfig.real: /usr/local/lib/libtbbmalloc_proxy.so.2 is not a symbolic link\n",
            "\n"
          ]
        }
      ],
      "source": [
        "!pip install pyspark\n",
        "!pip install pyspark findspark\n",
        "!pip install -U -q PyDrive2\n",
        "!apt install openjdk-8-jdk-headless -qq\n",
        "import os\n",
        "os.environ[\"JAVA_HOME\"] = \"/usr/lib/jvm/java-8-openjdk-amd64\""
      ]
    },
    {
      "cell_type": "code",
      "execution_count": null,
      "metadata": {
        "id": "C1GG7j7HSAjc"
      },
      "outputs": [],
      "source": [
        "import findspark\n",
        "findspark.init()\n",
        "import pyspark\n",
        "from pyspark.sql import SparkSession\n",
        "spark = SparkSession \\\n",
        "    .builder \\\n",
        "    .appName(\"Recommender_System\") \\\n",
        "    .master(\"local[*]\") \\\n",
        "    .getOrCreate()\n",
        "\n",
        "sc=spark.sparkContext"
      ]
    },
    {
      "cell_type": "code",
      "execution_count": null,
      "metadata": {
        "colab": {
          "base_uri": "https://localhost:8080/"
        },
        "id": "HtuP4uhbSAjd",
        "outputId": "4ea7cac3-836a-479b-8e0a-e91f72c18834"
      },
      "outputs": [
        {
          "name": "stdout",
          "output_type": "stream",
          "text": [
            "Collecting umap-learn\n",
            "  Downloading umap_learn-0.5.7-py3-none-any.whl.metadata (21 kB)\n",
            "Requirement already satisfied: numpy>=1.17 in /usr/local/lib/python3.11/dist-packages (from umap-learn) (1.26.4)\n",
            "Requirement already satisfied: scipy>=1.3.1 in /usr/local/lib/python3.11/dist-packages (from umap-learn) (1.13.1)\n",
            "Requirement already satisfied: scikit-learn>=0.22 in /usr/local/lib/python3.11/dist-packages (from umap-learn) (1.6.1)\n",
            "Requirement already satisfied: numba>=0.51.2 in /usr/local/lib/python3.11/dist-packages (from umap-learn) (0.60.0)\n",
            "Collecting pynndescent>=0.5 (from umap-learn)\n",
            "  Downloading pynndescent-0.5.13-py3-none-any.whl.metadata (6.8 kB)\n",
            "Requirement already satisfied: tqdm in /usr/local/lib/python3.11/dist-packages (from umap-learn) (4.67.1)\n",
            "Requirement already satisfied: llvmlite<0.44,>=0.43.0dev0 in /usr/local/lib/python3.11/dist-packages (from numba>=0.51.2->umap-learn) (0.43.0)\n",
            "Requirement already satisfied: joblib>=0.11 in /usr/local/lib/python3.11/dist-packages (from pynndescent>=0.5->umap-learn) (1.4.2)\n",
            "Requirement already satisfied: threadpoolctl>=3.1.0 in /usr/local/lib/python3.11/dist-packages (from scikit-learn>=0.22->umap-learn) (3.5.0)\n",
            "Downloading umap_learn-0.5.7-py3-none-any.whl (88 kB)\n",
            "\u001b[2K   \u001b[90m━━━━━━━━━━━━━━━━━━━━━━━━━━━━━━━━━━━━━━━━\u001b[0m \u001b[32m88.8/88.8 kB\u001b[0m \u001b[31m3.7 MB/s\u001b[0m eta \u001b[36m0:00:00\u001b[0m\n",
            "\u001b[?25hDownloading pynndescent-0.5.13-py3-none-any.whl (56 kB)\n",
            "\u001b[2K   \u001b[90m━━━━━━━━━━━━━━━━━━━━━━━━━━━━━━━━━━━━━━━━\u001b[0m \u001b[32m56.9/56.9 kB\u001b[0m \u001b[31m3.6 MB/s\u001b[0m eta \u001b[36m0:00:00\u001b[0m\n",
            "\u001b[?25hInstalling collected packages: pynndescent, umap-learn\n",
            "Successfully installed pynndescent-0.5.13 umap-learn-0.5.7\n"
          ]
        }
      ],
      "source": [
        "import os\n",
        "import re\n",
        "import csv\n",
        "import json\n",
        "import string\n",
        "import random\n",
        "import numpy as np\n",
        "import pandas as pd\n",
        "import seaborn as sns\n",
        "import networkx as nx\n",
        "import matplotlib.pyplot as plt\n",
        "\n",
        "from pyspark.sql import SparkSession\n",
        "from pyspark.sql.functions import udf\n",
        "from pyspark.sql.types import StringType\n",
        "from pyspark.sql.functions import col, udf\n",
        "from pyspark.sql.types import FloatType\n",
        "from pyspark.sql import functions as F\n",
        "from pyspark.ml.linalg import Vectors\n",
        "from pyspark.ml.feature import StandardScaler, VectorAssembler\n",
        "\n",
        "import nltk\n",
        "from nltk.corpus import stopwords\n",
        "from wordcloud import WordCloud\n",
        "from mpl_toolkits.mplot3d import Axes3D\n",
        "\n",
        "import hashlib\n",
        "from hashlib import md5"
      ]
    },
    {
      "cell_type": "code",
      "execution_count": 7,
      "metadata": {
        "colab": {
          "base_uri": "https://localhost:8080/"
        },
        "id": "UhyOP0SOVDEU",
        "outputId": "13ae2837-0ccf-4093-da7b-a0bf6dc3fd53"
      },
      "outputs": [
        {
          "name": "stdout",
          "output_type": "stream",
          "text": [
            "Mounted at /content/drive\n"
          ]
        }
      ],
      "source": [
        "from google.colab import drive\n",
        "drive.mount('/content/drive')"
      ]
    },
    {
      "cell_type": "markdown",
      "metadata": {
        "id": "j4L0sNeqSAkn"
      },
      "source": [
        "---\n",
        "# **Q2**"
      ]
    },
    {
      "cell_type": "markdown",
      "metadata": {
        "id": "PgSfVt7RSAko"
      },
      "source": [
        "\n",
        "### ```Pre-Processing```"
      ]
    },
    {
      "cell_type": "code",
      "execution_count": null,
      "metadata": {
        "id": "zNyLemL0SAko",
        "outputId": "b2e7e72b-da52-42d8-fce5-19c20ed3f443"
      },
      "outputs": [
        {
          "name": "stderr",
          "output_type": "stream",
          "text": [
            "                                                                                \r"
          ]
        },
        {
          "name": "stdout",
          "output_type": "stream",
          "text": [
            "root\n",
            " |-- _c0: string (nullable = true)\n",
            " |-- _c1: string (nullable = true)\n",
            " |-- _c2: double (nullable = true)\n",
            " |-- _c3: integer (nullable = true)\n",
            "\n",
            "+--------------+----------+---+----------+\n",
            "|           _c0|       _c1|_c2|       _c3|\n",
            "+--------------+----------+---+----------+\n",
            "| AH2L9G3DQHHAJ|0000000116|4.0|1019865600|\n",
            "|A2IIIDRK3PRRZY|0000000116|1.0|1395619200|\n",
            "|A1TADCM7YWPQ8M|0000000868|4.0|1031702400|\n",
            "| AWGH7V0BDOJKB|0000013714|4.0|1383177600|\n",
            "|A3UTQPQPM4TQO0|0000013714|5.0|1374883200|\n",
            "| A8ZS0I5L5V31B|0000013714|5.0|1393632000|\n",
            "| ACNGUPJ3A3TM9|0000013714|4.0|1386028800|\n",
            "|A3BED5QFJWK88M|0000013714|4.0|1350345600|\n",
            "|A2SUAM1J3GNN3B|0000013714|5.0|1252800000|\n",
            "| APOZ15IEYQRRR|0000013714|5.0|1362787200|\n",
            "+--------------+----------+---+----------+\n",
            "only showing top 10 rows\n",
            "\n"
          ]
        }
      ],
      "source": [
        "# Load the dataset into a DataFrame\n",
        "file_path = \"./data/BookRates_DS.csv\"\n",
        "data = spark.read.csv(file_path, header=False, inferSchema=True)\n",
        "\n",
        "# Show the schema and a sample of the data to ensure it is loaded correctly\n",
        "data.printSchema()\n",
        "data.show(10)\n"
      ]
    },
    {
      "cell_type": "code",
      "execution_count": null,
      "metadata": {
        "id": "C_PbMWeuSAkp",
        "outputId": "da13c076-da49-4d32-ce4a-b14ec68865d8"
      },
      "outputs": [
        {
          "name": "stderr",
          "output_type": "stream",
          "text": [
            "                                                                                \r"
          ]
        },
        {
          "data": {
            "text/plain": [
              "22502155"
            ]
          },
          "execution_count": 12,
          "metadata": {},
          "output_type": "execute_result"
        }
      ],
      "source": [
        "data.count()"
      ]
    },
    {
      "cell_type": "code",
      "execution_count": null,
      "metadata": {
        "id": "nZG3YfdoSAkq",
        "outputId": "dc4a67aa-e90c-4d4f-b1e9-be53c9405f2c"
      },
      "outputs": [
        {
          "name": "stdout",
          "output_type": "stream",
          "text": [
            "root\n",
            " |-- user_id: string (nullable = true)\n",
            " |-- book_id: string (nullable = true)\n",
            " |-- rating: double (nullable = true)\n",
            " |-- timestamp: integer (nullable = true)\n",
            "\n"
          ]
        }
      ],
      "source": [
        "# Step 1: Rename columns\n",
        "data = data.withColumnRenamed(\"_c0\", \"user_id\") \\\n",
        "           .withColumnRenamed(\"_c1\", \"book_id\") \\\n",
        "           .withColumnRenamed(\"_c2\", \"rating\") \\\n",
        "           .withColumnRenamed(\"_c3\", \"timestamp\")\n",
        "\n",
        "# Step 2: Check for null or duplicate values\n",
        "data = data.dropDuplicates()\n",
        "data = data.dropna()\n",
        "\n",
        "# Show updated schema\n",
        "data.printSchema()\n",
        "\n"
      ]
    },
    {
      "cell_type": "code",
      "execution_count": null,
      "metadata": {
        "id": "sn2TPIo5SAkr",
        "outputId": "058f748c-06bb-45ea-841a-7f90787448d4"
      },
      "outputs": [
        {
          "name": "stderr",
          "output_type": "stream",
          "text": [
            "25/01/16 17:12:07 WARN RowBasedKeyValueBatch: Calling spill() on RowBasedKeyValueBatch. Will not spill but return 0.\n",
            "25/01/16 17:12:08 WARN RowBasedKeyValueBatch: Calling spill() on RowBasedKeyValueBatch. Will not spill but return 0.\n",
            "25/01/16 17:12:08 WARN RowBasedKeyValueBatch: Calling spill() on RowBasedKeyValueBatch. Will not spill but return 0.\n",
            "25/01/16 17:12:08 WARN RowBasedKeyValueBatch: Calling spill() on RowBasedKeyValueBatch. Will not spill but return 0.\n",
            "25/01/16 17:12:08 WARN RowBasedKeyValueBatch: Calling spill() on RowBasedKeyValueBatch. Will not spill but return 0.\n",
            "25/01/16 17:12:08 WARN RowBasedKeyValueBatch: Calling spill() on RowBasedKeyValueBatch. Will not spill but return 0.\n",
            "25/01/16 17:12:08 WARN RowBasedKeyValueBatch: Calling spill() on RowBasedKeyValueBatch. Will not spill but return 0.\n",
            "25/01/16 17:12:08 WARN RowBasedKeyValueBatch: Calling spill() on RowBasedKeyValueBatch. Will not spill but return 0.\n",
            "25/01/16 17:12:08 WARN RowBasedKeyValueBatch: Calling spill() on RowBasedKeyValueBatch. Will not spill but return 0.\n",
            "25/01/16 17:12:08 WARN RowBasedKeyValueBatch: Calling spill() on RowBasedKeyValueBatch. Will not spill but return 0.\n",
            "25/01/16 17:12:08 WARN RowBasedKeyValueBatch: Calling spill() on RowBasedKeyValueBatch. Will not spill but return 0.\n",
            "25/01/16 17:12:08 WARN RowBasedKeyValueBatch: Calling spill() on RowBasedKeyValueBatch. Will not spill but return 0.\n",
            "25/01/16 17:12:09 WARN RowBasedKeyValueBatch: Calling spill() on RowBasedKeyValueBatch. Will not spill but return 0.\n",
            "25/01/16 17:12:10 WARN RowBasedKeyValueBatch: Calling spill() on RowBasedKeyValueBatch. Will not spill but return 0.\n",
            "25/01/16 17:12:10 WARN RowBasedKeyValueBatch: Calling spill() on RowBasedKeyValueBatch. Will not spill but return 0.\n",
            "25/01/16 17:12:10 WARN RowBasedKeyValueBatch: Calling spill() on RowBasedKeyValueBatch. Will not spill but return 0.\n",
            "25/01/16 17:12:10 WARN RowBasedKeyValueBatch: Calling spill() on RowBasedKeyValueBatch. Will not spill but return 0.\n",
            "25/01/16 17:12:10 WARN RowBasedKeyValueBatch: Calling spill() on RowBasedKeyValueBatch. Will not spill but return 0.\n",
            "25/01/16 17:12:10 WARN RowBasedKeyValueBatch: Calling spill() on RowBasedKeyValueBatch. Will not spill but return 0.\n",
            "25/01/16 17:12:10 WARN RowBasedKeyValueBatch: Calling spill() on RowBasedKeyValueBatch. Will not spill but return 0.\n",
            "25/01/16 17:12:10 WARN RowBasedKeyValueBatch: Calling spill() on RowBasedKeyValueBatch. Will not spill but return 0.\n",
            "25/01/16 17:12:10 WARN RowBasedKeyValueBatch: Calling spill() on RowBasedKeyValueBatch. Will not spill but return 0.\n",
            "25/01/16 17:12:10 WARN RowBasedKeyValueBatch: Calling spill() on RowBasedKeyValueBatch. Will not spill but return 0.\n",
            "25/01/16 17:12:10 WARN RowBasedKeyValueBatch: Calling spill() on RowBasedKeyValueBatch. Will not spill but return 0.\n",
            "25/01/16 17:12:11 WARN RowBasedKeyValueBatch: Calling spill() on RowBasedKeyValueBatch. Will not spill but return 0.\n",
            "25/01/16 17:12:11 WARN RowBasedKeyValueBatch: Calling spill() on RowBasedKeyValueBatch. Will not spill but return 0.\n",
            "25/01/16 17:12:11 WARN RowBasedKeyValueBatch: Calling spill() on RowBasedKeyValueBatch. Will not spill but return 0.\n",
            "25/01/16 17:12:11 WARN RowBasedKeyValueBatch: Calling spill() on RowBasedKeyValueBatch. Will not spill but return 0.\n",
            "25/01/16 17:12:11 WARN RowBasedKeyValueBatch: Calling spill() on RowBasedKeyValueBatch. Will not spill but return 0.\n",
            "25/01/16 17:12:12 WARN RowBasedKeyValueBatch: Calling spill() on RowBasedKeyValueBatch. Will not spill but return 0.\n",
            "25/01/16 17:12:12 WARN RowBasedKeyValueBatch: Calling spill() on RowBasedKeyValueBatch. Will not spill but return 0.\n",
            "25/01/16 17:12:12 WARN RowBasedKeyValueBatch: Calling spill() on RowBasedKeyValueBatch. Will not spill but return 0.\n",
            "25/01/16 17:12:12 WARN RowBasedKeyValueBatch: Calling spill() on RowBasedKeyValueBatch. Will not spill but return 0.\n",
            "25/01/16 17:12:12 WARN RowBasedKeyValueBatch: Calling spill() on RowBasedKeyValueBatch. Will not spill but return 0.\n",
            "25/01/16 17:12:12 WARN RowBasedKeyValueBatch: Calling spill() on RowBasedKeyValueBatch. Will not spill but return 0.\n",
            "25/01/16 17:12:12 WARN RowBasedKeyValueBatch: Calling spill() on RowBasedKeyValueBatch. Will not spill but return 0.\n",
            "25/01/16 17:12:13 WARN RowBasedKeyValueBatch: Calling spill() on RowBasedKeyValueBatch. Will not spill but return 0.\n",
            "25/01/16 17:12:13 WARN RowBasedKeyValueBatch: Calling spill() on RowBasedKeyValueBatch. Will not spill but return 0.\n",
            "25/01/16 17:12:13 WARN RowBasedKeyValueBatch: Calling spill() on RowBasedKeyValueBatch. Will not spill but return 0.\n",
            "25/01/16 17:12:13 WARN RowBasedKeyValueBatch: Calling spill() on RowBasedKeyValueBatch. Will not spill but return 0.\n",
            "25/01/16 17:12:13 WARN RowBasedKeyValueBatch: Calling spill() on RowBasedKeyValueBatch. Will not spill but return 0.\n",
            "25/01/16 17:12:13 WARN RowBasedKeyValueBatch: Calling spill() on RowBasedKeyValueBatch. Will not spill but return 0.\n",
            "25/01/16 17:12:13 WARN RowBasedKeyValueBatch: Calling spill() on RowBasedKeyValueBatch. Will not spill but return 0.\n",
            "25/01/16 17:12:13 WARN RowBasedKeyValueBatch: Calling spill() on RowBasedKeyValueBatch. Will not spill but return 0.\n",
            "25/01/16 17:12:13 WARN RowBasedKeyValueBatch: Calling spill() on RowBasedKeyValueBatch. Will not spill but return 0.\n",
            "25/01/16 17:12:13 WARN RowBasedKeyValueBatch: Calling spill() on RowBasedKeyValueBatch. Will not spill but return 0.\n",
            "25/01/16 17:12:14 WARN RowBasedKeyValueBatch: Calling spill() on RowBasedKeyValueBatch. Will not spill but return 0.\n",
            "25/01/16 17:12:14 WARN RowBasedKeyValueBatch: Calling spill() on RowBasedKeyValueBatch. Will not spill but return 0.\n",
            "25/01/16 17:12:14 WARN RowBasedKeyValueBatch: Calling spill() on RowBasedKeyValueBatch. Will not spill but return 0.\n",
            "25/01/16 17:12:15 WARN RowBasedKeyValueBatch: Calling spill() on RowBasedKeyValueBatch. Will not spill but return 0.\n",
            "25/01/16 17:12:15 WARN RowBasedKeyValueBatch: Calling spill() on RowBasedKeyValueBatch. Will not spill but return 0.\n",
            "25/01/16 17:12:15 WARN RowBasedKeyValueBatch: Calling spill() on RowBasedKeyValueBatch. Will not spill but return 0.\n",
            "25/01/16 17:12:15 WARN RowBasedKeyValueBatch: Calling spill() on RowBasedKeyValueBatch. Will not spill but return 0.\n",
            "25/01/16 17:12:15 WARN RowBasedKeyValueBatch: Calling spill() on RowBasedKeyValueBatch. Will not spill but return 0.\n",
            "25/01/16 17:12:15 WARN RowBasedKeyValueBatch: Calling spill() on RowBasedKeyValueBatch. Will not spill but return 0.\n",
            "25/01/16 17:12:15 WARN RowBasedKeyValueBatch: Calling spill() on RowBasedKeyValueBatch. Will not spill but return 0.\n",
            "25/01/16 17:12:15 WARN RowBasedKeyValueBatch: Calling spill() on RowBasedKeyValueBatch. Will not spill but return 0.\n",
            "25/01/16 17:12:15 WARN RowBasedKeyValueBatch: Calling spill() on RowBasedKeyValueBatch. Will not spill but return 0.\n",
            "25/01/16 17:12:15 WARN RowBasedKeyValueBatch: Calling spill() on RowBasedKeyValueBatch. Will not spill but return 0.\n",
            "25/01/16 17:12:15 WARN RowBasedKeyValueBatch: Calling spill() on RowBasedKeyValueBatch. Will not spill but return 0.\n",
            "25/01/16 17:12:16 WARN RowBasedKeyValueBatch: Calling spill() on RowBasedKeyValueBatch. Will not spill but return 0.\n",
            "25/01/16 17:12:16 WARN RowBasedKeyValueBatch: Calling spill() on RowBasedKeyValueBatch. Will not spill but return 0.\n",
            "25/01/16 17:12:16 WARN RowBasedKeyValueBatch: Calling spill() on RowBasedKeyValueBatch. Will not spill but return 0.\n",
            "25/01/16 17:12:16 WARN RowBasedKeyValueBatch: Calling spill() on RowBasedKeyValueBatch. Will not spill but return 0.\n",
            "25/01/16 17:12:17 WARN RowBasedKeyValueBatch: Calling spill() on RowBasedKeyValueBatch. Will not spill but return 0.\n",
            "25/01/16 17:12:17 WARN RowBasedKeyValueBatch: Calling spill() on RowBasedKeyValueBatch. Will not spill but return 0.\n",
            "25/01/16 17:12:17 WARN RowBasedKeyValueBatch: Calling spill() on RowBasedKeyValueBatch. Will not spill but return 0.\n",
            "25/01/16 17:12:17 WARN RowBasedKeyValueBatch: Calling spill() on RowBasedKeyValueBatch. Will not spill but return 0.\n",
            "25/01/16 17:12:17 WARN RowBasedKeyValueBatch: Calling spill() on RowBasedKeyValueBatch. Will not spill but return 0.\n",
            "25/01/16 17:12:17 WARN RowBasedKeyValueBatch: Calling spill() on RowBasedKeyValueBatch. Will not spill but return 0.\n",
            "25/01/16 17:12:17 WARN RowBasedKeyValueBatch: Calling spill() on RowBasedKeyValueBatch. Will not spill but return 0.\n",
            "25/01/16 17:12:17 WARN RowBasedKeyValueBatch: Calling spill() on RowBasedKeyValueBatch. Will not spill but return 0.\n",
            "25/01/16 17:12:17 WARN RowBasedKeyValueBatch: Calling spill() on RowBasedKeyValueBatch. Will not spill but return 0.\n",
            "25/01/16 17:12:18 WARN RowBasedKeyValueBatch: Calling spill() on RowBasedKeyValueBatch. Will not spill but return 0.\n",
            "25/01/16 17:12:18 WARN RowBasedKeyValueBatch: Calling spill() on RowBasedKeyValueBatch. Will not spill but return 0.\n",
            "25/01/16 17:12:18 WARN RowBasedKeyValueBatch: Calling spill() on RowBasedKeyValueBatch. Will not spill but return 0.\n",
            "25/01/16 17:12:18 WARN RowBasedKeyValueBatch: Calling spill() on RowBasedKeyValueBatch. Will not spill but return 0.\n",
            "25/01/16 17:12:18 WARN RowBasedKeyValueBatch: Calling spill() on RowBasedKeyValueBatch. Will not spill but return 0.\n",
            "25/01/16 17:12:18 WARN RowBasedKeyValueBatch: Calling spill() on RowBasedKeyValueBatch. Will not spill but return 0.\n",
            "25/01/16 17:12:18 WARN RowBasedKeyValueBatch: Calling spill() on RowBasedKeyValueBatch. Will not spill but return 0.\n",
            "25/01/16 17:12:18 WARN RowBasedKeyValueBatch: Calling spill() on RowBasedKeyValueBatch. Will not spill but return 0.\n",
            "25/01/16 17:12:18 WARN RowBasedKeyValueBatch: Calling spill() on RowBasedKeyValueBatch. Will not spill but return 0.\n",
            "[Stage 23:>                                                         (0 + 1) / 1]\r"
          ]
        },
        {
          "name": "stdout",
          "output_type": "stream",
          "text": [
            "+--------------+----------+------+----------+\n",
            "|       user_id|   book_id|rating| timestamp|\n",
            "+--------------+----------+------+----------+\n",
            "|A25DQKCOPNDCFC|000100039X|   5.0|1403049600|\n",
            "| A2W6WXEUAVM3E|000100039X|   5.0|1046304000|\n",
            "|A3GNW5MN7WN17J|000100039X|   5.0|1363392000|\n",
            "| AXGNUEMHIDGNA|000100039X|   5.0|1377734400|\n",
            "|A3AW2ZG0GP4SKN|000100039X|   5.0|1187827200|\n",
            "|A3HQ42E4TQE2QY|0001473123|   1.0|1364774400|\n",
            "|A1Z3P6UFJLTIF2|0001856871|   5.0|1336608000|\n",
            "|A35VAQCQ4U28V7|0002007770|   2.0|1327363200|\n",
            "|A2TXMYYGSZCSZ1|0002007770|   5.0|1235520000|\n",
            "| ATOEBBOWB6ZQJ|0002007770|   2.0|1273708800|\n",
            "+--------------+----------+------+----------+\n",
            "only showing top 10 rows\n",
            "\n"
          ]
        },
        {
          "name": "stderr",
          "output_type": "stream",
          "text": [
            "                                                                                \r"
          ]
        }
      ],
      "source": [
        "data.show(10)"
      ]
    },
    {
      "cell_type": "code",
      "execution_count": null,
      "metadata": {
        "id": "Ekc0-wVTSAkr",
        "outputId": "932450a3-7ef3-4fd6-da4d-20823f19a1ab"
      },
      "outputs": [
        {
          "data": {
            "text/plain": [
              "DataFrame[user_id: string, book_id: string, rating: double, timestamp: int]"
            ]
          },
          "execution_count": 15,
          "metadata": {},
          "output_type": "execute_result"
        }
      ],
      "source": [
        "data"
      ]
    },
    {
      "cell_type": "code",
      "execution_count": null,
      "metadata": {
        "id": "62kpl8GeSAkr",
        "outputId": "b2acf548-8f77-4543-b751-b73c88001e71"
      },
      "outputs": [
        {
          "name": "stderr",
          "output_type": "stream",
          "text": [
            "25/01/16 17:12:35 WARN RowBasedKeyValueBatch: Calling spill() on RowBasedKeyValueBatch. Will not spill but return 0.\n",
            "25/01/16 17:12:35 WARN RowBasedKeyValueBatch: Calling spill() on RowBasedKeyValueBatch. Will not spill but return 0.\n",
            "25/01/16 17:12:35 WARN RowBasedKeyValueBatch: Calling spill() on RowBasedKeyValueBatch. Will not spill but return 0.\n",
            "25/01/16 17:12:35 WARN RowBasedKeyValueBatch: Calling spill() on RowBasedKeyValueBatch. Will not spill but return 0.\n",
            "25/01/16 17:12:35 WARN RowBasedKeyValueBatch: Calling spill() on RowBasedKeyValueBatch. Will not spill but return 0.\n",
            "25/01/16 17:12:35 WARN RowBasedKeyValueBatch: Calling spill() on RowBasedKeyValueBatch. Will not spill but return 0.\n",
            "25/01/16 17:12:35 WARN RowBasedKeyValueBatch: Calling spill() on RowBasedKeyValueBatch. Will not spill but return 0.\n",
            "25/01/16 17:12:35 WARN RowBasedKeyValueBatch: Calling spill() on RowBasedKeyValueBatch. Will not spill but return 0.\n",
            "25/01/16 17:12:35 WARN RowBasedKeyValueBatch: Calling spill() on RowBasedKeyValueBatch. Will not spill but return 0.\n",
            "25/01/16 17:12:35 WARN RowBasedKeyValueBatch: Calling spill() on RowBasedKeyValueBatch. Will not spill but return 0.\n",
            "25/01/16 17:12:35 WARN RowBasedKeyValueBatch: Calling spill() on RowBasedKeyValueBatch. Will not spill but return 0.\n",
            "25/01/16 17:12:35 WARN RowBasedKeyValueBatch: Calling spill() on RowBasedKeyValueBatch. Will not spill but return 0.\n",
            "25/01/16 17:12:36 WARN RowBasedKeyValueBatch: Calling spill() on RowBasedKeyValueBatch. Will not spill but return 0.\n",
            "25/01/16 17:12:36 WARN RowBasedKeyValueBatch: Calling spill() on RowBasedKeyValueBatch. Will not spill but return 0.\n",
            "25/01/16 17:12:36 WARN RowBasedKeyValueBatch: Calling spill() on RowBasedKeyValueBatch. Will not spill but return 0.\n",
            "25/01/16 17:12:36 WARN RowBasedKeyValueBatch: Calling spill() on RowBasedKeyValueBatch. Will not spill but return 0.\n",
            "25/01/16 17:12:36 WARN RowBasedKeyValueBatch: Calling spill() on RowBasedKeyValueBatch. Will not spill but return 0.\n",
            "25/01/16 17:12:36 WARN RowBasedKeyValueBatch: Calling spill() on RowBasedKeyValueBatch. Will not spill but return 0.\n",
            "25/01/16 17:12:36 WARN RowBasedKeyValueBatch: Calling spill() on RowBasedKeyValueBatch. Will not spill but return 0.\n",
            "25/01/16 17:12:36 WARN RowBasedKeyValueBatch: Calling spill() on RowBasedKeyValueBatch. Will not spill but return 0.\n",
            "25/01/16 17:12:36 WARN RowBasedKeyValueBatch: Calling spill() on RowBasedKeyValueBatch. Will not spill but return 0.\n",
            "25/01/16 17:12:36 WARN RowBasedKeyValueBatch: Calling spill() on RowBasedKeyValueBatch. Will not spill but return 0.\n",
            "25/01/16 17:12:37 WARN RowBasedKeyValueBatch: Calling spill() on RowBasedKeyValueBatch. Will not spill but return 0.\n",
            "25/01/16 17:12:37 WARN RowBasedKeyValueBatch: Calling spill() on RowBasedKeyValueBatch. Will not spill but return 0.\n",
            "25/01/16 17:12:38 WARN RowBasedKeyValueBatch: Calling spill() on RowBasedKeyValueBatch. Will not spill but return 0.\n",
            "25/01/16 17:12:38 WARN RowBasedKeyValueBatch: Calling spill() on RowBasedKeyValueBatch. Will not spill but return 0.\n",
            "25/01/16 17:12:38 WARN RowBasedKeyValueBatch: Calling spill() on RowBasedKeyValueBatch. Will not spill but return 0.\n",
            "25/01/16 17:12:38 WARN RowBasedKeyValueBatch: Calling spill() on RowBasedKeyValueBatch. Will not spill but return 0.\n",
            "25/01/16 17:12:38 WARN RowBasedKeyValueBatch: Calling spill() on RowBasedKeyValueBatch. Will not spill but return 0.\n",
            "25/01/16 17:12:38 WARN RowBasedKeyValueBatch: Calling spill() on RowBasedKeyValueBatch. Will not spill but return 0.\n",
            "25/01/16 17:12:38 WARN RowBasedKeyValueBatch: Calling spill() on RowBasedKeyValueBatch. Will not spill but return 0.\n",
            "25/01/16 17:12:38 WARN RowBasedKeyValueBatch: Calling spill() on RowBasedKeyValueBatch. Will not spill but return 0.\n",
            "25/01/16 17:12:38 WARN RowBasedKeyValueBatch: Calling spill() on RowBasedKeyValueBatch. Will not spill but return 0.\n",
            "25/01/16 17:12:38 WARN RowBasedKeyValueBatch: Calling spill() on RowBasedKeyValueBatch. Will not spill but return 0.\n",
            "25/01/16 17:12:38 WARN RowBasedKeyValueBatch: Calling spill() on RowBasedKeyValueBatch. Will not spill but return 0.\n",
            "25/01/16 17:12:38 WARN RowBasedKeyValueBatch: Calling spill() on RowBasedKeyValueBatch. Will not spill but return 0.\n",
            "25/01/16 17:12:39 WARN RowBasedKeyValueBatch: Calling spill() on RowBasedKeyValueBatch. Will not spill but return 0.\n",
            "25/01/16 17:12:39 WARN RowBasedKeyValueBatch: Calling spill() on RowBasedKeyValueBatch. Will not spill but return 0.\n",
            "25/01/16 17:12:39 WARN RowBasedKeyValueBatch: Calling spill() on RowBasedKeyValueBatch. Will not spill but return 0.\n",
            "25/01/16 17:12:39 WARN RowBasedKeyValueBatch: Calling spill() on RowBasedKeyValueBatch. Will not spill but return 0.\n",
            "25/01/16 17:12:39 WARN RowBasedKeyValueBatch: Calling spill() on RowBasedKeyValueBatch. Will not spill but return 0.\n",
            "25/01/16 17:12:39 WARN RowBasedKeyValueBatch: Calling spill() on RowBasedKeyValueBatch. Will not spill but return 0.\n",
            "25/01/16 17:12:39 WARN RowBasedKeyValueBatch: Calling spill() on RowBasedKeyValueBatch. Will not spill but return 0.\n",
            "25/01/16 17:12:39 WARN RowBasedKeyValueBatch: Calling spill() on RowBasedKeyValueBatch. Will not spill but return 0.\n",
            "25/01/16 17:12:39 WARN RowBasedKeyValueBatch: Calling spill() on RowBasedKeyValueBatch. Will not spill but return 0.\n",
            "25/01/16 17:12:40 WARN RowBasedKeyValueBatch: Calling spill() on RowBasedKeyValueBatch. Will not spill but return 0.\n",
            "25/01/16 17:12:40 WARN RowBasedKeyValueBatch: Calling spill() on RowBasedKeyValueBatch. Will not spill but return 0.\n",
            "25/01/16 17:12:40 WARN RowBasedKeyValueBatch: Calling spill() on RowBasedKeyValueBatch. Will not spill but return 0.\n",
            "25/01/16 17:12:41 WARN RowBasedKeyValueBatch: Calling spill() on RowBasedKeyValueBatch. Will not spill but return 0.\n",
            "25/01/16 17:12:41 WARN RowBasedKeyValueBatch: Calling spill() on RowBasedKeyValueBatch. Will not spill but return 0.\n",
            "25/01/16 17:12:41 WARN RowBasedKeyValueBatch: Calling spill() on RowBasedKeyValueBatch. Will not spill but return 0.\n",
            "25/01/16 17:12:41 WARN RowBasedKeyValueBatch: Calling spill() on RowBasedKeyValueBatch. Will not spill but return 0.\n",
            "25/01/16 17:12:41 WARN RowBasedKeyValueBatch: Calling spill() on RowBasedKeyValueBatch. Will not spill but return 0.\n",
            "25/01/16 17:12:41 WARN RowBasedKeyValueBatch: Calling spill() on RowBasedKeyValueBatch. Will not spill but return 0.\n",
            "25/01/16 17:12:41 WARN RowBasedKeyValueBatch: Calling spill() on RowBasedKeyValueBatch. Will not spill but return 0.\n",
            "25/01/16 17:12:41 WARN RowBasedKeyValueBatch: Calling spill() on RowBasedKeyValueBatch. Will not spill but return 0.\n",
            "25/01/16 17:12:41 WARN RowBasedKeyValueBatch: Calling spill() on RowBasedKeyValueBatch. Will not spill but return 0.\n",
            "25/01/16 17:12:41 WARN RowBasedKeyValueBatch: Calling spill() on RowBasedKeyValueBatch. Will not spill but return 0.\n",
            "25/01/16 17:12:41 WARN RowBasedKeyValueBatch: Calling spill() on RowBasedKeyValueBatch. Will not spill but return 0.\n",
            "25/01/16 17:12:41 WARN RowBasedKeyValueBatch: Calling spill() on RowBasedKeyValueBatch. Will not spill but return 0.\n",
            "25/01/16 17:12:42 WARN RowBasedKeyValueBatch: Calling spill() on RowBasedKeyValueBatch. Will not spill but return 0.\n",
            "25/01/16 17:12:42 WARN RowBasedKeyValueBatch: Calling spill() on RowBasedKeyValueBatch. Will not spill but return 0.\n",
            "25/01/16 17:12:42 WARN RowBasedKeyValueBatch: Calling spill() on RowBasedKeyValueBatch. Will not spill but return 0.\n",
            "25/01/16 17:12:42 WARN RowBasedKeyValueBatch: Calling spill() on RowBasedKeyValueBatch. Will not spill but return 0.\n",
            "25/01/16 17:12:42 WARN RowBasedKeyValueBatch: Calling spill() on RowBasedKeyValueBatch. Will not spill but return 0.\n",
            "25/01/16 17:12:42 WARN RowBasedKeyValueBatch: Calling spill() on RowBasedKeyValueBatch. Will not spill but return 0.\n",
            "25/01/16 17:12:42 WARN RowBasedKeyValueBatch: Calling spill() on RowBasedKeyValueBatch. Will not spill but return 0.\n",
            "25/01/16 17:12:42 WARN RowBasedKeyValueBatch: Calling spill() on RowBasedKeyValueBatch. Will not spill but return 0.\n",
            "25/01/16 17:12:43 WARN RowBasedKeyValueBatch: Calling spill() on RowBasedKeyValueBatch. Will not spill but return 0.\n",
            "25/01/16 17:12:43 WARN RowBasedKeyValueBatch: Calling spill() on RowBasedKeyValueBatch. Will not spill but return 0.\n",
            "25/01/16 17:12:43 WARN RowBasedKeyValueBatch: Calling spill() on RowBasedKeyValueBatch. Will not spill but return 0.\n",
            "25/01/16 17:12:43 WARN RowBasedKeyValueBatch: Calling spill() on RowBasedKeyValueBatch. Will not spill but return 0.\n",
            "25/01/16 17:12:43 WARN RowBasedKeyValueBatch: Calling spill() on RowBasedKeyValueBatch. Will not spill but return 0.\n",
            "25/01/16 17:12:43 WARN RowBasedKeyValueBatch: Calling spill() on RowBasedKeyValueBatch. Will not spill but return 0.\n",
            "25/01/16 17:12:43 WARN RowBasedKeyValueBatch: Calling spill() on RowBasedKeyValueBatch. Will not spill but return 0.\n",
            "25/01/16 17:12:44 WARN RowBasedKeyValueBatch: Calling spill() on RowBasedKeyValueBatch. Will not spill but return 0.\n",
            "25/01/16 17:12:44 WARN RowBasedKeyValueBatch: Calling spill() on RowBasedKeyValueBatch. Will not spill but return 0.\n",
            "25/01/16 17:12:44 WARN RowBasedKeyValueBatch: Calling spill() on RowBasedKeyValueBatch. Will not spill but return 0.\n",
            "25/01/16 17:12:44 WARN RowBasedKeyValueBatch: Calling spill() on RowBasedKeyValueBatch. Will not spill but return 0.\n",
            "25/01/16 17:12:44 WARN RowBasedKeyValueBatch: Calling spill() on RowBasedKeyValueBatch. Will not spill but return 0.\n",
            "25/01/16 17:12:44 WARN RowBasedKeyValueBatch: Calling spill() on RowBasedKeyValueBatch. Will not spill but return 0.\n",
            "25/01/16 17:12:50 WARN RowBasedKeyValueBatch: Calling spill() on RowBasedKeyValueBatch. Will not spill but return 0.\n",
            "25/01/16 17:12:50 WARN RowBasedKeyValueBatch: Calling spill() on RowBasedKeyValueBatch. Will not spill but return 0.\n",
            "25/01/16 17:12:50 WARN RowBasedKeyValueBatch: Calling spill() on RowBasedKeyValueBatch. Will not spill but return 0.\n",
            "25/01/16 17:12:50 WARN RowBasedKeyValueBatch: Calling spill() on RowBasedKeyValueBatch. Will not spill but return 0.\n",
            "25/01/16 17:12:50 WARN RowBasedKeyValueBatch: Calling spill() on RowBasedKeyValueBatch. Will not spill but return 0.\n",
            "25/01/16 17:12:50 WARN RowBasedKeyValueBatch: Calling spill() on RowBasedKeyValueBatch. Will not spill but return 0.\n",
            "25/01/16 17:12:50 WARN RowBasedKeyValueBatch: Calling spill() on RowBasedKeyValueBatch. Will not spill but return 0.\n",
            "25/01/16 17:12:50 WARN RowBasedKeyValueBatch: Calling spill() on RowBasedKeyValueBatch. Will not spill but return 0.\n",
            "25/01/16 17:12:50 WARN RowBasedKeyValueBatch: Calling spill() on RowBasedKeyValueBatch. Will not spill but return 0.\n",
            "25/01/16 17:12:51 WARN RowBasedKeyValueBatch: Calling spill() on RowBasedKeyValueBatch. Will not spill but return 0.\n",
            "25/01/16 17:12:51 WARN RowBasedKeyValueBatch: Calling spill() on RowBasedKeyValueBatch. Will not spill but return 0.\n",
            "25/01/16 17:12:51 WARN RowBasedKeyValueBatch: Calling spill() on RowBasedKeyValueBatch. Will not spill but return 0.\n",
            "25/01/16 17:12:51 WARN RowBasedKeyValueBatch: Calling spill() on RowBasedKeyValueBatch. Will not spill but return 0.\n",
            "25/01/16 17:12:51 WARN RowBasedKeyValueBatch: Calling spill() on RowBasedKeyValueBatch. Will not spill but return 0.\n",
            "25/01/16 17:12:51 WARN RowBasedKeyValueBatch: Calling spill() on RowBasedKeyValueBatch. Will not spill but return 0.\n",
            "25/01/16 17:12:51 WARN RowBasedKeyValueBatch: Calling spill() on RowBasedKeyValueBatch. Will not spill but return 0.\n",
            "25/01/16 17:12:51 WARN RowBasedKeyValueBatch: Calling spill() on RowBasedKeyValueBatch. Will not spill but return 0.\n",
            "25/01/16 17:12:51 WARN RowBasedKeyValueBatch: Calling spill() on RowBasedKeyValueBatch. Will not spill but return 0.\n",
            "25/01/16 17:12:51 WARN RowBasedKeyValueBatch: Calling spill() on RowBasedKeyValueBatch. Will not spill but return 0.\n",
            "25/01/16 17:12:51 WARN RowBasedKeyValueBatch: Calling spill() on RowBasedKeyValueBatch. Will not spill but return 0.\n",
            "25/01/16 17:12:51 WARN RowBasedKeyValueBatch: Calling spill() on RowBasedKeyValueBatch. Will not spill but return 0.\n",
            "25/01/16 17:12:51 WARN RowBasedKeyValueBatch: Calling spill() on RowBasedKeyValueBatch. Will not spill but return 0.\n",
            "25/01/16 17:12:51 WARN RowBasedKeyValueBatch: Calling spill() on RowBasedKeyValueBatch. Will not spill but return 0.\n",
            "25/01/16 17:12:51 WARN RowBasedKeyValueBatch: Calling spill() on RowBasedKeyValueBatch. Will not spill but return 0.\n",
            "25/01/16 17:12:51 WARN RowBasedKeyValueBatch: Calling spill() on RowBasedKeyValueBatch. Will not spill but return 0.\n",
            "25/01/16 17:12:51 WARN RowBasedKeyValueBatch: Calling spill() on RowBasedKeyValueBatch. Will not spill but return 0.\n",
            "25/01/16 17:12:51 WARN RowBasedKeyValueBatch: Calling spill() on RowBasedKeyValueBatch. Will not spill but return 0.\n",
            "25/01/16 17:12:51 WARN RowBasedKeyValueBatch: Calling spill() on RowBasedKeyValueBatch. Will not spill but return 0.\n",
            "25/01/16 17:12:52 WARN RowBasedKeyValueBatch: Calling spill() on RowBasedKeyValueBatch. Will not spill but return 0.\n",
            "25/01/16 17:12:52 WARN RowBasedKeyValueBatch: Calling spill() on RowBasedKeyValueBatch. Will not spill but return 0.\n",
            "25/01/16 17:12:52 WARN RowBasedKeyValueBatch: Calling spill() on RowBasedKeyValueBatch. Will not spill but return 0.\n",
            "25/01/16 17:12:52 WARN RowBasedKeyValueBatch: Calling spill() on RowBasedKeyValueBatch. Will not spill but return 0.\n",
            "25/01/16 17:12:52 WARN RowBasedKeyValueBatch: Calling spill() on RowBasedKeyValueBatch. Will not spill but return 0.\n",
            "25/01/16 17:12:52 WARN RowBasedKeyValueBatch: Calling spill() on RowBasedKeyValueBatch. Will not spill but return 0.\n",
            "25/01/16 17:12:52 WARN RowBasedKeyValueBatch: Calling spill() on RowBasedKeyValueBatch. Will not spill but return 0.\n",
            "25/01/16 17:12:52 WARN RowBasedKeyValueBatch: Calling spill() on RowBasedKeyValueBatch. Will not spill but return 0.\n",
            "25/01/16 17:12:52 WARN RowBasedKeyValueBatch: Calling spill() on RowBasedKeyValueBatch. Will not spill but return 0.\n",
            "25/01/16 17:12:52 WARN RowBasedKeyValueBatch: Calling spill() on RowBasedKeyValueBatch. Will not spill but return 0.\n",
            "25/01/16 17:12:52 WARN RowBasedKeyValueBatch: Calling spill() on RowBasedKeyValueBatch. Will not spill but return 0.\n",
            "25/01/16 17:12:52 WARN RowBasedKeyValueBatch: Calling spill() on RowBasedKeyValueBatch. Will not spill but return 0.\n",
            "25/01/16 17:12:52 WARN RowBasedKeyValueBatch: Calling spill() on RowBasedKeyValueBatch. Will not spill but return 0.\n",
            "25/01/16 17:12:52 WARN RowBasedKeyValueBatch: Calling spill() on RowBasedKeyValueBatch. Will not spill but return 0.\n",
            "25/01/16 17:12:52 WARN RowBasedKeyValueBatch: Calling spill() on RowBasedKeyValueBatch. Will not spill but return 0.\n",
            "25/01/16 17:12:52 WARN RowBasedKeyValueBatch: Calling spill() on RowBasedKeyValueBatch. Will not spill but return 0.\n",
            "25/01/16 17:12:52 WARN RowBasedKeyValueBatch: Calling spill() on RowBasedKeyValueBatch. Will not spill but return 0.\n",
            "25/01/16 17:12:52 WARN RowBasedKeyValueBatch: Calling spill() on RowBasedKeyValueBatch. Will not spill but return 0.\n",
            "25/01/16 17:12:52 WARN RowBasedKeyValueBatch: Calling spill() on RowBasedKeyValueBatch. Will not spill but return 0.\n",
            "25/01/16 17:12:52 WARN RowBasedKeyValueBatch: Calling spill() on RowBasedKeyValueBatch. Will not spill but return 0.\n",
            "25/01/16 17:12:53 WARN RowBasedKeyValueBatch: Calling spill() on RowBasedKeyValueBatch. Will not spill but return 0.\n",
            "25/01/16 17:12:53 WARN RowBasedKeyValueBatch: Calling spill() on RowBasedKeyValueBatch. Will not spill but return 0.\n",
            "25/01/16 17:12:53 WARN RowBasedKeyValueBatch: Calling spill() on RowBasedKeyValueBatch. Will not spill but return 0.\n",
            "25/01/16 17:12:53 WARN RowBasedKeyValueBatch: Calling spill() on RowBasedKeyValueBatch. Will not spill but return 0.\n",
            "25/01/16 17:12:53 WARN RowBasedKeyValueBatch: Calling spill() on RowBasedKeyValueBatch. Will not spill but return 0.\n",
            "25/01/16 17:12:53 WARN RowBasedKeyValueBatch: Calling spill() on RowBasedKeyValueBatch. Will not spill but return 0.\n",
            "25/01/16 17:12:53 WARN RowBasedKeyValueBatch: Calling spill() on RowBasedKeyValueBatch. Will not spill but return 0.\n",
            "25/01/16 17:12:53 WARN RowBasedKeyValueBatch: Calling spill() on RowBasedKeyValueBatch. Will not spill but return 0.\n",
            "25/01/16 17:12:53 WARN RowBasedKeyValueBatch: Calling spill() on RowBasedKeyValueBatch. Will not spill but return 0.\n",
            "25/01/16 17:12:53 WARN RowBasedKeyValueBatch: Calling spill() on RowBasedKeyValueBatch. Will not spill but return 0.\n",
            "25/01/16 17:12:53 WARN RowBasedKeyValueBatch: Calling spill() on RowBasedKeyValueBatch. Will not spill but return 0.\n",
            "25/01/16 17:12:53 WARN RowBasedKeyValueBatch: Calling spill() on RowBasedKeyValueBatch. Will not spill but return 0.\n",
            "25/01/16 17:12:53 WARN RowBasedKeyValueBatch: Calling spill() on RowBasedKeyValueBatch. Will not spill but return 0.\n",
            "25/01/16 17:12:53 WARN RowBasedKeyValueBatch: Calling spill() on RowBasedKeyValueBatch. Will not spill but return 0.\n",
            "25/01/16 17:12:53 WARN RowBasedKeyValueBatch: Calling spill() on RowBasedKeyValueBatch. Will not spill but return 0.\n",
            "25/01/16 17:12:53 WARN RowBasedKeyValueBatch: Calling spill() on RowBasedKeyValueBatch. Will not spill but return 0.\n",
            "25/01/16 17:12:53 WARN RowBasedKeyValueBatch: Calling spill() on RowBasedKeyValueBatch. Will not spill but return 0.\n",
            "25/01/16 17:12:53 WARN RowBasedKeyValueBatch: Calling spill() on RowBasedKeyValueBatch. Will not spill but return 0.\n",
            "25/01/16 17:12:53 WARN RowBasedKeyValueBatch: Calling spill() on RowBasedKeyValueBatch. Will not spill but return 0.\n",
            "25/01/16 17:12:53 WARN RowBasedKeyValueBatch: Calling spill() on RowBasedKeyValueBatch. Will not spill but return 0.\n",
            "25/01/16 17:12:53 WARN RowBasedKeyValueBatch: Calling spill() on RowBasedKeyValueBatch. Will not spill but return 0.\n",
            "25/01/16 17:12:53 WARN RowBasedKeyValueBatch: Calling spill() on RowBasedKeyValueBatch. Will not spill but return 0.\n",
            "25/01/16 17:12:54 WARN RowBasedKeyValueBatch: Calling spill() on RowBasedKeyValueBatch. Will not spill but return 0.\n",
            "25/01/16 17:12:54 WARN RowBasedKeyValueBatch: Calling spill() on RowBasedKeyValueBatch. Will not spill but return 0.\n",
            "                                                                                \r"
          ]
        },
        {
          "data": {
            "text/plain": [
              "22502155"
            ]
          },
          "execution_count": 16,
          "metadata": {},
          "output_type": "execute_result"
        }
      ],
      "source": [
        "data.count()"
      ]
    },
    {
      "cell_type": "code",
      "execution_count": null,
      "metadata": {
        "id": "YGS_tqQhSAks",
        "outputId": "25319592-fd94-47c1-a6fb-e9ffc121685d"
      },
      "outputs": [
        {
          "name": "stderr",
          "output_type": "stream",
          "text": [
            "25/01/16 17:12:58 WARN RowBasedKeyValueBatch: Calling spill() on RowBasedKeyValueBatch. Will not spill but return 0.\n",
            "25/01/16 17:12:58 WARN RowBasedKeyValueBatch: Calling spill() on RowBasedKeyValueBatch. Will not spill but return 0.\n",
            "25/01/16 17:12:58 WARN RowBasedKeyValueBatch: Calling spill() on RowBasedKeyValueBatch. Will not spill but return 0.\n",
            "25/01/16 17:12:58 WARN RowBasedKeyValueBatch: Calling spill() on RowBasedKeyValueBatch. Will not spill but return 0.\n",
            "25/01/16 17:12:58 WARN RowBasedKeyValueBatch: Calling spill() on RowBasedKeyValueBatch. Will not spill but return 0.\n",
            "25/01/16 17:12:58 WARN RowBasedKeyValueBatch: Calling spill() on RowBasedKeyValueBatch. Will not spill but return 0.\n",
            "25/01/16 17:12:58 WARN RowBasedKeyValueBatch: Calling spill() on RowBasedKeyValueBatch. Will not spill but return 0.\n",
            "25/01/16 17:12:58 WARN RowBasedKeyValueBatch: Calling spill() on RowBasedKeyValueBatch. Will not spill but return 0.\n",
            "25/01/16 17:12:58 WARN RowBasedKeyValueBatch: Calling spill() on RowBasedKeyValueBatch. Will not spill but return 0.\n",
            "25/01/16 17:12:58 WARN RowBasedKeyValueBatch: Calling spill() on RowBasedKeyValueBatch. Will not spill but return 0.\n",
            "25/01/16 17:12:58 WARN RowBasedKeyValueBatch: Calling spill() on RowBasedKeyValueBatch. Will not spill but return 0.\n",
            "25/01/16 17:12:58 WARN RowBasedKeyValueBatch: Calling spill() on RowBasedKeyValueBatch. Will not spill but return 0.\n",
            "25/01/16 17:13:00 WARN RowBasedKeyValueBatch: Calling spill() on RowBasedKeyValueBatch. Will not spill but return 0.\n",
            "25/01/16 17:13:00 WARN RowBasedKeyValueBatch: Calling spill() on RowBasedKeyValueBatch. Will not spill but return 0.\n",
            "25/01/16 17:13:00 WARN RowBasedKeyValueBatch: Calling spill() on RowBasedKeyValueBatch. Will not spill but return 0.\n",
            "25/01/16 17:13:00 WARN RowBasedKeyValueBatch: Calling spill() on RowBasedKeyValueBatch. Will not spill but return 0.\n",
            "25/01/16 17:13:00 WARN RowBasedKeyValueBatch: Calling spill() on RowBasedKeyValueBatch. Will not spill but return 0.\n",
            "25/01/16 17:13:00 WARN RowBasedKeyValueBatch: Calling spill() on RowBasedKeyValueBatch. Will not spill but return 0.\n",
            "25/01/16 17:13:00 WARN RowBasedKeyValueBatch: Calling spill() on RowBasedKeyValueBatch. Will not spill but return 0.\n",
            "25/01/16 17:13:00 WARN RowBasedKeyValueBatch: Calling spill() on RowBasedKeyValueBatch. Will not spill but return 0.\n",
            "25/01/16 17:13:00 WARN RowBasedKeyValueBatch: Calling spill() on RowBasedKeyValueBatch. Will not spill but return 0.\n",
            "25/01/16 17:13:00 WARN RowBasedKeyValueBatch: Calling spill() on RowBasedKeyValueBatch. Will not spill but return 0.\n",
            "25/01/16 17:13:00 WARN RowBasedKeyValueBatch: Calling spill() on RowBasedKeyValueBatch. Will not spill but return 0.\n",
            "25/01/16 17:13:00 WARN RowBasedKeyValueBatch: Calling spill() on RowBasedKeyValueBatch. Will not spill but return 0.\n",
            "25/01/16 17:13:01 WARN RowBasedKeyValueBatch: Calling spill() on RowBasedKeyValueBatch. Will not spill but return 0.\n",
            "25/01/16 17:13:01 WARN RowBasedKeyValueBatch: Calling spill() on RowBasedKeyValueBatch. Will not spill but return 0.\n",
            "25/01/16 17:13:01 WARN RowBasedKeyValueBatch: Calling spill() on RowBasedKeyValueBatch. Will not spill but return 0.\n",
            "25/01/16 17:13:01 WARN RowBasedKeyValueBatch: Calling spill() on RowBasedKeyValueBatch. Will not spill but return 0.\n",
            "25/01/16 17:13:01 WARN RowBasedKeyValueBatch: Calling spill() on RowBasedKeyValueBatch. Will not spill but return 0.\n",
            "25/01/16 17:13:01 WARN RowBasedKeyValueBatch: Calling spill() on RowBasedKeyValueBatch. Will not spill but return 0.\n",
            "25/01/16 17:13:01 WARN RowBasedKeyValueBatch: Calling spill() on RowBasedKeyValueBatch. Will not spill but return 0.\n",
            "25/01/16 17:13:01 WARN RowBasedKeyValueBatch: Calling spill() on RowBasedKeyValueBatch. Will not spill but return 0.\n",
            "25/01/16 17:13:01 WARN RowBasedKeyValueBatch: Calling spill() on RowBasedKeyValueBatch. Will not spill but return 0.\n",
            "25/01/16 17:13:01 WARN RowBasedKeyValueBatch: Calling spill() on RowBasedKeyValueBatch. Will not spill but return 0.\n",
            "25/01/16 17:13:01 WARN RowBasedKeyValueBatch: Calling spill() on RowBasedKeyValueBatch. Will not spill but return 0.\n",
            "25/01/16 17:13:02 WARN RowBasedKeyValueBatch: Calling spill() on RowBasedKeyValueBatch. Will not spill but return 0.\n",
            "25/01/16 17:13:02 WARN RowBasedKeyValueBatch: Calling spill() on RowBasedKeyValueBatch. Will not spill but return 0.\n",
            "25/01/16 17:13:02 WARN RowBasedKeyValueBatch: Calling spill() on RowBasedKeyValueBatch. Will not spill but return 0.\n",
            "25/01/16 17:13:02 WARN RowBasedKeyValueBatch: Calling spill() on RowBasedKeyValueBatch. Will not spill but return 0.\n",
            "25/01/16 17:13:03 WARN RowBasedKeyValueBatch: Calling spill() on RowBasedKeyValueBatch. Will not spill but return 0.\n",
            "25/01/16 17:13:03 WARN RowBasedKeyValueBatch: Calling spill() on RowBasedKeyValueBatch. Will not spill but return 0.\n",
            "25/01/16 17:13:03 WARN RowBasedKeyValueBatch: Calling spill() on RowBasedKeyValueBatch. Will not spill but return 0.\n",
            "25/01/16 17:13:03 WARN RowBasedKeyValueBatch: Calling spill() on RowBasedKeyValueBatch. Will not spill but return 0.\n",
            "25/01/16 17:13:03 WARN RowBasedKeyValueBatch: Calling spill() on RowBasedKeyValueBatch. Will not spill but return 0.\n",
            "25/01/16 17:13:03 WARN RowBasedKeyValueBatch: Calling spill() on RowBasedKeyValueBatch. Will not spill but return 0.\n",
            "25/01/16 17:13:03 WARN RowBasedKeyValueBatch: Calling spill() on RowBasedKeyValueBatch. Will not spill but return 0.\n",
            "25/01/16 17:13:03 WARN RowBasedKeyValueBatch: Calling spill() on RowBasedKeyValueBatch. Will not spill but return 0.\n",
            "25/01/16 17:13:03 WARN RowBasedKeyValueBatch: Calling spill() on RowBasedKeyValueBatch. Will not spill but return 0.\n",
            "25/01/16 17:13:04 WARN RowBasedKeyValueBatch: Calling spill() on RowBasedKeyValueBatch. Will not spill but return 0.\n",
            "25/01/16 17:13:04 WARN RowBasedKeyValueBatch: Calling spill() on RowBasedKeyValueBatch. Will not spill but return 0.\n",
            "25/01/16 17:13:04 WARN RowBasedKeyValueBatch: Calling spill() on RowBasedKeyValueBatch. Will not spill but return 0.\n",
            "25/01/16 17:13:04 WARN RowBasedKeyValueBatch: Calling spill() on RowBasedKeyValueBatch. Will not spill but return 0.\n",
            "25/01/16 17:13:04 WARN RowBasedKeyValueBatch: Calling spill() on RowBasedKeyValueBatch. Will not spill but return 0.\n",
            "25/01/16 17:13:04 WARN RowBasedKeyValueBatch: Calling spill() on RowBasedKeyValueBatch. Will not spill but return 0.\n",
            "25/01/16 17:13:04 WARN RowBasedKeyValueBatch: Calling spill() on RowBasedKeyValueBatch. Will not spill but return 0.\n",
            "25/01/16 17:13:04 WARN RowBasedKeyValueBatch: Calling spill() on RowBasedKeyValueBatch. Will not spill but return 0.\n",
            "25/01/16 17:13:04 WARN RowBasedKeyValueBatch: Calling spill() on RowBasedKeyValueBatch. Will not spill but return 0.\n",
            "25/01/16 17:13:04 WARN RowBasedKeyValueBatch: Calling spill() on RowBasedKeyValueBatch. Will not spill but return 0.\n",
            "25/01/16 17:13:04 WARN RowBasedKeyValueBatch: Calling spill() on RowBasedKeyValueBatch. Will not spill but return 0.\n",
            "25/01/16 17:13:05 WARN RowBasedKeyValueBatch: Calling spill() on RowBasedKeyValueBatch. Will not spill but return 0.\n",
            "25/01/16 17:13:05 WARN RowBasedKeyValueBatch: Calling spill() on RowBasedKeyValueBatch. Will not spill but return 0.\n",
            "25/01/16 17:13:05 WARN RowBasedKeyValueBatch: Calling spill() on RowBasedKeyValueBatch. Will not spill but return 0.\n",
            "25/01/16 17:13:05 WARN RowBasedKeyValueBatch: Calling spill() on RowBasedKeyValueBatch. Will not spill but return 0.\n",
            "25/01/16 17:13:06 WARN RowBasedKeyValueBatch: Calling spill() on RowBasedKeyValueBatch. Will not spill but return 0.\n",
            "25/01/16 17:13:06 WARN RowBasedKeyValueBatch: Calling spill() on RowBasedKeyValueBatch. Will not spill but return 0.\n",
            "25/01/16 17:13:06 WARN RowBasedKeyValueBatch: Calling spill() on RowBasedKeyValueBatch. Will not spill but return 0.\n",
            "25/01/16 17:13:06 WARN RowBasedKeyValueBatch: Calling spill() on RowBasedKeyValueBatch. Will not spill but return 0.\n",
            "25/01/16 17:13:06 WARN RowBasedKeyValueBatch: Calling spill() on RowBasedKeyValueBatch. Will not spill but return 0.\n",
            "25/01/16 17:13:06 WARN RowBasedKeyValueBatch: Calling spill() on RowBasedKeyValueBatch. Will not spill but return 0.\n",
            "25/01/16 17:13:06 WARN RowBasedKeyValueBatch: Calling spill() on RowBasedKeyValueBatch. Will not spill but return 0.\n",
            "25/01/16 17:13:06 WARN RowBasedKeyValueBatch: Calling spill() on RowBasedKeyValueBatch. Will not spill but return 0.\n",
            "25/01/16 17:13:06 WARN RowBasedKeyValueBatch: Calling spill() on RowBasedKeyValueBatch. Will not spill but return 0.\n",
            "25/01/16 17:13:07 WARN RowBasedKeyValueBatch: Calling spill() on RowBasedKeyValueBatch. Will not spill but return 0.\n",
            "25/01/16 17:13:07 WARN RowBasedKeyValueBatch: Calling spill() on RowBasedKeyValueBatch. Will not spill but return 0.\n",
            "25/01/16 17:13:07 WARN RowBasedKeyValueBatch: Calling spill() on RowBasedKeyValueBatch. Will not spill but return 0.\n",
            "25/01/16 17:13:07 WARN RowBasedKeyValueBatch: Calling spill() on RowBasedKeyValueBatch. Will not spill but return 0.\n",
            "25/01/16 17:13:07 WARN RowBasedKeyValueBatch: Calling spill() on RowBasedKeyValueBatch. Will not spill but return 0.\n",
            "25/01/16 17:13:07 WARN RowBasedKeyValueBatch: Calling spill() on RowBasedKeyValueBatch. Will not spill but return 0.\n",
            "25/01/16 17:13:07 WARN RowBasedKeyValueBatch: Calling spill() on RowBasedKeyValueBatch. Will not spill but return 0.\n",
            "25/01/16 17:13:07 WARN RowBasedKeyValueBatch: Calling spill() on RowBasedKeyValueBatch. Will not spill but return 0.\n",
            "25/01/16 17:13:07 WARN RowBasedKeyValueBatch: Calling spill() on RowBasedKeyValueBatch. Will not spill but return 0.\n",
            "25/01/16 17:13:08 WARN RowBasedKeyValueBatch: Calling spill() on RowBasedKeyValueBatch. Will not spill but return 0.\n",
            "25/01/16 17:13:14 WARN RowBasedKeyValueBatch: Calling spill() on RowBasedKeyValueBatch. Will not spill but return 0.\n",
            "25/01/16 17:13:14 WARN RowBasedKeyValueBatch: Calling spill() on RowBasedKeyValueBatch. Will not spill but return 0.\n",
            "25/01/16 17:13:14 WARN RowBasedKeyValueBatch: Calling spill() on RowBasedKeyValueBatch. Will not spill but return 0.\n",
            "25/01/16 17:13:14 WARN RowBasedKeyValueBatch: Calling spill() on RowBasedKeyValueBatch. Will not spill but return 0.\n",
            "25/01/16 17:13:14 WARN RowBasedKeyValueBatch: Calling spill() on RowBasedKeyValueBatch. Will not spill but return 0.\n",
            "25/01/16 17:13:14 WARN RowBasedKeyValueBatch: Calling spill() on RowBasedKeyValueBatch. Will not spill but return 0.\n",
            "25/01/16 17:13:14 WARN RowBasedKeyValueBatch: Calling spill() on RowBasedKeyValueBatch. Will not spill but return 0.\n",
            "25/01/16 17:13:14 WARN RowBasedKeyValueBatch: Calling spill() on RowBasedKeyValueBatch. Will not spill but return 0.\n",
            "25/01/16 17:13:14 WARN RowBasedKeyValueBatch: Calling spill() on RowBasedKeyValueBatch. Will not spill but return 0.\n",
            "25/01/16 17:13:14 WARN RowBasedKeyValueBatch: Calling spill() on RowBasedKeyValueBatch. Will not spill but return 0.\n",
            "25/01/16 17:13:14 WARN RowBasedKeyValueBatch: Calling spill() on RowBasedKeyValueBatch. Will not spill but return 0.\n",
            "25/01/16 17:13:14 WARN RowBasedKeyValueBatch: Calling spill() on RowBasedKeyValueBatch. Will not spill but return 0.\n",
            "25/01/16 17:13:15 WARN RowBasedKeyValueBatch: Calling spill() on RowBasedKeyValueBatch. Will not spill but return 0.\n",
            "25/01/16 17:13:15 WARN RowBasedKeyValueBatch: Calling spill() on RowBasedKeyValueBatch. Will not spill but return 0.\n",
            "25/01/16 17:13:15 WARN RowBasedKeyValueBatch: Calling spill() on RowBasedKeyValueBatch. Will not spill but return 0.\n",
            "25/01/16 17:13:15 WARN RowBasedKeyValueBatch: Calling spill() on RowBasedKeyValueBatch. Will not spill but return 0.\n",
            "25/01/16 17:13:15 WARN RowBasedKeyValueBatch: Calling spill() on RowBasedKeyValueBatch. Will not spill but return 0.\n",
            "25/01/16 17:13:15 WARN RowBasedKeyValueBatch: Calling spill() on RowBasedKeyValueBatch. Will not spill but return 0.\n",
            "25/01/16 17:13:15 WARN RowBasedKeyValueBatch: Calling spill() on RowBasedKeyValueBatch. Will not spill but return 0.\n",
            "25/01/16 17:13:15 WARN RowBasedKeyValueBatch: Calling spill() on RowBasedKeyValueBatch. Will not spill but return 0.\n",
            "25/01/16 17:13:15 WARN RowBasedKeyValueBatch: Calling spill() on RowBasedKeyValueBatch. Will not spill but return 0.\n",
            "25/01/16 17:13:15 WARN RowBasedKeyValueBatch: Calling spill() on RowBasedKeyValueBatch. Will not spill but return 0.\n",
            "25/01/16 17:13:15 WARN RowBasedKeyValueBatch: Calling spill() on RowBasedKeyValueBatch. Will not spill but return 0.\n",
            "25/01/16 17:13:15 WARN RowBasedKeyValueBatch: Calling spill() on RowBasedKeyValueBatch. Will not spill but return 0.\n",
            "25/01/16 17:13:15 WARN RowBasedKeyValueBatch: Calling spill() on RowBasedKeyValueBatch. Will not spill but return 0.\n",
            "25/01/16 17:13:15 WARN RowBasedKeyValueBatch: Calling spill() on RowBasedKeyValueBatch. Will not spill but return 0.\n",
            "25/01/16 17:13:15 WARN RowBasedKeyValueBatch: Calling spill() on RowBasedKeyValueBatch. Will not spill but return 0.\n",
            "25/01/16 17:13:15 WARN RowBasedKeyValueBatch: Calling spill() on RowBasedKeyValueBatch. Will not spill but return 0.\n",
            "25/01/16 17:13:15 WARN RowBasedKeyValueBatch: Calling spill() on RowBasedKeyValueBatch. Will not spill but return 0.\n",
            "25/01/16 17:13:15 WARN RowBasedKeyValueBatch: Calling spill() on RowBasedKeyValueBatch. Will not spill but return 0.\n",
            "25/01/16 17:13:15 WARN RowBasedKeyValueBatch: Calling spill() on RowBasedKeyValueBatch. Will not spill but return 0.\n",
            "25/01/16 17:13:15 WARN RowBasedKeyValueBatch: Calling spill() on RowBasedKeyValueBatch. Will not spill but return 0.\n",
            "25/01/16 17:13:15 WARN RowBasedKeyValueBatch: Calling spill() on RowBasedKeyValueBatch. Will not spill but return 0.\n",
            "25/01/16 17:13:15 WARN RowBasedKeyValueBatch: Calling spill() on RowBasedKeyValueBatch. Will not spill but return 0.\n",
            "25/01/16 17:13:15 WARN RowBasedKeyValueBatch: Calling spill() on RowBasedKeyValueBatch. Will not spill but return 0.\n",
            "25/01/16 17:13:15 WARN RowBasedKeyValueBatch: Calling spill() on RowBasedKeyValueBatch. Will not spill but return 0.\n",
            "25/01/16 17:13:16 WARN RowBasedKeyValueBatch: Calling spill() on RowBasedKeyValueBatch. Will not spill but return 0.\n",
            "25/01/16 17:13:16 WARN RowBasedKeyValueBatch: Calling spill() on RowBasedKeyValueBatch. Will not spill but return 0.\n",
            "25/01/16 17:13:16 WARN RowBasedKeyValueBatch: Calling spill() on RowBasedKeyValueBatch. Will not spill but return 0.\n",
            "25/01/16 17:13:16 WARN RowBasedKeyValueBatch: Calling spill() on RowBasedKeyValueBatch. Will not spill but return 0.\n",
            "25/01/16 17:13:16 WARN RowBasedKeyValueBatch: Calling spill() on RowBasedKeyValueBatch. Will not spill but return 0.\n",
            "25/01/16 17:13:16 WARN RowBasedKeyValueBatch: Calling spill() on RowBasedKeyValueBatch. Will not spill but return 0.\n",
            "25/01/16 17:13:16 WARN RowBasedKeyValueBatch: Calling spill() on RowBasedKeyValueBatch. Will not spill but return 0.\n",
            "25/01/16 17:13:16 WARN RowBasedKeyValueBatch: Calling spill() on RowBasedKeyValueBatch. Will not spill but return 0.\n",
            "25/01/16 17:13:16 WARN RowBasedKeyValueBatch: Calling spill() on RowBasedKeyValueBatch. Will not spill but return 0.\n",
            "25/01/16 17:13:16 WARN RowBasedKeyValueBatch: Calling spill() on RowBasedKeyValueBatch. Will not spill but return 0.\n",
            "25/01/16 17:13:16 WARN RowBasedKeyValueBatch: Calling spill() on RowBasedKeyValueBatch. Will not spill but return 0.\n",
            "25/01/16 17:13:16 WARN RowBasedKeyValueBatch: Calling spill() on RowBasedKeyValueBatch. Will not spill but return 0.\n",
            "25/01/16 17:13:16 WARN RowBasedKeyValueBatch: Calling spill() on RowBasedKeyValueBatch. Will not spill but return 0.\n",
            "25/01/16 17:13:16 WARN RowBasedKeyValueBatch: Calling spill() on RowBasedKeyValueBatch. Will not spill but return 0.\n",
            "25/01/16 17:13:16 WARN RowBasedKeyValueBatch: Calling spill() on RowBasedKeyValueBatch. Will not spill but return 0.\n",
            "25/01/16 17:13:16 WARN RowBasedKeyValueBatch: Calling spill() on RowBasedKeyValueBatch. Will not spill but return 0.\n",
            "25/01/16 17:13:16 WARN RowBasedKeyValueBatch: Calling spill() on RowBasedKeyValueBatch. Will not spill but return 0.\n",
            "25/01/16 17:13:16 WARN RowBasedKeyValueBatch: Calling spill() on RowBasedKeyValueBatch. Will not spill but return 0.\n",
            "25/01/16 17:13:16 WARN RowBasedKeyValueBatch: Calling spill() on RowBasedKeyValueBatch. Will not spill but return 0.\n",
            "25/01/16 17:13:16 WARN RowBasedKeyValueBatch: Calling spill() on RowBasedKeyValueBatch. Will not spill but return 0.\n",
            "25/01/16 17:13:16 WARN RowBasedKeyValueBatch: Calling spill() on RowBasedKeyValueBatch. Will not spill but return 0.\n",
            "25/01/16 17:13:16 WARN RowBasedKeyValueBatch: Calling spill() on RowBasedKeyValueBatch. Will not spill but return 0.\n",
            "25/01/16 17:13:17 WARN RowBasedKeyValueBatch: Calling spill() on RowBasedKeyValueBatch. Will not spill but return 0.\n",
            "25/01/16 17:13:17 WARN RowBasedKeyValueBatch: Calling spill() on RowBasedKeyValueBatch. Will not spill but return 0.\n",
            "25/01/16 17:13:17 WARN RowBasedKeyValueBatch: Calling spill() on RowBasedKeyValueBatch. Will not spill but return 0.\n",
            "25/01/16 17:13:17 WARN RowBasedKeyValueBatch: Calling spill() on RowBasedKeyValueBatch. Will not spill but return 0.\n",
            "25/01/16 17:13:17 WARN RowBasedKeyValueBatch: Calling spill() on RowBasedKeyValueBatch. Will not spill but return 0.\n",
            "25/01/16 17:13:17 WARN RowBasedKeyValueBatch: Calling spill() on RowBasedKeyValueBatch. Will not spill but return 0.\n",
            "25/01/16 17:13:17 WARN RowBasedKeyValueBatch: Calling spill() on RowBasedKeyValueBatch. Will not spill but return 0.\n",
            "25/01/16 17:13:17 WARN RowBasedKeyValueBatch: Calling spill() on RowBasedKeyValueBatch. Will not spill but return 0.\n",
            "25/01/16 17:13:17 WARN RowBasedKeyValueBatch: Calling spill() on RowBasedKeyValueBatch. Will not spill but return 0.\n",
            "25/01/16 17:13:17 WARN RowBasedKeyValueBatch: Calling spill() on RowBasedKeyValueBatch. Will not spill but return 0.\n",
            "25/01/16 17:13:17 WARN RowBasedKeyValueBatch: Calling spill() on RowBasedKeyValueBatch. Will not spill but return 0.\n",
            "25/01/16 17:13:17 WARN RowBasedKeyValueBatch: Calling spill() on RowBasedKeyValueBatch. Will not spill but return 0.\n",
            "25/01/16 17:13:17 WARN RowBasedKeyValueBatch: Calling spill() on RowBasedKeyValueBatch. Will not spill but return 0.\n",
            "25/01/16 17:13:17 WARN RowBasedKeyValueBatch: Calling spill() on RowBasedKeyValueBatch. Will not spill but return 0.\n",
            "                                                                                \r"
          ]
        },
        {
          "data": {
            "text/plain": [
              "22502155"
            ]
          },
          "execution_count": 17,
          "metadata": {},
          "output_type": "execute_result"
        }
      ],
      "source": [
        "data = data.filter((data.rating >= 1) & (data.rating <= 5))\n",
        "data.count()"
      ]
    },
    {
      "cell_type": "code",
      "execution_count": null,
      "metadata": {
        "id": "U3hZNHj2SAkt"
      },
      "outputs": [],
      "source": [
        "# data = data.withColumnRenamed(\"_c0\", \"user_id\") \\\n",
        "#            .withColumnRenamed(\"_c1\", \"book_id\") \\\n",
        "#            .withColumnRenamed(\"_c2\", \"rating\") \\\n",
        "#            .withColumnRenamed(\"_c3\", \"timestamp\")"
      ]
    },
    {
      "cell_type": "code",
      "execution_count": null,
      "metadata": {
        "id": "wCnjH9CSSAkt"
      },
      "outputs": [],
      "source": [
        "data = data.groupBy(\"user_id\", \"book_id\").agg(\n",
        "    F.mean(\"rating\").alias(\"average_rating\"),\n",
        "    F.max(\"timestamp\").alias(\"latest_timestamp\")\n",
        ")\n"
      ]
    },
    {
      "cell_type": "code",
      "execution_count": null,
      "metadata": {
        "id": "BvR5wak1SAkw",
        "outputId": "f0de3365-f1f2-48e9-de14-a99e1b4749d2"
      },
      "outputs": [
        {
          "name": "stderr",
          "output_type": "stream",
          "text": [
            "25/01/16 17:23:20 WARN RowBasedKeyValueBatch: Calling spill() on RowBasedKeyValueBatch. Will not spill but return 0.\n",
            "25/01/16 17:23:20 WARN RowBasedKeyValueBatch: Calling spill() on RowBasedKeyValueBatch. Will not spill but return 0.\n",
            "25/01/16 17:23:20 WARN RowBasedKeyValueBatch: Calling spill() on RowBasedKeyValueBatch. Will not spill but return 0.\n",
            "25/01/16 17:23:20 WARN RowBasedKeyValueBatch: Calling spill() on RowBasedKeyValueBatch. Will not spill but return 0.\n",
            "25/01/16 17:23:20 WARN RowBasedKeyValueBatch: Calling spill() on RowBasedKeyValueBatch. Will not spill but return 0.\n",
            "25/01/16 17:23:20 WARN RowBasedKeyValueBatch: Calling spill() on RowBasedKeyValueBatch. Will not spill but return 0.\n",
            "25/01/16 17:23:20 WARN RowBasedKeyValueBatch: Calling spill() on RowBasedKeyValueBatch. Will not spill but return 0.\n",
            "25/01/16 17:23:21 WARN RowBasedKeyValueBatch: Calling spill() on RowBasedKeyValueBatch. Will not spill but return 0.\n",
            "25/01/16 17:23:21 WARN RowBasedKeyValueBatch: Calling spill() on RowBasedKeyValueBatch. Will not spill but return 0.\n",
            "25/01/16 17:23:21 WARN RowBasedKeyValueBatch: Calling spill() on RowBasedKeyValueBatch. Will not spill but return 0.\n",
            "25/01/16 17:23:21 WARN RowBasedKeyValueBatch: Calling spill() on RowBasedKeyValueBatch. Will not spill but return 0.\n",
            "25/01/16 17:23:21 WARN RowBasedKeyValueBatch: Calling spill() on RowBasedKeyValueBatch. Will not spill but return 0.\n",
            "25/01/16 17:23:22 WARN RowBasedKeyValueBatch: Calling spill() on RowBasedKeyValueBatch. Will not spill but return 0.\n",
            "25/01/16 17:23:22 WARN RowBasedKeyValueBatch: Calling spill() on RowBasedKeyValueBatch. Will not spill but return 0.\n",
            "25/01/16 17:23:22 WARN RowBasedKeyValueBatch: Calling spill() on RowBasedKeyValueBatch. Will not spill but return 0.\n",
            "25/01/16 17:23:22 WARN RowBasedKeyValueBatch: Calling spill() on RowBasedKeyValueBatch. Will not spill but return 0.\n",
            "25/01/16 17:23:22 WARN RowBasedKeyValueBatch: Calling spill() on RowBasedKeyValueBatch. Will not spill but return 0.\n",
            "25/01/16 17:23:22 WARN RowBasedKeyValueBatch: Calling spill() on RowBasedKeyValueBatch. Will not spill but return 0.\n",
            "25/01/16 17:23:22 WARN RowBasedKeyValueBatch: Calling spill() on RowBasedKeyValueBatch. Will not spill but return 0.\n",
            "25/01/16 17:23:22 WARN RowBasedKeyValueBatch: Calling spill() on RowBasedKeyValueBatch. Will not spill but return 0.\n",
            "25/01/16 17:23:22 WARN RowBasedKeyValueBatch: Calling spill() on RowBasedKeyValueBatch. Will not spill but return 0.\n",
            "25/01/16 17:23:22 WARN RowBasedKeyValueBatch: Calling spill() on RowBasedKeyValueBatch. Will not spill but return 0.\n",
            "25/01/16 17:23:22 WARN RowBasedKeyValueBatch: Calling spill() on RowBasedKeyValueBatch. Will not spill but return 0.\n",
            "25/01/16 17:23:22 WARN RowBasedKeyValueBatch: Calling spill() on RowBasedKeyValueBatch. Will not spill but return 0.\n",
            "25/01/16 17:23:24 WARN RowBasedKeyValueBatch: Calling spill() on RowBasedKeyValueBatch. Will not spill but return 0.\n",
            "25/01/16 17:23:24 WARN RowBasedKeyValueBatch: Calling spill() on RowBasedKeyValueBatch. Will not spill but return 0.\n",
            "25/01/16 17:23:24 WARN RowBasedKeyValueBatch: Calling spill() on RowBasedKeyValueBatch. Will not spill but return 0.\n",
            "25/01/16 17:23:24 WARN RowBasedKeyValueBatch: Calling spill() on RowBasedKeyValueBatch. Will not spill but return 0.\n",
            "25/01/16 17:23:24 WARN RowBasedKeyValueBatch: Calling spill() on RowBasedKeyValueBatch. Will not spill but return 0.\n",
            "25/01/16 17:23:24 WARN RowBasedKeyValueBatch: Calling spill() on RowBasedKeyValueBatch. Will not spill but return 0.\n",
            "25/01/16 17:23:24 WARN RowBasedKeyValueBatch: Calling spill() on RowBasedKeyValueBatch. Will not spill but return 0.\n",
            "25/01/16 17:23:24 WARN RowBasedKeyValueBatch: Calling spill() on RowBasedKeyValueBatch. Will not spill but return 0.\n",
            "25/01/16 17:23:24 WARN RowBasedKeyValueBatch: Calling spill() on RowBasedKeyValueBatch. Will not spill but return 0.\n",
            "25/01/16 17:23:24 WARN RowBasedKeyValueBatch: Calling spill() on RowBasedKeyValueBatch. Will not spill but return 0.\n",
            "25/01/16 17:23:24 WARN RowBasedKeyValueBatch: Calling spill() on RowBasedKeyValueBatch. Will not spill but return 0.\n",
            "25/01/16 17:23:24 WARN RowBasedKeyValueBatch: Calling spill() on RowBasedKeyValueBatch. Will not spill but return 0.\n",
            "25/01/16 17:23:25 WARN RowBasedKeyValueBatch: Calling spill() on RowBasedKeyValueBatch. Will not spill but return 0.\n",
            "25/01/16 17:23:25 WARN RowBasedKeyValueBatch: Calling spill() on RowBasedKeyValueBatch. Will not spill but return 0.\n",
            "25/01/16 17:23:25 WARN RowBasedKeyValueBatch: Calling spill() on RowBasedKeyValueBatch. Will not spill but return 0.\n",
            "25/01/16 17:23:25 WARN RowBasedKeyValueBatch: Calling spill() on RowBasedKeyValueBatch. Will not spill but return 0.\n",
            "25/01/16 17:23:25 WARN RowBasedKeyValueBatch: Calling spill() on RowBasedKeyValueBatch. Will not spill but return 0.\n",
            "25/01/16 17:23:25 WARN RowBasedKeyValueBatch: Calling spill() on RowBasedKeyValueBatch. Will not spill but return 0.\n",
            "25/01/16 17:23:25 WARN RowBasedKeyValueBatch: Calling spill() on RowBasedKeyValueBatch. Will not spill but return 0.\n",
            "25/01/16 17:23:25 WARN RowBasedKeyValueBatch: Calling spill() on RowBasedKeyValueBatch. Will not spill but return 0.\n",
            "25/01/16 17:23:25 WARN RowBasedKeyValueBatch: Calling spill() on RowBasedKeyValueBatch. Will not spill but return 0.\n",
            "25/01/16 17:23:25 WARN RowBasedKeyValueBatch: Calling spill() on RowBasedKeyValueBatch. Will not spill but return 0.\n",
            "25/01/16 17:23:25 WARN RowBasedKeyValueBatch: Calling spill() on RowBasedKeyValueBatch. Will not spill but return 0.\n",
            "25/01/16 17:23:26 WARN RowBasedKeyValueBatch: Calling spill() on RowBasedKeyValueBatch. Will not spill but return 0.\n",
            "25/01/16 17:23:26 WARN RowBasedKeyValueBatch: Calling spill() on RowBasedKeyValueBatch. Will not spill but return 0.\n",
            "25/01/16 17:23:27 WARN RowBasedKeyValueBatch: Calling spill() on RowBasedKeyValueBatch. Will not spill but return 0.\n",
            "25/01/16 17:23:27 WARN RowBasedKeyValueBatch: Calling spill() on RowBasedKeyValueBatch. Will not spill but return 0.\n",
            "25/01/16 17:23:27 WARN RowBasedKeyValueBatch: Calling spill() on RowBasedKeyValueBatch. Will not spill but return 0.\n",
            "25/01/16 17:23:27 WARN RowBasedKeyValueBatch: Calling spill() on RowBasedKeyValueBatch. Will not spill but return 0.\n",
            "25/01/16 17:23:27 WARN RowBasedKeyValueBatch: Calling spill() on RowBasedKeyValueBatch. Will not spill but return 0.\n",
            "25/01/16 17:23:27 WARN RowBasedKeyValueBatch: Calling spill() on RowBasedKeyValueBatch. Will not spill but return 0.\n",
            "25/01/16 17:23:27 WARN RowBasedKeyValueBatch: Calling spill() on RowBasedKeyValueBatch. Will not spill but return 0.\n",
            "25/01/16 17:23:27 WARN RowBasedKeyValueBatch: Calling spill() on RowBasedKeyValueBatch. Will not spill but return 0.\n",
            "25/01/16 17:23:27 WARN RowBasedKeyValueBatch: Calling spill() on RowBasedKeyValueBatch. Will not spill but return 0.\n",
            "25/01/16 17:23:27 WARN RowBasedKeyValueBatch: Calling spill() on RowBasedKeyValueBatch. Will not spill but return 0.\n",
            "25/01/16 17:23:27 WARN RowBasedKeyValueBatch: Calling spill() on RowBasedKeyValueBatch. Will not spill but return 0.\n",
            "25/01/16 17:23:28 WARN RowBasedKeyValueBatch: Calling spill() on RowBasedKeyValueBatch. Will not spill but return 0.\n",
            "25/01/16 17:23:28 WARN RowBasedKeyValueBatch: Calling spill() on RowBasedKeyValueBatch. Will not spill but return 0.\n",
            "25/01/16 17:23:28 WARN RowBasedKeyValueBatch: Calling spill() on RowBasedKeyValueBatch. Will not spill but return 0.\n",
            "25/01/16 17:23:28 WARN RowBasedKeyValueBatch: Calling spill() on RowBasedKeyValueBatch. Will not spill but return 0.\n",
            "25/01/16 17:23:28 WARN RowBasedKeyValueBatch: Calling spill() on RowBasedKeyValueBatch. Will not spill but return 0.\n",
            "25/01/16 17:23:28 WARN RowBasedKeyValueBatch: Calling spill() on RowBasedKeyValueBatch. Will not spill but return 0.\n",
            "25/01/16 17:23:28 WARN RowBasedKeyValueBatch: Calling spill() on RowBasedKeyValueBatch. Will not spill but return 0.\n",
            "25/01/16 17:23:28 WARN RowBasedKeyValueBatch: Calling spill() on RowBasedKeyValueBatch. Will not spill but return 0.\n",
            "25/01/16 17:23:28 WARN RowBasedKeyValueBatch: Calling spill() on RowBasedKeyValueBatch. Will not spill but return 0.\n",
            "25/01/16 17:23:28 WARN RowBasedKeyValueBatch: Calling spill() on RowBasedKeyValueBatch. Will not spill but return 0.\n",
            "25/01/16 17:23:28 WARN RowBasedKeyValueBatch: Calling spill() on RowBasedKeyValueBatch. Will not spill but return 0.\n",
            "25/01/16 17:23:28 WARN RowBasedKeyValueBatch: Calling spill() on RowBasedKeyValueBatch. Will not spill but return 0.\n",
            "25/01/16 17:23:29 WARN RowBasedKeyValueBatch: Calling spill() on RowBasedKeyValueBatch. Will not spill but return 0.\n",
            "25/01/16 17:23:29 WARN RowBasedKeyValueBatch: Calling spill() on RowBasedKeyValueBatch. Will not spill but return 0.\n",
            "25/01/16 17:23:29 WARN RowBasedKeyValueBatch: Calling spill() on RowBasedKeyValueBatch. Will not spill but return 0.\n",
            "25/01/16 17:23:30 WARN RowBasedKeyValueBatch: Calling spill() on RowBasedKeyValueBatch. Will not spill but return 0.\n",
            "25/01/16 17:23:30 WARN RowBasedKeyValueBatch: Calling spill() on RowBasedKeyValueBatch. Will not spill but return 0.\n",
            "25/01/16 17:23:30 WARN RowBasedKeyValueBatch: Calling spill() on RowBasedKeyValueBatch. Will not spill but return 0.\n",
            "25/01/16 17:23:30 WARN RowBasedKeyValueBatch: Calling spill() on RowBasedKeyValueBatch. Will not spill but return 0.\n",
            "25/01/16 17:23:30 WARN RowBasedKeyValueBatch: Calling spill() on RowBasedKeyValueBatch. Will not spill but return 0.\n"
          ]
        },
        {
          "name": "stdout",
          "output_type": "stream",
          "text": [
            "[963.299s][warning][gc,alloc] Executor task launch worker for task 9.0 in stage 36.0 (TID 167): Retried waiting for GCLocker too often allocating 11597 words\n"
          ]
        },
        {
          "name": "stderr",
          "output_type": "stream",
          "text": [
            "25/01/16 17:23:36 WARN RowBasedKeyValueBatch: Calling spill() on RowBasedKeyValueBatch. Will not spill but return 0.\n",
            "25/01/16 17:23:36 WARN RowBasedKeyValueBatch: Calling spill() on RowBasedKeyValueBatch. Will not spill but return 0.\n",
            "25/01/16 17:23:36 WARN RowBasedKeyValueBatch: Calling spill() on RowBasedKeyValueBatch. Will not spill but return 0.\n",
            "25/01/16 17:23:36 WARN RowBasedKeyValueBatch: Calling spill() on RowBasedKeyValueBatch. Will not spill but return 0.\n",
            "25/01/16 17:23:36 WARN RowBasedKeyValueBatch: Calling spill() on RowBasedKeyValueBatch. Will not spill but return 0.\n",
            "25/01/16 17:23:36 WARN RowBasedKeyValueBatch: Calling spill() on RowBasedKeyValueBatch. Will not spill but return 0.\n",
            "25/01/16 17:23:36 WARN RowBasedKeyValueBatch: Calling spill() on RowBasedKeyValueBatch. Will not spill but return 0.\n",
            "25/01/16 17:23:36 WARN RowBasedKeyValueBatch: Calling spill() on RowBasedKeyValueBatch. Will not spill but return 0.\n",
            "25/01/16 17:23:36 WARN RowBasedKeyValueBatch: Calling spill() on RowBasedKeyValueBatch. Will not spill but return 0.\n",
            "25/01/16 17:23:36 WARN RowBasedKeyValueBatch: Calling spill() on RowBasedKeyValueBatch. Will not spill but return 0.\n",
            "25/01/16 17:23:36 WARN RowBasedKeyValueBatch: Calling spill() on RowBasedKeyValueBatch. Will not spill but return 0.\n",
            "25/01/16 17:23:36 WARN RowBasedKeyValueBatch: Calling spill() on RowBasedKeyValueBatch. Will not spill but return 0.\n",
            "25/01/16 17:23:36 WARN RowBasedKeyValueBatch: Calling spill() on RowBasedKeyValueBatch. Will not spill but return 0.\n",
            "25/01/16 17:23:36 WARN RowBasedKeyValueBatch: Calling spill() on RowBasedKeyValueBatch. Will not spill but return 0.\n",
            "25/01/16 17:23:36 WARN RowBasedKeyValueBatch: Calling spill() on RowBasedKeyValueBatch. Will not spill but return 0.\n",
            "25/01/16 17:23:36 WARN RowBasedKeyValueBatch: Calling spill() on RowBasedKeyValueBatch. Will not spill but return 0.\n",
            "25/01/16 17:23:36 WARN RowBasedKeyValueBatch: Calling spill() on RowBasedKeyValueBatch. Will not spill but return 0.\n",
            "25/01/16 17:23:36 WARN RowBasedKeyValueBatch: Calling spill() on RowBasedKeyValueBatch. Will not spill but return 0.\n",
            "25/01/16 17:23:36 WARN RowBasedKeyValueBatch: Calling spill() on RowBasedKeyValueBatch. Will not spill but return 0.\n",
            "25/01/16 17:23:36 WARN RowBasedKeyValueBatch: Calling spill() on RowBasedKeyValueBatch. Will not spill but return 0.\n",
            "25/01/16 17:23:36 WARN RowBasedKeyValueBatch: Calling spill() on RowBasedKeyValueBatch. Will not spill but return 0.\n",
            "25/01/16 17:23:36 WARN RowBasedKeyValueBatch: Calling spill() on RowBasedKeyValueBatch. Will not spill but return 0.\n",
            "25/01/16 17:23:36 WARN RowBasedKeyValueBatch: Calling spill() on RowBasedKeyValueBatch. Will not spill but return 0.\n",
            "25/01/16 17:23:36 WARN RowBasedKeyValueBatch: Calling spill() on RowBasedKeyValueBatch. Will not spill but return 0.\n",
            "25/01/16 17:23:37 WARN RowBasedKeyValueBatch: Calling spill() on RowBasedKeyValueBatch. Will not spill but return 0.\n",
            "25/01/16 17:23:37 WARN RowBasedKeyValueBatch: Calling spill() on RowBasedKeyValueBatch. Will not spill but return 0.\n",
            "25/01/16 17:23:37 WARN RowBasedKeyValueBatch: Calling spill() on RowBasedKeyValueBatch. Will not spill but return 0.\n",
            "25/01/16 17:23:37 WARN RowBasedKeyValueBatch: Calling spill() on RowBasedKeyValueBatch. Will not spill but return 0.\n",
            "25/01/16 17:23:37 WARN RowBasedKeyValueBatch: Calling spill() on RowBasedKeyValueBatch. Will not spill but return 0.\n",
            "25/01/16 17:23:37 WARN RowBasedKeyValueBatch: Calling spill() on RowBasedKeyValueBatch. Will not spill but return 0.\n",
            "25/01/16 17:23:37 WARN RowBasedKeyValueBatch: Calling spill() on RowBasedKeyValueBatch. Will not spill but return 0.\n",
            "25/01/16 17:23:37 WARN RowBasedKeyValueBatch: Calling spill() on RowBasedKeyValueBatch. Will not spill but return 0.\n",
            "25/01/16 17:23:37 WARN RowBasedKeyValueBatch: Calling spill() on RowBasedKeyValueBatch. Will not spill but return 0.\n",
            "25/01/16 17:23:37 WARN RowBasedKeyValueBatch: Calling spill() on RowBasedKeyValueBatch. Will not spill but return 0.\n",
            "25/01/16 17:23:37 WARN RowBasedKeyValueBatch: Calling spill() on RowBasedKeyValueBatch. Will not spill but return 0.\n",
            "25/01/16 17:23:37 WARN RowBasedKeyValueBatch: Calling spill() on RowBasedKeyValueBatch. Will not spill but return 0.\n",
            "25/01/16 17:23:37 WARN RowBasedKeyValueBatch: Calling spill() on RowBasedKeyValueBatch. Will not spill but return 0.\n",
            "25/01/16 17:23:37 WARN RowBasedKeyValueBatch: Calling spill() on RowBasedKeyValueBatch. Will not spill but return 0.\n",
            "25/01/16 17:23:37 WARN RowBasedKeyValueBatch: Calling spill() on RowBasedKeyValueBatch. Will not spill but return 0.\n",
            "25/01/16 17:23:37 WARN RowBasedKeyValueBatch: Calling spill() on RowBasedKeyValueBatch. Will not spill but return 0.\n",
            "25/01/16 17:23:37 WARN RowBasedKeyValueBatch: Calling spill() on RowBasedKeyValueBatch. Will not spill but return 0.\n",
            "25/01/16 17:23:37 WARN RowBasedKeyValueBatch: Calling spill() on RowBasedKeyValueBatch. Will not spill but return 0.\n",
            "25/01/16 17:23:37 WARN RowBasedKeyValueBatch: Calling spill() on RowBasedKeyValueBatch. Will not spill but return 0.\n",
            "25/01/16 17:23:37 WARN RowBasedKeyValueBatch: Calling spill() on RowBasedKeyValueBatch. Will not spill but return 0.\n",
            "25/01/16 17:23:37 WARN RowBasedKeyValueBatch: Calling spill() on RowBasedKeyValueBatch. Will not spill but return 0.\n",
            "25/01/16 17:23:37 WARN RowBasedKeyValueBatch: Calling spill() on RowBasedKeyValueBatch. Will not spill but return 0.\n",
            "25/01/16 17:23:37 WARN RowBasedKeyValueBatch: Calling spill() on RowBasedKeyValueBatch. Will not spill but return 0.\n",
            "25/01/16 17:23:38 WARN RowBasedKeyValueBatch: Calling spill() on RowBasedKeyValueBatch. Will not spill but return 0.\n",
            "25/01/16 17:23:38 WARN RowBasedKeyValueBatch: Calling spill() on RowBasedKeyValueBatch. Will not spill but return 0.\n",
            "25/01/16 17:23:38 WARN RowBasedKeyValueBatch: Calling spill() on RowBasedKeyValueBatch. Will not spill but return 0.\n",
            "25/01/16 17:23:38 WARN RowBasedKeyValueBatch: Calling spill() on RowBasedKeyValueBatch. Will not spill but return 0.\n",
            "25/01/16 17:23:38 WARN RowBasedKeyValueBatch: Calling spill() on RowBasedKeyValueBatch. Will not spill but return 0.\n",
            "25/01/16 17:23:38 WARN RowBasedKeyValueBatch: Calling spill() on RowBasedKeyValueBatch. Will not spill but return 0.\n",
            "25/01/16 17:23:38 WARN RowBasedKeyValueBatch: Calling spill() on RowBasedKeyValueBatch. Will not spill but return 0.\n",
            "25/01/16 17:23:38 WARN RowBasedKeyValueBatch: Calling spill() on RowBasedKeyValueBatch. Will not spill but return 0.\n",
            "25/01/16 17:23:38 WARN RowBasedKeyValueBatch: Calling spill() on RowBasedKeyValueBatch. Will not spill but return 0.\n",
            "25/01/16 17:23:38 WARN RowBasedKeyValueBatch: Calling spill() on RowBasedKeyValueBatch. Will not spill but return 0.\n",
            "25/01/16 17:23:38 WARN RowBasedKeyValueBatch: Calling spill() on RowBasedKeyValueBatch. Will not spill but return 0.\n",
            "25/01/16 17:23:38 WARN RowBasedKeyValueBatch: Calling spill() on RowBasedKeyValueBatch. Will not spill but return 0.\n",
            "25/01/16 17:23:38 WARN RowBasedKeyValueBatch: Calling spill() on RowBasedKeyValueBatch. Will not spill but return 0.\n",
            "25/01/16 17:23:38 WARN RowBasedKeyValueBatch: Calling spill() on RowBasedKeyValueBatch. Will not spill but return 0.\n",
            "25/01/16 17:23:38 WARN RowBasedKeyValueBatch: Calling spill() on RowBasedKeyValueBatch. Will not spill but return 0.\n",
            "25/01/16 17:23:38 WARN RowBasedKeyValueBatch: Calling spill() on RowBasedKeyValueBatch. Will not spill but return 0.\n",
            "25/01/16 17:23:38 WARN RowBasedKeyValueBatch: Calling spill() on RowBasedKeyValueBatch. Will not spill but return 0.\n",
            "25/01/16 17:23:38 WARN RowBasedKeyValueBatch: Calling spill() on RowBasedKeyValueBatch. Will not spill but return 0.\n",
            "25/01/16 17:23:38 WARN RowBasedKeyValueBatch: Calling spill() on RowBasedKeyValueBatch. Will not spill but return 0.\n",
            "25/01/16 17:23:38 WARN RowBasedKeyValueBatch: Calling spill() on RowBasedKeyValueBatch. Will not spill but return 0.\n",
            "25/01/16 17:23:38 WARN RowBasedKeyValueBatch: Calling spill() on RowBasedKeyValueBatch. Will not spill but return 0.\n",
            "25/01/16 17:23:38 WARN RowBasedKeyValueBatch: Calling spill() on RowBasedKeyValueBatch. Will not spill but return 0.\n",
            "25/01/16 17:23:39 WARN RowBasedKeyValueBatch: Calling spill() on RowBasedKeyValueBatch. Will not spill but return 0.\n",
            "25/01/16 17:23:39 WARN RowBasedKeyValueBatch: Calling spill() on RowBasedKeyValueBatch. Will not spill but return 0.\n",
            "25/01/16 17:23:39 WARN RowBasedKeyValueBatch: Calling spill() on RowBasedKeyValueBatch. Will not spill but return 0.\n",
            "                                                                                \r"
          ]
        },
        {
          "data": {
            "text/plain": [
              "22502155"
            ]
          },
          "execution_count": 21,
          "metadata": {},
          "output_type": "execute_result"
        }
      ],
      "source": [
        "data.count()"
      ]
    },
    {
      "cell_type": "markdown",
      "metadata": {
        "id": "6U2Y5wOASAkx"
      },
      "source": [
        "---\n",
        "### ```sampled dataset```"
      ]
    },
    {
      "cell_type": "markdown",
      "metadata": {
        "id": "QY09koC-SAky"
      },
      "source": [
        "#### sampling"
      ]
    },
    {
      "cell_type": "code",
      "execution_count": null,
      "metadata": {
        "id": "Ioz7E_H2SAky"
      },
      "outputs": [],
      "source": [
        "file_path = \"./data/BookRates_DS.csv\"\n",
        "data = pd.read_csv(file_path, header=None, names=['book_id', 'user_id', 'rating', 'timestamp'])\n",
        "\n",
        "book_counts = data['book_id'].value_counts()\n",
        "top_books = book_counts.head(1000).index\n",
        "\n",
        "filtered_data = data[data['book_id'].isin(top_books)]\n",
        "\n",
        "user_counts = filtered_data['user_id'].value_counts()\n",
        "top_users = user_counts.head(1000).index\n",
        "\n",
        "final_sample = filtered_data[filtered_data['user_id'].isin(top_users)]\n",
        "\n",
        "final_sample.to_csv(\"./data/sampled_dataset2.csv\", index=False)\n"
      ]
    },
    {
      "cell_type": "code",
      "execution_count": null,
      "metadata": {
        "id": "5bGodAJkSAkz",
        "outputId": "7860985d-ba20-432a-a1d1-bd2dc6b42241"
      },
      "outputs": [
        {
          "name": "stdout",
          "output_type": "stream",
          "text": [
            "Number of Distinct Books: 371\n",
            "Number of Distinct Users: 401\n"
          ]
        }
      ],
      "source": [
        "file_path = \"./data/sampled_dataset.csv\"\n",
        "data = pd.read_csv(file_path, header=None, names=['book_id', 'user_id', 'rating', 'timestamp'])\n",
        "\n",
        "unique_books = data['book_id'].nunique()\n",
        "unique_users = data['user_id'].nunique()\n",
        "\n",
        "print(f\"Number of Distinct Books: {unique_books}\")\n",
        "print(f\"Number of Distinct Users: {unique_users}\")"
      ]
    },
    {
      "cell_type": "code",
      "execution_count": null,
      "metadata": {
        "id": "PUwRxBVwSAk0",
        "outputId": "038ba85d-e79f-400e-8c21-8f38c5d342e2"
      },
      "outputs": [
        {
          "name": "stdout",
          "output_type": "stream",
          "text": [
            "Number of Distinct Books: 936\n",
            "Number of Distinct Users: 1001\n"
          ]
        }
      ],
      "source": [
        "file_path = \"./data/sampled_dataset2.csv\"\n",
        "data = pd.read_csv(file_path, header=None, names=['book_id', 'user_id', 'rating', 'timestamp'])\n",
        "\n",
        "unique_books = data['book_id'].nunique()\n",
        "unique_users = data['user_id'].nunique()\n",
        "\n",
        "print(f\"Number of Distinct Books: {unique_books}\")\n",
        "print(f\"Number of Distinct Users: {unique_users}\")"
      ]
    },
    {
      "cell_type": "code",
      "execution_count": null,
      "metadata": {
        "id": "zhwA9640SAk1",
        "outputId": "bb01ef93-ed65-4936-c906-2343e5bff150"
      },
      "outputs": [
        {
          "name": "stdout",
          "output_type": "stream",
          "text": [
            "Number of Distinct Books: 9696\n",
            "Number of Distinct Users: 10001\n"
          ]
        },
        {
          "name": "stderr",
          "output_type": "stream",
          "text": [
            "/tmp/ipykernel_1526/2992165164.py:2: DtypeWarning: Columns (2,3) have mixed types. Specify dtype option on import or set low_memory=False.\n",
            "  data = pd.read_csv(file_path, header=None, names=['book_id', 'user_id', 'rating', 'timestamp'])\n"
          ]
        }
      ],
      "source": [
        "file_path = \"./data/sampled_dataset3.csv\"\n",
        "data = pd.read_csv(file_path, header=None, names=['book_id', 'user_id', 'rating', 'timestamp'])\n",
        "\n",
        "unique_books = data['book_id'].nunique()\n",
        "unique_users = data['user_id'].nunique()\n",
        "\n",
        "print(f\"Number of Distinct Books: {unique_books}\")\n",
        "print(f\"Number of Distinct Users: {unique_users}\")"
      ]
    },
    {
      "cell_type": "code",
      "execution_count": null,
      "metadata": {
        "id": "Pai7GaOzSAk2"
      },
      "outputs": [],
      "source": [
        "# book_user_counts = data.groupby('book_id')['user_id'].nunique()\n",
        "# book_user_counts.to_csv(\"book_user_counts.csv\", header=True)\n",
        "\n",
        "# user_book_counts = data.groupby('user_id')['book_id'].nunique()\n",
        "# user_book_counts.to_csv(\"user_book_counts.csv\", header=True)"
      ]
    },
    {
      "cell_type": "markdown",
      "metadata": {
        "id": "9SXwlKONSAk3"
      },
      "source": [
        "#### starting the algorithm"
      ]
    },
    {
      "cell_type": "code",
      "execution_count": null,
      "metadata": {
        "id": "ThYzxZ15SAk4",
        "outputId": "141f9775-f70e-4cc0-9750-288c9f9eb564"
      },
      "outputs": [
        {
          "name": "stderr",
          "output_type": "stream",
          "text": [
            "[Stage 0:>                                                          (0 + 1) / 1]\r"
          ]
        },
        {
          "name": "stdout",
          "output_type": "stream",
          "text": [
            "[('A30H2335OM7RD6', '0002007770', '5.0', '1230422400'), ('A21NVBFIEQWDSG', '0002007770', '5.0', '1187049600'), ('A2PWUIQG57O1AZ', '0002007770', '4.0', '1182124800'), ('A39650P2CZUUC9', '0002007770', '4.0', '1236124800'), ('A2F6N60Z96CAJI', '0002007770', '5.0', '1149033600')]\n"
          ]
        },
        {
          "name": "stderr",
          "output_type": "stream",
          "text": [
            "                                                                                \r"
          ]
        }
      ],
      "source": [
        "csv_path = './data/sampled_dataset.csv'\n",
        "book_rates_rdd = sc.textFile(csv_path)\n",
        "\n",
        "header = book_rates_rdd.first()\n",
        "book_rates_rdd = book_rates_rdd.filter(lambda row: row != header)\n",
        "\n",
        "book_rates_rdd = book_rates_rdd.map(lambda row: tuple(row.split(',')))\n",
        "print(book_rates_rdd.take(5))"
      ]
    },
    {
      "cell_type": "code",
      "execution_count": null,
      "metadata": {
        "id": "yj-xiNFpSAk4",
        "outputId": "864d2f92-984f-41c2-8d7c-387aea61662a"
      },
      "outputs": [
        {
          "data": {
            "text/plain": [
              "9097"
            ]
          },
          "execution_count": 8,
          "metadata": {},
          "output_type": "execute_result"
        }
      ],
      "source": [
        "book_rates_rdd.count()"
      ]
    },
    {
      "cell_type": "markdown",
      "metadata": {
        "id": "-Xdh7ufkSAk5"
      },
      "source": [
        "---"
      ]
    },
    {
      "cell_type": "code",
      "execution_count": null,
      "metadata": {
        "id": "W4KjTKW5SAk6",
        "outputId": "ea80d91a-65e7-4fb6-b41a-5eeed27754dc"
      },
      "outputs": [
        {
          "name": "stdout",
          "output_type": "stream",
          "text": [
            "[('A30H2335OM7RD6', '0002007770', 5.0), ('A21NVBFIEQWDSG', '0002007770', 5.0), ('A2PWUIQG57O1AZ', '0002007770', 4.0), ('A39650P2CZUUC9', '0002007770', 4.0), ('A2F6N60Z96CAJI', '0002007770', 5.0)]\n"
          ]
        }
      ],
      "source": [
        "book_rates_rdd = book_rates_rdd.map(lambda x: (x[0], x[1], float(x[2])))\n",
        "print(book_rates_rdd.take(5))\n"
      ]
    },
    {
      "cell_type": "code",
      "execution_count": null,
      "metadata": {
        "id": "wX-tGLNnSAk7",
        "outputId": "2c7c0a67-8776-448f-f2aa-a4cbd2b0d63d"
      },
      "outputs": [
        {
          "name": "stdout",
          "output_type": "stream",
          "text": [
            "[('A30H2335OM7RD6', {'0002007770': 5.0, '0060987103': 4.0, '0061009059': 5.0, '0099453924': 2.0, '0099464462': 5.0, '0140390464': 5.0, '0141039280': 5.0, '0261103288': 5.0, '0307245306': 5.0, '0312265840': 5.0, '0312265859': 5.0, '0312369727': 5.0, '0312675062': 5.0, '0385336667': 5.0, '0385340990': 5.0, '0399143793': 5.0, '0399147268': 5.0, '0399148612': 5.0}), ('A21NVBFIEQWDSG', {'0002007770': 5.0, '0007149824': 4.0, '0061147931': 5.0, '0099429799': 4.0, '0099513021': 4.0, '0141040343': 5.0, '0142004332': 5.0, '0143035304': 4.0, '0143037145': 5.0, '0143113496': 5.0, '015206396X': 5.0, '0307264556': 5.0, '0307275167': 4.0, '030727828X': 5.0, '0307279936': 4.0, '0307386171': 5.0, '0307387135': 4.0, '0312319169': 3.0, '0312347472': 4.0, '031242440X': 4.0, '0312426321': 5.0, '0316010669': 5.0, '0316011770': 4.0, '0316012823': 4.0, '0316069418': 5.0, '0316154741': 5.0, '0316346624': 4.0, '0340953950': 5.0, '0345476972': 4.0, '0345476999': 4.0, '0375411089': 4.0, '0385340990': 5.0, '0385511809': 4.0, '0446402389': 5.0, '044650534X': 5.0, '0446532681': 4.0, '0446616419': 4.0, '045122650X': 4.0, '0553589091': 4.0, '0739334670': 4.0, '0743281632': 5.0}), ('A2PWUIQG57O1AZ', {'0002007770': 4.0, '0007205236': 5.0, '0060175966': 2.0, '0060742887': 4.0, '0061015725': 3.0, '0099406136': 4.0, '0099457156': 4.0, '0099740915': 4.0, '0099911701': 5.0, '0143037145': 4.0, '0143115006': 5.0, '0143142372': 5.0, '0307456625': 4.0, '0312169787': 5.0, '031218087X': 2.0, '0312349491': 4.0, '0312422156': 5.0, '0316018953': 4.0, '0316154601': 3.0, '0316154741': 5.0, '0316155306': 4.0, '0316666009': 5.0, '0345476972': 4.0, '0345533054': 4.0, '0385340540': 4.0, '0399152288': 3.0, '0399152970': 4.0, '043920352X': 5.0, '045121577X': 4.0, '0451221958': 5.0, '045122650X': 4.0, '0553584537': 4.0}), ('A1T17LMQABMBN5', {'0002007770': 4.0, '0007172826': 4.0, '0020519001': 4.0, '0060098902': 5.0, '0060175400': 5.0, '0060194995': 5.0, '0060572965': 4.0, '0060572973': 5.0, '0060838582': 5.0, '0060838728': 5.0, '006092988X': 5.0, '0061009059': 3.0, '0061122416': 4.0, '0062008110': 5.0, '0099429799': 5.0, '0099450259': 5.0, '0099453924': 3.0, '0099464462': 4.0, '0099526832': 5.0, '0099911701': 5.0, '0140177396': 5.0, '0141040343': 4.0, '014118776X': 5.0, '0141191538': 5.0, '0142001740': 5.0, '0142001805': 5.0, '0143034901': 4.0, '0151008116': 5.0, '0261103288': 5.0, '0307275167': 5.0, '0307277674': 4.0, '0307279936': 4.0, '030728090X': 4.0, '0312169787': 5.0, '0312278586': 5.0, '0312282990': 4.0, '0312319142': 3.0, '0312421273': 5.0, '0312422156': 5.0, '0316001821': 5.0, '0316011770': 3.0, '0316024961': 5.0, '0316027650': 4.0, '0316036919': 2.0, '031604461X': 3.0, '0345339703': 5.0, '0356500276': 4.0, '042518756X': 4.0, '0441008534': 4.0, '0441009239': 4.0, '0441010512': 4.0, '0441010652': 2.0, '0441011675': 5.0, '0441012795': 5.0, '0441014003': 3.0, '0441014941': 4.0, '0441015891': 3.0, '0441017150': 4.0, '0441018645': 1.0, '0446616419': 4.0, '0451458443': 4.0, '0739474812': 5.0, '0743454529': 5.0}), ('A1K1JW1C5CUSUZ', {'0002007770': 5.0, '0007136838': 5.0, '0007149824': 5.0, '0007167040': 5.0, '0007172826': 4.0, '0007230206': 5.0, '0020519001': 5.0, '0020519109': 5.0, '0060098902': 5.0, '0060175966': 4.0, '0060194995': 5.0, '0060254920': 5.0, '0060530677': 2.0, '006073132X': 5.0, '0060742887': 5.0, '0060817089': 5.0, '0060838582': 5.0, '0061009059': 5.0, '0061015733': 4.0, '0061133973': 5.0, '0061340634': 5.0, '0061836923': 3.0, '0062008110': 4.0, '0099406136': 2.0, '0099450259': 4.0, '0099457156': 4.0, '0140012486': 5.0, '0140057072': 5.0, '0140390464': 5.0, '0141034262': 5.0, '0141040343': 5.0, '0141321008': 5.0, '0141441038': 5.0, '0142001805': 5.0, '0142004030': 5.0, '0142437263': 5.0, '0143036556': 3.0, '0143113496': 5.0, '0143142356': 4.0, '0143170090': 5.0, '0143170104': 5.0, '0151008116': 5.0, '0230014801': 5.0, '023070932X': 5.0, '0307264556': 4.0, '0307265439': 4.0, '030726999X': 5.0, '0307270777': 4.0, '0307272583': 3.0, '0307275639': 5.0, '0307358666': 5.0, '0307360814': 5.0, '0307386171': 2.0, '0307456625': 5.0, '0307593967': 5.0, '0307704254': 5.0, '0307749436': 4.0, '0307749584': 4.0, '0307749649': 4.0, '0307914208': 4.0, '030793313X': 4.0, '0307950654': 3.0, '0312265840': 5.0, '0312265867': 5.0, '0312289723': 5.0, '0312306261': 5.0, '0312306342': 3.0, '0312349483': 5.0, '0312349491': 5.0, '0312349513': 4.0, '0312383282': 3.0, '0312383304': 2.0, '0312421273': 3.0, '0312426321': 4.0, '0312576463': 5.0, '0312626681': 5.0, '0312675062': 5.0, '0312950489': 5.0, '0316010669': 3.0, '0316017922': 4.0, '0316018953': 3.0, '0316069353': 5.0, '0316069418': 4.0, '0316069434': 4.0, '0316069485': 4.0, '0316075841': 4.0, '0316153915': 4.0, '0316154059': 4.0, '0316154075': 5.0, '0316154601': 4.0, '0316154741': 5.0, '0316155306': 5.0, '0316166308': 4.0, '0316166316': 5.0, '0316204366': 4.0, '0316603570': 3.0, '0316666009': 4.0, '0316734942': 5.0, '0316734950': 5.0, '0345476972': 4.0, '0345476999': 5.0, '034551548X': 4.0, '0345527682': 2.0, '0345532015': 4.0, '0345532023': 3.0, '0345538196': 5.0, '0345803450': 3.0, '0374292795': 4.0, '0375405445': 4.0, '0375411089': 5.0, '0375433392': 3.0, '0375831002': 5.0, '0385336667': 5.0, '0385336675': 4.0, '0385340540': 3.0, '0385340559': 4.0, '0385340567': 3.0, '0385340990': 5.0, '0385344325': 4.0, '0385362307': 4.0, '0385516169': 3.0, '0385660065': 5.0, '0399142533': 4.0, '0399143793': 3.0, '0399147101': 4.0, '0399147268': 4.0, '0399148612': 4.0, '0399149155': 5.0, '0399149775': 4.0, '0399152288': 4.0, '0399152970': 5.0, '0399153764': 2.0, '0399156135': 4.0, '0441014100': 3.0, '0446532681': 3.0, '0618509283': 4.0, '0618680004': 3.0, '0684813637': 5.0, '0739464418': 5.0, '0743226712': 5.0, '0743276728': 5.0, '0743281616': 4.0, '0743281632': 4.0, '0743281640': 3.0, '0743291476': 3.0, '0743496728': 5.0, '0743554434': 5.0, '0751536822': 4.0, '0805090037': 5.0, '1400106656': 4.0, '1416594884': 5.0, '1442359919': 5.0, '1594744769': 5.0}), ('AWFMGDUUGNGYW', {'0002007770': 4.0, '0061733636': 4.0, '0141039280': 3.0, '030758836X': 4.0, '0307712508': 5.0, '0316204366': 5.0, '0446579807': 4.0}), ('A3PGGI7A6XCNF1', {'0002007770': 5.0, '0007149824': 4.0, '0060516054': 5.0, '0060530677': 4.0, '0060558121': 5.0, '0060584750': 5.0, '0061133973': 5.0, '0061147931': 5.0, '0061703257': 5.0, '0061733636': 4.0, '0061836923': 5.0, '0062037676': 3.0, '0062060554': 5.0, '0099429799': 5.0, '0099450259': 5.0, '0142001805': 5.0, '0142004030': 5.0, '0143034901': 5.0, '0143058754': 5.0, '0143113496': 5.0, '0307272583': 5.0, '0307277674': 5.0, '030727828X': 5.0, '0307279464': 5.0, '0307279936': 5.0, '0307341542': 5.0, '0307341569': 5.0, '0307408841': 4.0, '0307477401': 5.0, '030758836X': 5.0, '0307744434': 5.0, '0307749584': 5.0, '0307885151': 5.0, '0312265867': 5.0, '0312282990': 5.0, '0312289723': 5.0, '0312306261': 5.0, '0312306342': 4.0, '0312319142': 5.0, '0312319169': 5.0, '0312347472': 5.0, '0312349483': 5.0, '0312349491': 4.0, '0312349513': 5.0, '0312368461': 5.0, '031236847X': 5.0, '0312379080': 5.0, '0312383282': 5.0, '0312383304': 5.0, '0312421273': 5.0, '0312426321': 4.0, '0316001821': 5.0, '0316010707': 4.0, '0316011770': 5.0, '0316666009': 5.0, '0345504968': 3.0, '0345527682': 4.0, '0375405445': 5.0, '0375411089': 5.0, '0375725601': 5.0, '0375831002': 5.0, '0385516169': 5.0, '0385660065': 5.0, '0446402389': 5.0, '0451185455': 5.0, '0641934173': 5.0, '0684813637': 5.0, '0684824906': 5.0, '0739458213': 5.0, '0739474812': 5.0, '0743226712': 5.0, '0743276728': 4.0, '0743292332': 5.0, '0743496728': 5.0, '0743554434': 5.0, '1442359919': 5.0, '1442362383': 5.0}), ('A2E3GFHUDNPYDH', {'0002007770': 4.0, '0007386648': 5.0, '0020519001': 3.0, '0020519109': 4.0, '0060098902': 5.0, '0060194995': 5.0, '0060530928': 3.0, '0060838728': 3.0, '0060850523': 4.0, '0060872985': 2.0, '006092988X': 4.0, '0061340634': 4.0, '0061537934': 3.0, '0062049801': 5.0, '0062255657': 4.0, '0062314254': 5.0, '0099740915': 5.0, '0140012486': 3.0, '0140057072': 4.0, '0140177396': 5.0, '0140283331': 4.0, '0140390464': 3.0, '0140620303': 5.0, '0141034262': 3.0, '0141039280': 5.0, '014118776X': 5.0, '0141321008': 4.0, '0141326085': 3.0, '014242207X': 4.0, '0143037145': 2.0, '0143058754': 4.0, '0143113496': 3.0, '0143170090': 4.0, '0307245306': 5.0, '0307264556': 4.0, '0307265439': 4.0, '030728090X': 4.0, '0307346609': 5.0, '0307352145': 4.0, '0307360814': 5.0, '0307386171': 2.0, '0307387135': 3.0, '0307456625': 4.0, '030758836X': 2.0, '0307712508': 5.0, '030788743X': 5.0, '0307913090': 4.0, '0312282990': 4.0, '0312360525': 1.0, '0312370830': 2.0, '0312626681': 2.0, '0312853238': 5.0, '031286504X': 4.0, '0316017922': 3.0, '0316098329': 2.0, '0330419129': 4.0, '0345505336': 4.0, '0375725601': 4.0, '0375831002': 5.0, '0385340990': 4.0, '0385516169': 4.0, '0385660065': 4.0, '0439023483': 5.0, '0439023491': 5.0, '0439023513': 5.0, '0446402389': 3.0, '0446579807': 4.0, '0545123267': 2.0, '0595440096': 2.0, '0618680004': 4.0, '0679722645': 3.0, '0739334670': 4.0, '0739458213': 4.0, '0739474812': 2.0, '0743467728': 5.0, '0743554434': 3.0, '1400106656': 4.0, '1594744769': 3.0}), ('A22B13EJTZKCTM', {'0002007770': 5.0, '0007172826': 4.0, '0060098902': 4.0, '0060530928': 5.0, '0060850523': 4.0, '0061138061': 5.0, '0061245089': 5.0, '0061245097': 5.0, '0061957895': 4.0, '0061957917': 5.0, '0062024027': 5.0, '0062071246': 4.0, '0062128027': 4.0, '0062255657': 5.0, '0141040343': 4.0, '014118776X': 4.0, '0141191538': 4.0, '0141321008': 3.0, '0141326085': 3.0, '0141441038': 4.0, '0142001805': 5.0, '0142004030': 5.0, '014241591X': 4.0, '014242207X': 3.0, '0142800821': 4.0, '0143142372': 4.0, '0143170090': 3.0, '015206396X': 5.0, '0261103288': 5.0, '0307245306': 4.0, '0307265439': 3.0, '0307744434': 5.0, '030788743X': 5.0, '0307914208': 4.0, '0316027650': 5.0, '0316036919': 3.0, '031613399X': 4.0, '0373210086': 5.0, '0373210132': 5.0, '0373210574': 5.0, '0373210698': 4.0, '0375831002': 5.0, '0385339151': 4.0, '0385660065': 4.0, '0425256960': 2.0, '0425264203': 4.0, '0439023483': 5.0, '0439023513': 5.0, '0441010652': 4.0, '0441013813': 3.0, '0441015891': 4.0, '0441017150': 2.0, '0441018645': 3.0, '0446563072': 4.0, '0446616419': 3.0, '0451216954': 4.0, '0451218043': 4.0, '0451229681': 4.0, '0545123267': 4.0, '0743566572': 2.0, '076366040X': 5.0, '1439147973': 5.0, '1442409053': 5.0, '1594744769': 4.0}), ('A2MF2QVSCUI27G', {'0002007770': 5.0, '0007172826': 4.0, '0007230206': 5.0, '0060175400': 5.0, '0060742887': 3.0, '0060838728': 4.0, '0061015733': 3.0, '0061703257': 4.0, '0061836923': 4.0, '0062060554': 4.0, '0099429799': 5.0, '0099453924': 5.0, '0099464462': 4.0, '0143113496': 4.0, '0143115006': 4.0, '0143142356': 4.0, '0307277887': 4.0, '030727828X': 4.0, '0307341542': 5.0, '0307341569': 5.0, '0307386171': 5.0, '0307473716': 4.0, '030758836X': 5.0, '0307596907': 5.0, '0312169787': 3.0, '0312243022': 3.0, '0312319142': 3.0, '0312319169': 4.0, '0312360525': 4.0, '0312368461': 4.0, '0312421273': 3.0, '0312426321': 4.0, '0312428227': 4.0, '0316001821': 3.0, '0316010707': 4.0, '0316011770': 3.0, '0316012823': 4.0, '0316018953': 4.0, '0316032212': 4.0, '0316069353': 4.0, '0316069418': 5.0, '0316069485': 5.0, '0316098329': 4.0, '0316166308': 5.0, '0375725601': 4.0, '0385336667': 4.0, '0385340540': 3.0, '0385340559': 3.0, '0385340567': 4.0, '0385344074': 4.0, '0385346859': 4.0, '0385511809': 5.0, '0385660065': 5.0, '0399148612': 4.0, '0446402389': 5.0, '0451221958': 4.0, '0743554434': 4.0, '0805090037': 4.0, '1416549994': 4.0}), ('A1RMHZSWZ7ZEQO', {'0002007770': 4.0, '0007386648': 5.0, '0020519109': 5.0, '006073132X': 5.0, '0060817089': 1.0, '0060838582': 4.0, '0061340634': 4.0, '0061537934': 5.0, '0062037676': 2.0, '0099450259': 5.0, '0140060286': 5.0, '0143058754': 5.0, '0143115006': 3.0, '0143170090': 4.0, '0143170104': 5.0, '0307277674': 5.0, '0307277887': 4.0, '0307473716': 4.0, '0307749649': 5.0, '0307885151': 3.0, '030793313X': 4.0, '0312265840': 4.0, '0312265867': 3.0, '0312282990': 2.0, '0312349483': 4.0, '0312360525': 3.0, '0312368461': 4.0, '031236847X': 5.0, '0312368488': 4.0, '0312369727': 3.0, '0312383282': 2.0, '0312428227': 2.0, '0316154059': 3.0, '0316154741': 4.0, '0316166316': 4.0, '0316734942': 4.0, '0345476999': 4.0, '0345527682': 1.0, '0345533054': 5.0, '0345538196': 4.0, '0345803450': 2.0, '0374214913': 5.0, '0375411089': 4.0, '0375433392': 4.0, '0375725601': 3.0, '0385336667': 4.0, '0385336675': 5.0, '0385340559': 4.0, '0385340567': 2.0, '0385340990': 5.0, '0385346859': 3.0, '0385362307': 4.0, '0385511809': 4.0, '0385660065': 5.0, '0399143793': 4.0, '0399149775': 4.0, '0399153764': 3.0, '0399156135': 4.0, '0446402389': 5.0, '045121577X': 5.0, '0451219244': 4.0, '0451221958': 4.0, '045122650X': 4.0, '0451232704': 5.0, '045141411X': 5.0, '0618509283': 3.0, '0684824906': 4.0, '0718178122': 5.0, '0739464418': 4.0, '0743281616': 4.0, '0743281632': 5.0, '0743281640': 4.0, '0743554434': 4.0, '0751536822': 2.0, '1416549994': 4.0, '1416585834': 4.0, '147780756X': 4.0}), ('AS6SH2JM2YY3H', {'0002007770': 3.0, '0007386648': 5.0, '0060175966': 5.0, '006073132X': 4.0, '0060987103': 3.0, '0061147931': 4.0, '0061340634': 3.0, '0061537934': 5.0, '0061558230': 3.0, '0062255657': 4.0, '0141034262': 4.0, '0143170090': 4.0, '0143170104': 5.0, '0230014801': 5.0, '0307264556': 4.0, '0307275639': 4.0, '030727828X': 2.0, '030728364X': 5.0, '0307712508': 5.0, '0307885151': 5.0, '0307913090': 5.0, '031218087X': 3.0, '0312853238': 5.0, '031286504X': 5.0, '0316001821': 3.0, '0316010669': 3.0, '0316012823': 4.0, '0316018953': 4.0, '0316159778': 4.0, '0316346624': 2.0, '0330419129': 5.0, '0345504968': 3.0, '0345538196': 4.0, '0385340990': 4.0, '0385344074': 4.0, '0393035158': 5.0, '0439023483': 5.0, '0439023491': 5.0, '0439023513': 3.0, '0439136350': 4.0, '0441014100': 5.0, '0451185455': 4.0, '0553589091': 5.0, '0684824906': 5.0, '0743292332': 4.0, '0743454529': 5.0, '0743496728': 4.0}), ('A2ZHH7AK83JB5G', {'0002007770': 3.0, '0060254920': 5.0, '0061340634': 4.0, '0062008110': 5.0, '0062060554': 4.0, '0062128027': 3.0, '006222543X': 4.0, '014118776X': 5.0, '0307341542': 4.0, '030758836X': 4.0, '0307596907': 4.0, '0307744434': 2.0, '0312278586': 3.0, '0312368461': 3.0, '031236847X': 2.0, '0312428227': 2.0, '0316069485': 3.0, '0316098329': 3.0, '0316166308': 3.0, '0316228532': 4.0, '0316734950': 4.0, '0345532015': 5.0, '0385340990': 5.0, '0385346859': 3.0, '0385362307': 3.0, '0451221958': 4.0, '045122650X': 3.0, '0718178122': 5.0, '0739474812': 2.0, '1594744769': 4.0}), ('A1S3IN6CSTBPY6', {'0002007770': 5.0, '0060817089': 5.0, '0099911701': 5.0, '0140060286': 5.0, '0141039280': 5.0, '0142001740': 5.0, '030728364X': 5.0, '0307358666': 5.0, '0307596907': 3.0, '0312370830': 5.0, '031242440X': 5.0, '0340953950': 5.0, '0345505336': 5.0, '0374214913': 3.0, '0385340990': 5.0, '0439136350': 5.0, '0439139597': 4.0, '043935806X': 4.0, '0451185455': 5.0, '0517580519': 1.0, '0739334670': 5.0, '0751536822': 5.0, '076366040X': 5.0, '0778314472': 5.0, '0778314529': 5.0, '1401309658': 5.0}), ('A2VMT89TCSF105', {'0007124015': 3.0, '014118776X': 5.0, '0307593967': 2.0, '0393038912': 4.0, '0441014100': 3.0, '0618680004': 2.0}), ('A20IIR0422G3A5', {'0007124015': 5.0, '0141191538': 5.0, '0261103288': 4.0, '0345339703': 5.0}), ('A11B61QBGHLQDN', {'0007124015': 5.0, '0060277270': 5.0, '0061340634': 4.0, '0061703257': 4.0, '0062015664': 4.0, '0062037676': 4.0, '0062049801': 3.0, '0099457156': 4.0, '0140060286': 5.0, '0140620303': 5.0, '0143058754': 5.0, '0151008116': 2.0, '0307277674': 2.0, '030727828X': 3.0, '030728364X': 5.0, '0307358666': 3.0, '0307387135': 2.0, '0307456625': 5.0, '0307749649': 3.0, '0312243022': 2.0, '0312367546': 4.0, '0312950489': 4.0, '0316018953': 4.0, '0316069418': 5.0, '0316069485': 4.0, '0316154059': 4.0, '0316154601': 5.0, '0316154741': 5.0, '0316155306': 3.0, '0316166316': 4.0, '0316734942': 4.0, '0316734950': 5.0, '0330419129': 4.0, '0345339703': 5.0, '034553302X': 4.0, '0345533054': 3.0, '0374292795': 2.0, '037543318X': 2.0, '0375831002': 5.0, '0385336667': 5.0, '0385344074': 5.0, '0399156135': 4.0, '0439023483': 4.0, '0439023491': 4.0, '0439023513': 3.0, '0439064864': 4.0, '0439136350': 5.0, '0439139597': 5.0, '043920352X': 5.0, '043935806X': 5.0, '0446402389': 5.0, '045121577X': 4.0, '0451219244': 5.0, '0451221958': 5.0, '045122650X': 5.0, '0553589091': 4.0, '0743226712': 4.0, '0743281640': 5.0, '0743291476': 5.0, '0751536822': 4.0, '095546563X': 4.0}), ('A3GQKB1KF0CRPE', {'0007124015': 5.0, '0060175966': 5.0, '0142800821': 3.0, '0399149325': 2.0}), ('A1D2C0WDCSHUWZ', {'0007124015': 5.0, '0060277270': 4.0, '0060530928': 5.0, '0061138061': 5.0, '0061146307': 5.0, '0061558222': 4.0, '0061558230': 5.0, '0061957895': 5.0, '0062008110': 5.0, '0062071246': 4.0, '0062255657': 5.0, '0140012486': 4.0, '0140620303': 5.0, '0141040343': 5.0, '014143984X': 5.0, '0142001805': 4.0, '0142004030': 5.0, '0142437263': 5.0, '0143170090': 4.0, '0143170104': 5.0, '0261103288': 5.0, '0307245306': 4.0, '0307270777': 5.0, '030728090X': 1.0, '0307744434': 4.0, '0307913090': 5.0, '0307914208': 4.0, '0312278586': 3.0, '0312360525': 3.0, '0312367546': 5.0, '0312853238': 5.0, '0316001821': 5.0, '0316011770': 4.0, '0316024961': 1.0, '0316027650': 1.0, '031604461X': 1.0, '031613399X': 5.0, '0345339703': 5.0, '0345504968': 5.0, '0356500276': 4.0, '0373210086': 4.0, '0373210132': 4.0, '0373210574': 5.0, '0373210698': 4.0, '0375826688': 2.0, '0399149325': 1.0, '042518756X': 3.0, '0425256383': 4.0, '0425256960': 3.0, '0439023483': 5.0, '043920352X': 2.0, '0439227143': 5.0, '0441008534': 4.0, '0441010652': 4.0, '0441017150': 4.0, '0441018645': 3.0, '0446563072': 3.0, '045141411X': 2.0, '0451458443': 5.0, '0545123267': 5.0, '0641934173': 5.0, '0679722645': 4.0, '0743291476': 4.0}), ('AQZH7YTWQPOBE', {'0007124015': 5.0, '0060530677': 4.0, '0061733636': 4.0, '0143036556': 5.0, '0151008116': 3.0, '0261103288': 5.0, '0307593967': 2.0, '0307885151': 2.0, '030788743X': 5.0, '0312853238': 4.0, '0340839937': 4.0, '0393038912': 4.0, '0441014100': 5.0, '0739464418': 5.0})]\n"
          ]
        }
      ],
      "source": [
        "user_item_matrix = book_rates_rdd \\\n",
        "    .map(lambda x: (x[0], {x[1]: x[2]})) \\\n",
        "    .reduceByKey(lambda x, y: {**x, **y})\n",
        "\n",
        "print(user_item_matrix.take(20))"
      ]
    },
    {
      "cell_type": "code",
      "execution_count": null,
      "metadata": {
        "id": "2jf2vdbdSAk8"
      },
      "outputs": [],
      "source": [
        "book_features_rdd = book_rates_rdd \\\n",
        "    .map(lambda x: (x[1], (x[0], x[2]))) \\\n",
        "    .groupByKey() \\\n",
        "    .map(lambda x: (x[0], [rating for _, rating in x[1]]))\n",
        "\n"
      ]
    },
    {
      "cell_type": "code",
      "execution_count": null,
      "metadata": {
        "id": "s7zS07h0SAk9"
      },
      "outputs": [],
      "source": [
        "# book_features_rdd = book_rates_rdd \\\n",
        "#     .map(lambda x: (x[0], (x[1], x[2]))) \\\n",
        "#     .groupByKey() \\\n",
        "#     .map(lambda x: (x[0], np.array([rating for _, rating in x[1]]).tolist()))\n"
      ]
    },
    {
      "cell_type": "code",
      "execution_count": null,
      "metadata": {
        "id": "Nl8f5MCUSAk_",
        "outputId": "1c866648-f274-4e2e-ea79-a4e9df45c924"
      },
      "outputs": [
        {
          "data": {
            "text/plain": [
              "[('0002007770',\n",
              "  [5.0,\n",
              "   5.0,\n",
              "   4.0,\n",
              "   4.0,\n",
              "   5.0,\n",
              "   4.0,\n",
              "   4.0,\n",
              "   5.0,\n",
              "   4.0,\n",
              "   5.0,\n",
              "   4.0,\n",
              "   4.0,\n",
              "   5.0,\n",
              "   4.0,\n",
              "   3.0,\n",
              "   5.0,\n",
              "   5.0,\n",
              "   2.0,\n",
              "   3.0,\n",
              "   4.0,\n",
              "   4.0,\n",
              "   5.0,\n",
              "   5.0,\n",
              "   3.0,\n",
              "   5.0,\n",
              "   5.0,\n",
              "   5.0,\n",
              "   2.0,\n",
              "   5.0,\n",
              "   4.0,\n",
              "   4.0,\n",
              "   3.0,\n",
              "   5.0,\n",
              "   5.0,\n",
              "   3.0,\n",
              "   5.0,\n",
              "   5.0]),\n",
              " ('0007124015',\n",
              "  [3.0,\n",
              "   5.0,\n",
              "   5.0,\n",
              "   5.0,\n",
              "   5.0,\n",
              "   5.0,\n",
              "   5.0,\n",
              "   5.0,\n",
              "   5.0,\n",
              "   5.0,\n",
              "   5.0,\n",
              "   4.0,\n",
              "   2.0,\n",
              "   5.0,\n",
              "   5.0,\n",
              "   5.0,\n",
              "   2.0,\n",
              "   5.0,\n",
              "   5.0,\n",
              "   5.0,\n",
              "   5.0,\n",
              "   4.0,\n",
              "   5.0,\n",
              "   5.0,\n",
              "   5.0,\n",
              "   5.0,\n",
              "   5.0,\n",
              "   5.0,\n",
              "   5.0,\n",
              "   5.0,\n",
              "   5.0,\n",
              "   5.0])]"
            ]
          },
          "execution_count": 47,
          "metadata": {},
          "output_type": "execute_result"
        }
      ],
      "source": [
        "book_features_rdd.take(2)"
      ]
    },
    {
      "cell_type": "code",
      "execution_count": null,
      "metadata": {
        "id": "V6YalysdSAlA",
        "outputId": "3951f19b-2306-4dd2-da55-6d51cd2e0597"
      },
      "outputs": [
        {
          "name": "stdout",
          "output_type": "stream",
          "text": [
            "+----------+--------------------+\n",
            "|    BookID|            Features|\n",
            "+----------+--------------------+\n",
            "|0002007770|[5.0, 5.0, 4.0, 4...|\n",
            "|0007124015|[3.0, 5.0, 5.0, 5...|\n",
            "|0007136838|[4.0, 4.0, 5.0, 4...|\n",
            "|0007167040|[5.0, 5.0, 5.0, 5...|\n",
            "|0007172826|[5.0, 5.0, 4.0, 4...|\n",
            "|0007386648|[5.0, 4.0, 5.0, 5...|\n",
            "|0020519109|[5.0, 3.0, 5.0, 4...|\n",
            "|0060098902|[5.0, 3.0, 5.0, 5...|\n",
            "|0060175400|[5.0, 3.0, 5.0, 3...|\n",
            "|0060175966|[3.0, 5.0, 4.0, 5...|\n",
            "+----------+--------------------+\n",
            "only showing top 10 rows\n",
            "\n"
          ]
        }
      ],
      "source": [
        "# convert to DataFrame\n",
        "book_features_df = book_features_rdd.toDF([\"BookID\", \"Features\"])\n",
        "book_features_df.show(10)"
      ]
    },
    {
      "cell_type": "code",
      "execution_count": null,
      "metadata": {
        "id": "Fn-lwTsHSAlC",
        "outputId": "cfde3ccb-ca24-4628-8a2b-5ef2e7d1387e"
      },
      "outputs": [
        {
          "name": "stdout",
          "output_type": "stream",
          "text": [
            "+----------+--------------------+--------------------+\n",
            "|    BookID|            Features|          HashValues|\n",
            "+----------+--------------------+--------------------+\n",
            "|0002007770|[5.0, 5.0, 4.0, 4...|594ea621dd3b3e1e2...|\n",
            "|0007124015|[3.0, 5.0, 5.0, 5...|b691eb281616c24c6...|\n",
            "|0007136838|[4.0, 4.0, 5.0, 4...|e60eb553d23fb8904...|\n",
            "|0007167040|[5.0, 5.0, 5.0, 5...|ceba897e9dab7f03e...|\n",
            "|0007172826|[5.0, 5.0, 4.0, 4...|ff4ddc68a09758962...|\n",
            "|0007386648|[5.0, 4.0, 5.0, 5...|20eafd48b7b15e718...|\n",
            "|0020519109|[5.0, 3.0, 5.0, 4...|ddffe0fef299932c8...|\n",
            "|0060098902|[5.0, 3.0, 5.0, 5...|a0a23d229ad8dfbbd...|\n",
            "|0060175400|[5.0, 3.0, 5.0, 3...|23484a21efeeb774e...|\n",
            "|0060175966|[3.0, 5.0, 4.0, 5...|5d5c6a39417ec731b...|\n",
            "|0060277270|[4.0, 5.0, 4.0, 5...|41ade9d435df61653...|\n",
            "|0060530928|[5.0, 5.0, 5.0, 5...|6f12f4f1827dd1214...|\n",
            "|0060558121|[2.0, 4.0, 3.0, 4...|b12168fe0fa210085...|\n",
            "|0060572965|[4.0, 4.0, 5.0, 4...|11b5bc3af9d09e4aa...|\n",
            "|0060572973|[5.0, 5.0, 3.0, 4...|27757bfe02881824f...|\n",
            "|0060584750|[5.0, 5.0, 4.0, 5...|ad480ce6803fd23a4...|\n",
            "|006073132X|[3.0, 4.0, 5.0, 5...|212b1542dd0bdafce...|\n",
            "|0060838582|[5.0, 5.0, 4.0, 5...|99281a9a54f2764b4...|\n",
            "|0060850523|[3.0, 5.0, 5.0, 5...|8f61d81590c1a3b17...|\n",
            "|0060872985|[5.0, 5.0, 5.0, 3...|46e332cda0d65dce4...|\n",
            "+----------+--------------------+--------------------+\n",
            "only showing top 20 rows\n",
            "\n"
          ]
        }
      ],
      "source": [
        "def generate_hash(features):\n",
        "    features_str = ','.join(map(str, features))\n",
        "    return hashlib.md5(features_str.encode()).hexdigest()\n",
        "\n",
        "generate_hash_udf = udf(generate_hash, StringType())\n",
        "\n",
        "book_features_df = book_features_df.withColumn(\"HashValues\", generate_hash_udf(book_features_df[\"Features\"]))\n",
        "\n",
        "book_features_df.show()\n"
      ]
    },
    {
      "cell_type": "markdown",
      "metadata": {
        "id": "gk0l2KEMSAlE"
      },
      "source": [
        "---\n",
        "### ``` Pearson correlation coefficient```"
      ]
    },
    {
      "cell_type": "code",
      "execution_count": null,
      "metadata": {
        "id": "jZf57a9hSAlF"
      },
      "outputs": [],
      "source": [
        "def pearson_correlation(features1, features2):\n",
        "    n = len(features1)\n",
        "    mean1 = sum(features1) / n\n",
        "    mean2 = sum(features2) / n\n",
        "\n",
        "    numerator = sum((x - mean1) * (y - mean2) for x, y in zip(features1, features2))\n",
        "    denominator1 = sum((x - mean1) ** 2 for x in features1) ** 0.5\n",
        "    denominator2 = sum((y - mean2) ** 2 for y in features2) ** 0.5\n",
        "    denominator = denominator1 * denominator2\n",
        "\n",
        "    return numerator / denominator if denominator != 0 else 0.0\n",
        "\n",
        "pearson_correlation_udf = udf(pearson_correlation, FloatType())\n",
        "cartesian_df = book_features_df.alias(\"A\").crossJoin(book_features_df.alias(\"B\"))\n",
        "\n",
        "pearson_similar_items = cartesian_df.withColumn(\n",
        "    \"Similarity\",\n",
        "    pearson_correlation_udf(col(\"A.Features\"), col(\"B.Features\"))\n",
        ").filter(col(\"A.BookID\") != col(\"B.BookID\"))\n"
      ]
    },
    {
      "cell_type": "code",
      "execution_count": null,
      "metadata": {
        "id": "OVKv8dvjSAlH",
        "outputId": "22ca03cc-28e9-4540-e788-6966799a7bc5"
      },
      "outputs": [
        {
          "name": "stdout",
          "output_type": "stream",
          "text": [
            "+----------+--------------------+--------------------+----------+--------------------+--------------------+-------------+\n",
            "|    BookID|            Features|          HashValues|    BookID|            Features|          HashValues|   Similarity|\n",
            "+----------+--------------------+--------------------+----------+--------------------+--------------------+-------------+\n",
            "|0002007770|[5.0, 5.0, 4.0, 4...|594ea621dd3b3e1e2...|0007124015|[3.0, 5.0, 5.0, 5...|b691eb281616c24c6...|  -0.26486424|\n",
            "|0002007770|[5.0, 5.0, 4.0, 4...|594ea621dd3b3e1e2...|0007136838|[4.0, 4.0, 5.0, 4...|e60eb553d23fb8904...|   0.11497497|\n",
            "|0002007770|[5.0, 5.0, 4.0, 4...|594ea621dd3b3e1e2...|0007167040|[5.0, 5.0, 5.0, 5...|ceba897e9dab7f03e...|  -0.02273257|\n",
            "|0002007770|[5.0, 5.0, 4.0, 4...|594ea621dd3b3e1e2...|0007172826|[5.0, 5.0, 4.0, 4...|ff4ddc68a09758962...|   0.17255066|\n",
            "|0002007770|[5.0, 5.0, 4.0, 4...|594ea621dd3b3e1e2...|0007386648|[5.0, 4.0, 5.0, 5...|20eafd48b7b15e718...|-0.0045036594|\n",
            "|0002007770|[5.0, 5.0, 4.0, 4...|594ea621dd3b3e1e2...|0020519109|[5.0, 3.0, 5.0, 4...|ddffe0fef299932c8...| -0.050422482|\n",
            "|0002007770|[5.0, 5.0, 4.0, 4...|594ea621dd3b3e1e2...|0060098902|[5.0, 3.0, 5.0, 5...|a0a23d229ad8dfbbd...| -0.040890608|\n",
            "|0002007770|[5.0, 5.0, 4.0, 4...|594ea621dd3b3e1e2...|0060175400|[5.0, 3.0, 5.0, 3...|23484a21efeeb774e...|  -0.11195717|\n",
            "|0002007770|[5.0, 5.0, 4.0, 4...|594ea621dd3b3e1e2...|0060175966|[3.0, 5.0, 4.0, 5...|5d5c6a39417ec731b...|  -0.06600658|\n",
            "|0002007770|[5.0, 5.0, 4.0, 4...|594ea621dd3b3e1e2...|0060277270|[4.0, 5.0, 4.0, 5...|41ade9d435df61653...|   0.05727312|\n",
            "|0002007770|[5.0, 5.0, 4.0, 4...|594ea621dd3b3e1e2...|0060530928|[5.0, 5.0, 5.0, 5...|6f12f4f1827dd1214...| -0.020993248|\n",
            "|0002007770|[5.0, 5.0, 4.0, 4...|594ea621dd3b3e1e2...|0060558121|[2.0, 4.0, 3.0, 4...|b12168fe0fa210085...|  0.032906815|\n",
            "|0002007770|[5.0, 5.0, 4.0, 4...|594ea621dd3b3e1e2...|0060572965|[4.0, 4.0, 5.0, 4...|11b5bc3af9d09e4aa...|  -0.04903344|\n",
            "|0002007770|[5.0, 5.0, 4.0, 4...|594ea621dd3b3e1e2...|0060572973|[5.0, 5.0, 3.0, 4...|27757bfe02881824f...|   0.07296951|\n",
            "|0002007770|[5.0, 5.0, 4.0, 4...|594ea621dd3b3e1e2...|0060584750|[5.0, 5.0, 4.0, 5...|ad480ce6803fd23a4...|  -0.06422061|\n",
            "|0002007770|[5.0, 5.0, 4.0, 4...|594ea621dd3b3e1e2...|006073132X|[3.0, 4.0, 5.0, 5...|212b1542dd0bdafce...| -0.029173234|\n",
            "|0002007770|[5.0, 5.0, 4.0, 4...|594ea621dd3b3e1e2...|0060838582|[5.0, 5.0, 4.0, 5...|99281a9a54f2764b4...|   -0.0982114|\n",
            "|0002007770|[5.0, 5.0, 4.0, 4...|594ea621dd3b3e1e2...|0060850523|[3.0, 5.0, 5.0, 5...|8f61d81590c1a3b17...| -0.060891442|\n",
            "|0002007770|[5.0, 5.0, 4.0, 4...|594ea621dd3b3e1e2...|0060872985|[5.0, 5.0, 5.0, 3...|46e332cda0d65dce4...| -0.017387502|\n",
            "|0002007770|[5.0, 5.0, 4.0, 4...|594ea621dd3b3e1e2...|0060987103|[4.0, 4.0, 4.0, 4...|0ba6c04b7ef72c1e8...|   0.15237081|\n",
            "+----------+--------------------+--------------------+----------+--------------------+--------------------+-------------+\n",
            "only showing top 20 rows\n",
            "\n"
          ]
        }
      ],
      "source": [
        "pearson_similar_items.show()"
      ]
    },
    {
      "cell_type": "code",
      "execution_count": null,
      "metadata": {
        "id": "KCQOpeDXSAlJ",
        "outputId": "bcc11021-37b0-456d-b42b-b29d3603ebc3"
      },
      "outputs": [
        {
          "name": "stdout",
          "output_type": "stream",
          "text": [
            "+----------+----------+-------------+\n",
            "|   BookID1|   BookID2|   Similarity|\n",
            "+----------+----------+-------------+\n",
            "|0002007770|0007124015|  -0.26486424|\n",
            "|0002007770|0007136838|   0.11497497|\n",
            "|0002007770|0007167040|  -0.02273257|\n",
            "|0002007770|0007172826|   0.17255066|\n",
            "|0002007770|0007386648|-0.0045036594|\n",
            "|0002007770|0020519109| -0.050422482|\n",
            "|0002007770|0060098902| -0.040890608|\n",
            "|0002007770|0060175400|  -0.11195717|\n",
            "|0002007770|0060175966|  -0.06600658|\n",
            "|0002007770|0060277270|   0.05727312|\n",
            "|0002007770|0060530928| -0.020993248|\n",
            "|0002007770|0060558121|  0.032906815|\n",
            "|0002007770|0060572965|  -0.04903344|\n",
            "|0002007770|0060572973|   0.07296951|\n",
            "|0002007770|0060584750|  -0.06422061|\n",
            "|0002007770|006073132X| -0.029173234|\n",
            "|0002007770|0060838582|   -0.0982114|\n",
            "|0002007770|0060850523| -0.060891442|\n",
            "|0002007770|0060872985| -0.017387502|\n",
            "|0002007770|0060987103|   0.15237081|\n",
            "+----------+----------+-------------+\n",
            "only showing top 20 rows\n",
            "\n"
          ]
        }
      ],
      "source": [
        "pearson_similar_items = pearson_similar_items.select(\n",
        "    col(\"A.BookID\").alias(\"BookID1\"),\n",
        "    col(\"B.BookID\").alias(\"BookID2\"),\n",
        "    \"Similarity\"\n",
        ")\n",
        "\n",
        "pearson_similar_items.show()"
      ]
    },
    {
      "cell_type": "code",
      "execution_count": null,
      "metadata": {
        "id": "WoQm51bXSAlK",
        "outputId": "071b99d7-8f10-4d2d-9b65-c93f0c311a75"
      },
      "outputs": [
        {
          "data": {
            "text/plain": [
              "[('A30H2335OM7RD6',\n",
              "  {'0002007770': 5.0,\n",
              "   '0060987103': 4.0,\n",
              "   '0061009059': 5.0,\n",
              "   '0099453924': 2.0,\n",
              "   '0099464462': 5.0,\n",
              "   '0140390464': 5.0,\n",
              "   '0141039280': 5.0,\n",
              "   '0261103288': 5.0,\n",
              "   '0307245306': 5.0,\n",
              "   '0312265840': 5.0,\n",
              "   '0312265859': 5.0,\n",
              "   '0312369727': 5.0,\n",
              "   '0312675062': 5.0,\n",
              "   '0385336667': 5.0,\n",
              "   '0385340990': 5.0,\n",
              "   '0399143793': 5.0,\n",
              "   '0399147268': 5.0,\n",
              "   '0399148612': 5.0}),\n",
              " ('A21NVBFIEQWDSG',\n",
              "  {'0002007770': 5.0,\n",
              "   '0007149824': 4.0,\n",
              "   '0061147931': 5.0,\n",
              "   '0099429799': 4.0,\n",
              "   '0099513021': 4.0,\n",
              "   '0141040343': 5.0,\n",
              "   '0142004332': 5.0,\n",
              "   '0143035304': 4.0,\n",
              "   '0143037145': 5.0,\n",
              "   '0143113496': 5.0,\n",
              "   '015206396X': 5.0,\n",
              "   '0307264556': 5.0,\n",
              "   '0307275167': 4.0,\n",
              "   '030727828X': 5.0,\n",
              "   '0307279936': 4.0,\n",
              "   '0307386171': 5.0,\n",
              "   '0307387135': 4.0,\n",
              "   '0312319169': 3.0,\n",
              "   '0312347472': 4.0,\n",
              "   '031242440X': 4.0,\n",
              "   '0312426321': 5.0,\n",
              "   '0316010669': 5.0,\n",
              "   '0316011770': 4.0,\n",
              "   '0316012823': 4.0,\n",
              "   '0316069418': 5.0,\n",
              "   '0316154741': 5.0,\n",
              "   '0316346624': 4.0,\n",
              "   '0340953950': 5.0,\n",
              "   '0345476972': 4.0,\n",
              "   '0345476999': 4.0,\n",
              "   '0375411089': 4.0,\n",
              "   '0385340990': 5.0,\n",
              "   '0385511809': 4.0,\n",
              "   '0446402389': 5.0,\n",
              "   '044650534X': 5.0,\n",
              "   '0446532681': 4.0,\n",
              "   '0446616419': 4.0,\n",
              "   '045122650X': 4.0,\n",
              "   '0553589091': 4.0,\n",
              "   '0739334670': 4.0,\n",
              "   '0743281632': 5.0}),\n",
              " ('A2PWUIQG57O1AZ',\n",
              "  {'0002007770': 4.0,\n",
              "   '0007205236': 5.0,\n",
              "   '0060175966': 2.0,\n",
              "   '0060742887': 4.0,\n",
              "   '0061015725': 3.0,\n",
              "   '0099406136': 4.0,\n",
              "   '0099457156': 4.0,\n",
              "   '0099740915': 4.0,\n",
              "   '0099911701': 5.0,\n",
              "   '0143037145': 4.0,\n",
              "   '0143115006': 5.0,\n",
              "   '0143142372': 5.0,\n",
              "   '0307456625': 4.0,\n",
              "   '0312169787': 5.0,\n",
              "   '031218087X': 2.0,\n",
              "   '0312349491': 4.0,\n",
              "   '0312422156': 5.0,\n",
              "   '0316018953': 4.0,\n",
              "   '0316154601': 3.0,\n",
              "   '0316154741': 5.0,\n",
              "   '0316155306': 4.0,\n",
              "   '0316666009': 5.0,\n",
              "   '0345476972': 4.0,\n",
              "   '0345533054': 4.0,\n",
              "   '0385340540': 4.0,\n",
              "   '0399152288': 3.0,\n",
              "   '0399152970': 4.0,\n",
              "   '043920352X': 5.0,\n",
              "   '045121577X': 4.0,\n",
              "   '0451221958': 5.0,\n",
              "   '045122650X': 4.0,\n",
              "   '0553584537': 4.0}),\n",
              " ('A1T17LMQABMBN5',\n",
              "  {'0002007770': 4.0,\n",
              "   '0007172826': 4.0,\n",
              "   '0020519001': 4.0,\n",
              "   '0060098902': 5.0,\n",
              "   '0060175400': 5.0,\n",
              "   '0060194995': 5.0,\n",
              "   '0060572965': 4.0,\n",
              "   '0060572973': 5.0,\n",
              "   '0060838582': 5.0,\n",
              "   '0060838728': 5.0,\n",
              "   '006092988X': 5.0,\n",
              "   '0061009059': 3.0,\n",
              "   '0061122416': 4.0,\n",
              "   '0062008110': 5.0,\n",
              "   '0099429799': 5.0,\n",
              "   '0099450259': 5.0,\n",
              "   '0099453924': 3.0,\n",
              "   '0099464462': 4.0,\n",
              "   '0099526832': 5.0,\n",
              "   '0099911701': 5.0,\n",
              "   '0140177396': 5.0,\n",
              "   '0141040343': 4.0,\n",
              "   '014118776X': 5.0,\n",
              "   '0141191538': 5.0,\n",
              "   '0142001740': 5.0,\n",
              "   '0142001805': 5.0,\n",
              "   '0143034901': 4.0,\n",
              "   '0151008116': 5.0,\n",
              "   '0261103288': 5.0,\n",
              "   '0307275167': 5.0,\n",
              "   '0307277674': 4.0,\n",
              "   '0307279936': 4.0,\n",
              "   '030728090X': 4.0,\n",
              "   '0312169787': 5.0,\n",
              "   '0312278586': 5.0,\n",
              "   '0312282990': 4.0,\n",
              "   '0312319142': 3.0,\n",
              "   '0312421273': 5.0,\n",
              "   '0312422156': 5.0,\n",
              "   '0316001821': 5.0,\n",
              "   '0316011770': 3.0,\n",
              "   '0316024961': 5.0,\n",
              "   '0316027650': 4.0,\n",
              "   '0316036919': 2.0,\n",
              "   '031604461X': 3.0,\n",
              "   '0345339703': 5.0,\n",
              "   '0356500276': 4.0,\n",
              "   '042518756X': 4.0,\n",
              "   '0441008534': 4.0,\n",
              "   '0441009239': 4.0,\n",
              "   '0441010512': 4.0,\n",
              "   '0441010652': 2.0,\n",
              "   '0441011675': 5.0,\n",
              "   '0441012795': 5.0,\n",
              "   '0441014003': 3.0,\n",
              "   '0441014941': 4.0,\n",
              "   '0441015891': 3.0,\n",
              "   '0441017150': 4.0,\n",
              "   '0441018645': 1.0,\n",
              "   '0446616419': 4.0,\n",
              "   '0451458443': 4.0,\n",
              "   '0739474812': 5.0,\n",
              "   '0743454529': 5.0}),\n",
              " ('A1K1JW1C5CUSUZ',\n",
              "  {'0002007770': 5.0,\n",
              "   '0007136838': 5.0,\n",
              "   '0007149824': 5.0,\n",
              "   '0007167040': 5.0,\n",
              "   '0007172826': 4.0,\n",
              "   '0007230206': 5.0,\n",
              "   '0020519001': 5.0,\n",
              "   '0020519109': 5.0,\n",
              "   '0060098902': 5.0,\n",
              "   '0060175966': 4.0,\n",
              "   '0060194995': 5.0,\n",
              "   '0060254920': 5.0,\n",
              "   '0060530677': 2.0,\n",
              "   '006073132X': 5.0,\n",
              "   '0060742887': 5.0,\n",
              "   '0060817089': 5.0,\n",
              "   '0060838582': 5.0,\n",
              "   '0061009059': 5.0,\n",
              "   '0061015733': 4.0,\n",
              "   '0061133973': 5.0,\n",
              "   '0061340634': 5.0,\n",
              "   '0061836923': 3.0,\n",
              "   '0062008110': 4.0,\n",
              "   '0099406136': 2.0,\n",
              "   '0099450259': 4.0,\n",
              "   '0099457156': 4.0,\n",
              "   '0140012486': 5.0,\n",
              "   '0140057072': 5.0,\n",
              "   '0140390464': 5.0,\n",
              "   '0141034262': 5.0,\n",
              "   '0141040343': 5.0,\n",
              "   '0141321008': 5.0,\n",
              "   '0141441038': 5.0,\n",
              "   '0142001805': 5.0,\n",
              "   '0142004030': 5.0,\n",
              "   '0142437263': 5.0,\n",
              "   '0143036556': 3.0,\n",
              "   '0143113496': 5.0,\n",
              "   '0143142356': 4.0,\n",
              "   '0143170090': 5.0,\n",
              "   '0143170104': 5.0,\n",
              "   '0151008116': 5.0,\n",
              "   '0230014801': 5.0,\n",
              "   '023070932X': 5.0,\n",
              "   '0307264556': 4.0,\n",
              "   '0307265439': 4.0,\n",
              "   '030726999X': 5.0,\n",
              "   '0307270777': 4.0,\n",
              "   '0307272583': 3.0,\n",
              "   '0307275639': 5.0,\n",
              "   '0307358666': 5.0,\n",
              "   '0307360814': 5.0,\n",
              "   '0307386171': 2.0,\n",
              "   '0307456625': 5.0,\n",
              "   '0307593967': 5.0,\n",
              "   '0307704254': 5.0,\n",
              "   '0307749436': 4.0,\n",
              "   '0307749584': 4.0,\n",
              "   '0307749649': 4.0,\n",
              "   '0307914208': 4.0,\n",
              "   '030793313X': 4.0,\n",
              "   '0307950654': 3.0,\n",
              "   '0312265840': 5.0,\n",
              "   '0312265867': 5.0,\n",
              "   '0312289723': 5.0,\n",
              "   '0312306261': 5.0,\n",
              "   '0312306342': 3.0,\n",
              "   '0312349483': 5.0,\n",
              "   '0312349491': 5.0,\n",
              "   '0312349513': 4.0,\n",
              "   '0312383282': 3.0,\n",
              "   '0312383304': 2.0,\n",
              "   '0312421273': 3.0,\n",
              "   '0312426321': 4.0,\n",
              "   '0312576463': 5.0,\n",
              "   '0312626681': 5.0,\n",
              "   '0312675062': 5.0,\n",
              "   '0312950489': 5.0,\n",
              "   '0316010669': 3.0,\n",
              "   '0316017922': 4.0,\n",
              "   '0316018953': 3.0,\n",
              "   '0316069353': 5.0,\n",
              "   '0316069418': 4.0,\n",
              "   '0316069434': 4.0,\n",
              "   '0316069485': 4.0,\n",
              "   '0316075841': 4.0,\n",
              "   '0316153915': 4.0,\n",
              "   '0316154059': 4.0,\n",
              "   '0316154075': 5.0,\n",
              "   '0316154601': 4.0,\n",
              "   '0316154741': 5.0,\n",
              "   '0316155306': 5.0,\n",
              "   '0316166308': 4.0,\n",
              "   '0316166316': 5.0,\n",
              "   '0316204366': 4.0,\n",
              "   '0316603570': 3.0,\n",
              "   '0316666009': 4.0,\n",
              "   '0316734942': 5.0,\n",
              "   '0316734950': 5.0,\n",
              "   '0345476972': 4.0,\n",
              "   '0345476999': 5.0,\n",
              "   '034551548X': 4.0,\n",
              "   '0345527682': 2.0,\n",
              "   '0345532015': 4.0,\n",
              "   '0345532023': 3.0,\n",
              "   '0345538196': 5.0,\n",
              "   '0345803450': 3.0,\n",
              "   '0374292795': 4.0,\n",
              "   '0375405445': 4.0,\n",
              "   '0375411089': 5.0,\n",
              "   '0375433392': 3.0,\n",
              "   '0375831002': 5.0,\n",
              "   '0385336667': 5.0,\n",
              "   '0385336675': 4.0,\n",
              "   '0385340540': 3.0,\n",
              "   '0385340559': 4.0,\n",
              "   '0385340567': 3.0,\n",
              "   '0385340990': 5.0,\n",
              "   '0385344325': 4.0,\n",
              "   '0385362307': 4.0,\n",
              "   '0385516169': 3.0,\n",
              "   '0385660065': 5.0,\n",
              "   '0399142533': 4.0,\n",
              "   '0399143793': 3.0,\n",
              "   '0399147101': 4.0,\n",
              "   '0399147268': 4.0,\n",
              "   '0399148612': 4.0,\n",
              "   '0399149155': 5.0,\n",
              "   '0399149775': 4.0,\n",
              "   '0399152288': 4.0,\n",
              "   '0399152970': 5.0,\n",
              "   '0399153764': 2.0,\n",
              "   '0399156135': 4.0,\n",
              "   '0441014100': 3.0,\n",
              "   '0446532681': 3.0,\n",
              "   '0618509283': 4.0,\n",
              "   '0618680004': 3.0,\n",
              "   '0684813637': 5.0,\n",
              "   '0739464418': 5.0,\n",
              "   '0743226712': 5.0,\n",
              "   '0743276728': 5.0,\n",
              "   '0743281616': 4.0,\n",
              "   '0743281632': 4.0,\n",
              "   '0743281640': 3.0,\n",
              "   '0743291476': 3.0,\n",
              "   '0743496728': 5.0,\n",
              "   '0743554434': 5.0,\n",
              "   '0751536822': 4.0,\n",
              "   '0805090037': 5.0,\n",
              "   '1400106656': 4.0,\n",
              "   '1416594884': 5.0,\n",
              "   '1442359919': 5.0,\n",
              "   '1594744769': 5.0}),\n",
              " ('AWFMGDUUGNGYW',\n",
              "  {'0002007770': 4.0,\n",
              "   '0061733636': 4.0,\n",
              "   '0141039280': 3.0,\n",
              "   '030758836X': 4.0,\n",
              "   '0307712508': 5.0,\n",
              "   '0316204366': 5.0,\n",
              "   '0446579807': 4.0}),\n",
              " ('A3PGGI7A6XCNF1',\n",
              "  {'0002007770': 5.0,\n",
              "   '0007149824': 4.0,\n",
              "   '0060516054': 5.0,\n",
              "   '0060530677': 4.0,\n",
              "   '0060558121': 5.0,\n",
              "   '0060584750': 5.0,\n",
              "   '0061133973': 5.0,\n",
              "   '0061147931': 5.0,\n",
              "   '0061703257': 5.0,\n",
              "   '0061733636': 4.0,\n",
              "   '0061836923': 5.0,\n",
              "   '0062037676': 3.0,\n",
              "   '0062060554': 5.0,\n",
              "   '0099429799': 5.0,\n",
              "   '0099450259': 5.0,\n",
              "   '0142001805': 5.0,\n",
              "   '0142004030': 5.0,\n",
              "   '0143034901': 5.0,\n",
              "   '0143058754': 5.0,\n",
              "   '0143113496': 5.0,\n",
              "   '0307272583': 5.0,\n",
              "   '0307277674': 5.0,\n",
              "   '030727828X': 5.0,\n",
              "   '0307279464': 5.0,\n",
              "   '0307279936': 5.0,\n",
              "   '0307341542': 5.0,\n",
              "   '0307341569': 5.0,\n",
              "   '0307408841': 4.0,\n",
              "   '0307477401': 5.0,\n",
              "   '030758836X': 5.0,\n",
              "   '0307744434': 5.0,\n",
              "   '0307749584': 5.0,\n",
              "   '0307885151': 5.0,\n",
              "   '0312265867': 5.0,\n",
              "   '0312282990': 5.0,\n",
              "   '0312289723': 5.0,\n",
              "   '0312306261': 5.0,\n",
              "   '0312306342': 4.0,\n",
              "   '0312319142': 5.0,\n",
              "   '0312319169': 5.0,\n",
              "   '0312347472': 5.0,\n",
              "   '0312349483': 5.0,\n",
              "   '0312349491': 4.0,\n",
              "   '0312349513': 5.0,\n",
              "   '0312368461': 5.0,\n",
              "   '031236847X': 5.0,\n",
              "   '0312379080': 5.0,\n",
              "   '0312383282': 5.0,\n",
              "   '0312383304': 5.0,\n",
              "   '0312421273': 5.0,\n",
              "   '0312426321': 4.0,\n",
              "   '0316001821': 5.0,\n",
              "   '0316010707': 4.0,\n",
              "   '0316011770': 5.0,\n",
              "   '0316666009': 5.0,\n",
              "   '0345504968': 3.0,\n",
              "   '0345527682': 4.0,\n",
              "   '0375405445': 5.0,\n",
              "   '0375411089': 5.0,\n",
              "   '0375725601': 5.0,\n",
              "   '0375831002': 5.0,\n",
              "   '0385516169': 5.0,\n",
              "   '0385660065': 5.0,\n",
              "   '0446402389': 5.0,\n",
              "   '0451185455': 5.0,\n",
              "   '0641934173': 5.0,\n",
              "   '0684813637': 5.0,\n",
              "   '0684824906': 5.0,\n",
              "   '0739458213': 5.0,\n",
              "   '0739474812': 5.0,\n",
              "   '0743226712': 5.0,\n",
              "   '0743276728': 4.0,\n",
              "   '0743292332': 5.0,\n",
              "   '0743496728': 5.0,\n",
              "   '0743554434': 5.0,\n",
              "   '1442359919': 5.0,\n",
              "   '1442362383': 5.0}),\n",
              " ('A2E3GFHUDNPYDH',\n",
              "  {'0002007770': 4.0,\n",
              "   '0007386648': 5.0,\n",
              "   '0020519001': 3.0,\n",
              "   '0020519109': 4.0,\n",
              "   '0060098902': 5.0,\n",
              "   '0060194995': 5.0,\n",
              "   '0060530928': 3.0,\n",
              "   '0060838728': 3.0,\n",
              "   '0060850523': 4.0,\n",
              "   '0060872985': 2.0,\n",
              "   '006092988X': 4.0,\n",
              "   '0061340634': 4.0,\n",
              "   '0061537934': 3.0,\n",
              "   '0062049801': 5.0,\n",
              "   '0062255657': 4.0,\n",
              "   '0062314254': 5.0,\n",
              "   '0099740915': 5.0,\n",
              "   '0140012486': 3.0,\n",
              "   '0140057072': 4.0,\n",
              "   '0140177396': 5.0,\n",
              "   '0140283331': 4.0,\n",
              "   '0140390464': 3.0,\n",
              "   '0140620303': 5.0,\n",
              "   '0141034262': 3.0,\n",
              "   '0141039280': 5.0,\n",
              "   '014118776X': 5.0,\n",
              "   '0141321008': 4.0,\n",
              "   '0141326085': 3.0,\n",
              "   '014242207X': 4.0,\n",
              "   '0143037145': 2.0,\n",
              "   '0143058754': 4.0,\n",
              "   '0143113496': 3.0,\n",
              "   '0143170090': 4.0,\n",
              "   '0307245306': 5.0,\n",
              "   '0307264556': 4.0,\n",
              "   '0307265439': 4.0,\n",
              "   '030728090X': 4.0,\n",
              "   '0307346609': 5.0,\n",
              "   '0307352145': 4.0,\n",
              "   '0307360814': 5.0,\n",
              "   '0307386171': 2.0,\n",
              "   '0307387135': 3.0,\n",
              "   '0307456625': 4.0,\n",
              "   '030758836X': 2.0,\n",
              "   '0307712508': 5.0,\n",
              "   '030788743X': 5.0,\n",
              "   '0307913090': 4.0,\n",
              "   '0312282990': 4.0,\n",
              "   '0312360525': 1.0,\n",
              "   '0312370830': 2.0,\n",
              "   '0312626681': 2.0,\n",
              "   '0312853238': 5.0,\n",
              "   '031286504X': 4.0,\n",
              "   '0316017922': 3.0,\n",
              "   '0316098329': 2.0,\n",
              "   '0330419129': 4.0,\n",
              "   '0345505336': 4.0,\n",
              "   '0375725601': 4.0,\n",
              "   '0375831002': 5.0,\n",
              "   '0385340990': 4.0,\n",
              "   '0385516169': 4.0,\n",
              "   '0385660065': 4.0,\n",
              "   '0439023483': 5.0,\n",
              "   '0439023491': 5.0,\n",
              "   '0439023513': 5.0,\n",
              "   '0446402389': 3.0,\n",
              "   '0446579807': 4.0,\n",
              "   '0545123267': 2.0,\n",
              "   '0595440096': 2.0,\n",
              "   '0618680004': 4.0,\n",
              "   '0679722645': 3.0,\n",
              "   '0739334670': 4.0,\n",
              "   '0739458213': 4.0,\n",
              "   '0739474812': 2.0,\n",
              "   '0743467728': 5.0,\n",
              "   '0743554434': 3.0,\n",
              "   '1400106656': 4.0,\n",
              "   '1594744769': 3.0}),\n",
              " ('A22B13EJTZKCTM',\n",
              "  {'0002007770': 5.0,\n",
              "   '0007172826': 4.0,\n",
              "   '0060098902': 4.0,\n",
              "   '0060530928': 5.0,\n",
              "   '0060850523': 4.0,\n",
              "   '0061138061': 5.0,\n",
              "   '0061245089': 5.0,\n",
              "   '0061245097': 5.0,\n",
              "   '0061957895': 4.0,\n",
              "   '0061957917': 5.0,\n",
              "   '0062024027': 5.0,\n",
              "   '0062071246': 4.0,\n",
              "   '0062128027': 4.0,\n",
              "   '0062255657': 5.0,\n",
              "   '0141040343': 4.0,\n",
              "   '014118776X': 4.0,\n",
              "   '0141191538': 4.0,\n",
              "   '0141321008': 3.0,\n",
              "   '0141326085': 3.0,\n",
              "   '0141441038': 4.0,\n",
              "   '0142001805': 5.0,\n",
              "   '0142004030': 5.0,\n",
              "   '014241591X': 4.0,\n",
              "   '014242207X': 3.0,\n",
              "   '0142800821': 4.0,\n",
              "   '0143142372': 4.0,\n",
              "   '0143170090': 3.0,\n",
              "   '015206396X': 5.0,\n",
              "   '0261103288': 5.0,\n",
              "   '0307245306': 4.0,\n",
              "   '0307265439': 3.0,\n",
              "   '0307744434': 5.0,\n",
              "   '030788743X': 5.0,\n",
              "   '0307914208': 4.0,\n",
              "   '0316027650': 5.0,\n",
              "   '0316036919': 3.0,\n",
              "   '031613399X': 4.0,\n",
              "   '0373210086': 5.0,\n",
              "   '0373210132': 5.0,\n",
              "   '0373210574': 5.0,\n",
              "   '0373210698': 4.0,\n",
              "   '0375831002': 5.0,\n",
              "   '0385339151': 4.0,\n",
              "   '0385660065': 4.0,\n",
              "   '0425256960': 2.0,\n",
              "   '0425264203': 4.0,\n",
              "   '0439023483': 5.0,\n",
              "   '0439023513': 5.0,\n",
              "   '0441010652': 4.0,\n",
              "   '0441013813': 3.0,\n",
              "   '0441015891': 4.0,\n",
              "   '0441017150': 2.0,\n",
              "   '0441018645': 3.0,\n",
              "   '0446563072': 4.0,\n",
              "   '0446616419': 3.0,\n",
              "   '0451216954': 4.0,\n",
              "   '0451218043': 4.0,\n",
              "   '0451229681': 4.0,\n",
              "   '0545123267': 4.0,\n",
              "   '0743566572': 2.0,\n",
              "   '076366040X': 5.0,\n",
              "   '1439147973': 5.0,\n",
              "   '1442409053': 5.0,\n",
              "   '1594744769': 4.0}),\n",
              " ('A2MF2QVSCUI27G',\n",
              "  {'0002007770': 5.0,\n",
              "   '0007172826': 4.0,\n",
              "   '0007230206': 5.0,\n",
              "   '0060175400': 5.0,\n",
              "   '0060742887': 3.0,\n",
              "   '0060838728': 4.0,\n",
              "   '0061015733': 3.0,\n",
              "   '0061703257': 4.0,\n",
              "   '0061836923': 4.0,\n",
              "   '0062060554': 4.0,\n",
              "   '0099429799': 5.0,\n",
              "   '0099453924': 5.0,\n",
              "   '0099464462': 4.0,\n",
              "   '0143113496': 4.0,\n",
              "   '0143115006': 4.0,\n",
              "   '0143142356': 4.0,\n",
              "   '0307277887': 4.0,\n",
              "   '030727828X': 4.0,\n",
              "   '0307341542': 5.0,\n",
              "   '0307341569': 5.0,\n",
              "   '0307386171': 5.0,\n",
              "   '0307473716': 4.0,\n",
              "   '030758836X': 5.0,\n",
              "   '0307596907': 5.0,\n",
              "   '0312169787': 3.0,\n",
              "   '0312243022': 3.0,\n",
              "   '0312319142': 3.0,\n",
              "   '0312319169': 4.0,\n",
              "   '0312360525': 4.0,\n",
              "   '0312368461': 4.0,\n",
              "   '0312421273': 3.0,\n",
              "   '0312426321': 4.0,\n",
              "   '0312428227': 4.0,\n",
              "   '0316001821': 3.0,\n",
              "   '0316010707': 4.0,\n",
              "   '0316011770': 3.0,\n",
              "   '0316012823': 4.0,\n",
              "   '0316018953': 4.0,\n",
              "   '0316032212': 4.0,\n",
              "   '0316069353': 4.0,\n",
              "   '0316069418': 5.0,\n",
              "   '0316069485': 5.0,\n",
              "   '0316098329': 4.0,\n",
              "   '0316166308': 5.0,\n",
              "   '0375725601': 4.0,\n",
              "   '0385336667': 4.0,\n",
              "   '0385340540': 3.0,\n",
              "   '0385340559': 3.0,\n",
              "   '0385340567': 4.0,\n",
              "   '0385344074': 4.0,\n",
              "   '0385346859': 4.0,\n",
              "   '0385511809': 5.0,\n",
              "   '0385660065': 5.0,\n",
              "   '0399148612': 4.0,\n",
              "   '0446402389': 5.0,\n",
              "   '0451221958': 4.0,\n",
              "   '0743554434': 4.0,\n",
              "   '0805090037': 4.0,\n",
              "   '1416549994': 4.0})]"
            ]
          },
          "execution_count": 16,
          "metadata": {},
          "output_type": "execute_result"
        }
      ],
      "source": [
        "user_item_matrix.take(10)\n"
      ]
    },
    {
      "cell_type": "markdown",
      "metadata": {
        "id": "NHrrZjHzSAlK"
      },
      "source": [
        "---\n",
        "\n",
        "### ``` Predict Score```"
      ]
    },
    {
      "cell_type": "code",
      "execution_count": null,
      "metadata": {
        "id": "ygnVEjWZSAlL"
      },
      "outputs": [],
      "source": [
        "# Mean on Train data\n",
        "mean_rating = book_rates_rdd.map(lambda x: float(x[2])).mean()\n",
        "\n",
        "# user-bias\n",
        "user_bias = book_rates_rdd \\\n",
        "    .map(lambda x: (x[0], (float(x[2]) - mean_rating))) \\\n",
        "    .groupByKey() \\\n",
        "    .mapValues(lambda values: sum(values) / len(values)) \\\n",
        "    .collectAsMap()\n",
        "\n",
        "# item-bias\n",
        "item_bias = book_rates_rdd \\\n",
        "    .map(lambda x: (x[1], (float(x[2]) - mean_rating - user_bias.get(x[0], 0)))) \\\n",
        "    .groupByKey() \\\n",
        "    .mapValues(lambda values: sum(values) / len(values)) \\\n",
        "    .collectAsMap()"
      ]
    },
    {
      "cell_type": "code",
      "execution_count": null,
      "metadata": {
        "id": "B0IbXzuFSAlM",
        "outputId": "f1d15daa-4067-4e1a-b208-00e9e00055a7"
      },
      "outputs": [
        {
          "name": "stdout",
          "output_type": "stream",
          "text": [
            "Predicted rating for User A30H2335OM7RD6 on Book 0007136838: 4.381743995015661\n",
            "Predicted rating for User A20EEWWSFMZ1PN on Book 0002007770: 4.804942576281027\n",
            "Predicted rating for User 243252fw on Book w2: 4.268440145102783\n"
          ]
        }
      ],
      "source": [
        "def predict_rating(user, book, user_item_matrix, similar_items, mean_rating, user_bias, item_bias):\n",
        "\n",
        "    baseline = mean_rating + user_bias.get(user, 0) + item_bias.get(book, 0)\n",
        "\n",
        "    similar_books = similar_items.filter(\n",
        "        (col(\"BookID1\") == book) | (col(\"BookID2\") == book)\n",
        "    ).rdd.map(\n",
        "        lambda x: (x[\"BookID2\"] if x[\"BookID1\"] == book else x[\"BookID1\"], x[\"Similarity\"])\n",
        "    )\n",
        "\n",
        "    numerator = 0\n",
        "    denominator = 0\n",
        "    for similar_book, similarity in similar_books.collect():\n",
        "        if user in user_item_matrix and similar_book in user_item_matrix[user]:\n",
        "            if similarity > 0:\n",
        "                numerator += similarity * (user_item_matrix[user][similar_book] - baseline)\n",
        "                denominator += abs(similarity)\n",
        "\n",
        "    predicted_rating = baseline + (numerator / denominator if denominator != 0 else 0)\n",
        "\n",
        "    # predicted_rating = max(1, min(5, predicted_rating))\n",
        "\n",
        "    return predicted_rating\n",
        "\n",
        "\n",
        "example_user_1 = \"A30H2335OM7RD6\"\n",
        "example_book_1 = \"0007136838\"\n",
        "predicted_rating_1 = predict_rating(example_user_1, example_book_1, user_item_matrix.collectAsMap(), pearson_similar_items, mean_rating, user_bias, item_bias)\n",
        "print(f\"Predicted rating for User {example_user_1} on Book {example_book_1}: {predicted_rating_1}\")\n",
        "\n",
        "example_user_2 = \"A20EEWWSFMZ1PN\"\n",
        "example_book_2 = \"0002007770\"\n",
        "predicted_rating_2 = predict_rating(example_user_2, example_book_2, user_item_matrix.collectAsMap(), pearson_similar_items, mean_rating, user_bias, item_bias)\n",
        "print(f\"Predicted rating for User {example_user_2} on Book {example_book_2}: {predicted_rating_2}\")\n",
        "\n",
        "example_user_3 = \"243252fw\"\n",
        "example_book_3 = \"w2\"\n",
        "predicted_rating_3 = predict_rating(example_user_3, example_book_3, user_item_matrix.collectAsMap(), pearson_similar_items, mean_rating, user_bias, item_bias)\n",
        "print(f\"Predicted rating for User {example_user_3} on Book {example_book_3}: {predicted_rating_3}\")\n"
      ]
    },
    {
      "cell_type": "code",
      "execution_count": null,
      "metadata": {
        "id": "zEFWsIqZSAlP",
        "outputId": "81dfa346-8fb2-4eff-b31d-73e2d5fe2826"
      },
      "outputs": [
        {
          "name": "stdout",
          "output_type": "stream",
          "text": [
            "Predicted rating for User AWFMGDUUGNGYW on Book 1594744769: 4.0364967281058135\n"
          ]
        }
      ],
      "source": [
        "example_user_3 = \"AWFMGDUUGNGYW\"\n",
        "example_book_3 = \"1594744769\"\n",
        "predicted_rating_3 = predict_rating(example_user_3, example_book_3, user_item_matrix.collectAsMap(), pearson_similar_items, mean_rating, user_bias, item_bias)\n",
        "print(f\"Predicted rating for User {example_user_3} on Book {example_book_3}: {predicted_rating_3}\")"
      ]
    },
    {
      "cell_type": "code",
      "execution_count": null,
      "metadata": {
        "id": "kf77HWLESAlQ",
        "outputId": "c61a5454-e458-4a43-a386-8adaa0a60e0f"
      },
      "outputs": [
        {
          "name": "stdout",
          "output_type": "stream",
          "text": [
            "Predicted rating for User A2VMT89TCSF105 on Book 1594744769: 3.263675662854183\n"
          ]
        }
      ],
      "source": [
        "example_user_3 = \"A2VMT89TCSF105\"\n",
        "example_book_3 = \"1594744769\"\n",
        "predicted_rating_3 = predict_rating(example_user_3, example_book_3, user_item_matrix.collectAsMap(), pearson_similar_items, mean_rating, user_bias, item_bias)\n",
        "print(f\"Predicted rating for User {example_user_3} on Book {example_book_3}: {predicted_rating_3}\")"
      ]
    },
    {
      "cell_type": "code",
      "execution_count": null,
      "metadata": {
        "id": "hAweKkapSAlQ"
      },
      "outputs": [],
      "source": [
        "users = book_rates_rdd.map(lambda x: x[0]).distinct().collect()\n",
        "books = book_rates_rdd.map(lambda x: x[1]).distinct().collect()"
      ]
    },
    {
      "cell_type": "code",
      "execution_count": null,
      "metadata": {
        "id": "wFs5o-OESAlS"
      },
      "outputs": [],
      "source": [
        "low_rating_combinations = []\n",
        "\n",
        "for user in users:\n",
        "    for book in books:\n",
        "        predicted_rating = predict_rating(user, book, user_item_matrix.collectAsMap(), pearson_similar_items, mean_rating, user_bias, item_bias)\n",
        "        if predicted_rating < 4:\n",
        "            low_rating_combinations.append((user, book, predicted_rating))\n",
        "            if len(low_rating_combinations) == 30:\n",
        "                break\n",
        "    if low_rating_combinations:\n",
        "        break"
      ]
    },
    {
      "cell_type": "code",
      "execution_count": null,
      "metadata": {
        "id": "xNd3hAiASAlT",
        "outputId": "0e7932e7-b36d-4739-dbf1-b4522d108dd6"
      },
      "outputs": [
        {
          "name": "stdout",
          "output_type": "stream",
          "text": [
            "User: A30H2335OM7RD6, Book: 0060558121, Predicted Rating: 3.7334897413755757\n",
            "User: A30H2335OM7RD6, Book: 0062015664, Predicted Rating: 3.5418788778777577\n",
            "User: A30H2335OM7RD6, Book: 0062049801, Predicted Rating: 3.506371265036087\n",
            "User: A30H2335OM7RD6, Book: 0062071246, Predicted Rating: 3.9417171985581354\n",
            "User: A30H2335OM7RD6, Book: 0141034262, Predicted Rating: 3.962309987627539\n",
            "User: A30H2335OM7RD6, Book: 0142004030, Predicted Rating: 3.8953876805614556\n",
            "User: A30H2335OM7RD6, Book: 0143035304, Predicted Rating: 3.9975180843445224\n",
            "User: A30H2335OM7RD6, Book: 0143113496, Predicted Rating: 3.6594994945628927\n",
            "User: A30H2335OM7RD6, Book: 0307885151, Predicted Rating: 3.952518923412303\n",
            "User: A30H2335OM7RD6, Book: 0385340990, Predicted Rating: 3.9303305082024487\n",
            "User: A30H2335OM7RD6, Book: 0743496728, Predicted Rating: 3.210288994720364\n",
            "User: A30H2335OM7RD6, Book: 147780756X, Predicted Rating: 3.035498712282858\n",
            "User: A30H2335OM7RD6, Book: 0060530677, Predicted Rating: 3.8686216535129763\n",
            "User: A30H2335OM7RD6, Book: 0099457156, Predicted Rating: 3.9823003685250744\n",
            "User: A30H2335OM7RD6, Book: 0142437263, Predicted Rating: 3.5549226444211968\n",
            "User: A30H2335OM7RD6, Book: 0143038281, Predicted Rating: 3.5980913460547788\n",
            "User: A30H2335OM7RD6, Book: 031236847X, Predicted Rating: 3.688670521916743\n",
            "User: A30H2335OM7RD6, Book: 0316027650, Predicted Rating: 3.7544877907593133\n",
            "User: A30H2335OM7RD6, Book: 0316032212, Predicted Rating: 3.8307094620805877\n",
            "User: A30H2335OM7RD6, Book: 0316069353, Predicted Rating: 3.8220635355095323\n",
            "User: A30H2335OM7RD6, Book: 0316666009, Predicted Rating: 3.988726156116035\n",
            "User: A30H2335OM7RD6, Book: 0345528506, Predicted Rating: 3.8022269891139486\n",
            "User: A30H2335OM7RD6, Book: 0345532015, Predicted Rating: 3.9262791782253714\n",
            "User: A30H2335OM7RD6, Book: 0393038912, Predicted Rating: 3.6512541108013172\n",
            "User: A30H2335OM7RD6, Book: 0743566572, Predicted Rating: 3.189187019563758\n"
          ]
        }
      ],
      "source": [
        "for user, book, rating in low_rating_combinations:\n",
        "    print(f\"User: {user}, Book: {book}, Predicted Rating: {rating}\")"
      ]
    },
    {
      "cell_type": "code",
      "execution_count": null,
      "metadata": {
        "id": "zmM0RYNUSAlT"
      },
      "outputs": [],
      "source": [
        "lower_rating_combinations = []\n",
        "\n",
        "for user in users:\n",
        "    for book in books:\n",
        "        predicted_rating = predict_rating(user, book, user_item_matrix.collectAsMap(), pearson_similar_items, mean_rating, user_bias, item_bias)\n",
        "        if predicted_rating < 3:\n",
        "            lower_rating_combinations.append((user, book, predicted_rating))\n",
        "            if len(lower_rating_combinations) == 1:\n",
        "                break\n",
        "    if lower_rating_combinations:\n",
        "        break\n"
      ]
    },
    {
      "cell_type": "code",
      "execution_count": null,
      "metadata": {
        "id": "k_KOsEs7SAlT",
        "outputId": "512b4d6e-d683-4959-847c-b272180a6ce3"
      },
      "outputs": [
        {
          "name": "stdout",
          "output_type": "stream",
          "text": [
            "User: A2ZHH7AK83JB5G, Book: 0441015891, Predicted Rating: 2.663751061003054\n"
          ]
        }
      ],
      "source": [
        "for user, book, rating in lower_rating_combinations:\n",
        "    print(f\"User: {user}, Book: {book}, Predicted Rating: {rating}\")"
      ]
    },
    {
      "cell_type": "code",
      "execution_count": null,
      "metadata": {
        "id": "51V-IBEmSAlT",
        "outputId": "c8a2a106-4c0a-4525-aa35-8bcd4a649cca"
      },
      "outputs": [
        {
          "data": {
            "text/plain": [
              "['A30H2335OM7RD6',\n",
              " 'A21NVBFIEQWDSG',\n",
              " 'A2PWUIQG57O1AZ',\n",
              " 'A1T17LMQABMBN5',\n",
              " 'A1K1JW1C5CUSUZ',\n",
              " 'AWFMGDUUGNGYW',\n",
              " 'A3PGGI7A6XCNF1',\n",
              " 'A2E3GFHUDNPYDH',\n",
              " 'A22B13EJTZKCTM',\n",
              " 'A2MF2QVSCUI27G',\n",
              " 'A1RMHZSWZ7ZEQO',\n",
              " 'AS6SH2JM2YY3H',\n",
              " 'A2ZHH7AK83JB5G',\n",
              " 'A1S3IN6CSTBPY6',\n",
              " 'A2VMT89TCSF105',\n",
              " 'A20IIR0422G3A5',\n",
              " 'A11B61QBGHLQDN',\n",
              " 'A3GQKB1KF0CRPE',\n",
              " 'A1D2C0WDCSHUWZ',\n",
              " 'AQZH7YTWQPOBE',\n",
              " 'A3FHAMLNGHCFU7',\n",
              " 'A1E1LEVQ9VQNK',\n",
              " 'AKT8TGIT6VVZ5',\n",
              " 'AOKGRSAS5VNS3',\n",
              " 'A14OJS0VWMOSWO',\n",
              " 'A2F3M93RRLFQNJ',\n",
              " 'A3QVAKVRAH657N',\n",
              " 'A2B8GXSCB1R05T',\n",
              " 'A1RAUVCWYHTQI4',\n",
              " 'AISUSPFYY68RO',\n",
              " 'A1MC6BFHWY6WC3',\n",
              " 'A3A6GXILVT9JNW',\n",
              " 'A2O9HU1K7TCF7B',\n",
              " 'A2AYSFGUP5VTY3',\n",
              " 'AN8C7BGR98HLN',\n",
              " 'AHUT55E980RDR',\n",
              " 'A3I8FT707XKQAJ',\n",
              " 'A2B1GZIRD6W646',\n",
              " 'A1RY8R18NEO9AA',\n",
              " 'A2UIXU97JYCPZG',\n",
              " 'A8IPQ1Q1O7YX5',\n",
              " 'AHD101501WCN1',\n",
              " 'A2HM0BZWQRV1EF',\n",
              " 'A13OFOB1394G31',\n",
              " 'A14BTJRH9VNLJJ',\n",
              " 'A29NUB3P6YIWZG',\n",
              " 'A1MJMYLRTZ76ZX',\n",
              " 'A34UTL4AVX80MK',\n",
              " 'A2YXRT2XIJIO57',\n",
              " 'AN0XWUHSHRUG6',\n",
              " 'A2NJO6YE954DBH',\n",
              " 'A1L43KWWR05PCS',\n",
              " 'A319KYEIAZ3SON',\n",
              " 'AUM3YMZ0YRJE0',\n",
              " 'A12A08OL0TZY0W',\n",
              " 'A1RECBDKHVOJMW',\n",
              " 'A3NLJZI5NEOT0K',\n",
              " 'A3IJHV3XZZEED5',\n",
              " 'A1GARI2JT6EAWA',\n",
              " 'A13G1TKIKHGV3F',\n",
              " 'A3Z9QN0RCOHEY',\n",
              " 'A3U29LBT749HJ0',\n",
              " 'A2SQJPUCZNHMZE',\n",
              " 'A9I40WFF40R4',\n",
              " 'A3QZCA4LTTVGAD',\n",
              " 'A1S3C5OFU508P3',\n",
              " 'A3H82LUT1EC655',\n",
              " 'A27KTPDJQ0U7I6',\n",
              " 'A3OL1AX1IODBYL',\n",
              " 'A1OBNY1WB38LMI',\n",
              " 'A2O5RT4RCC4NU2',\n",
              " 'AXSH6O4OP5L4M',\n",
              " 'A1MR1VMK999I6O',\n",
              " 'AIEEK7AHXKZCC',\n",
              " 'A37BRR2L8PX3R2',\n",
              " 'A2VE83MZF98ITY',\n",
              " 'A1T6PXM2M3N84A',\n",
              " 'A1OX82JPAQLL60',\n",
              " 'A55MRYPUAX4QU',\n",
              " 'A3EQQP0LD4Z375',\n",
              " 'A3RFXU3P0XKKF4',\n",
              " 'AU7ND6NOCX9IA',\n",
              " 'A133ZC2Z8MAIED',\n",
              " 'A2Z4KA3EFQWZOX',\n",
              " 'A2CW9IQAPFEYLM',\n",
              " 'AQQLWCMRNDFGI',\n",
              " 'A2HVL790PBWYTU',\n",
              " 'A17U562HOY2OQV',\n",
              " 'A2AIE9DO5QSVBD',\n",
              " 'A2TX179XAT5GRP',\n",
              " 'A3H8NJ5PJNLFD5',\n",
              " 'A1I2O9Y3X3HXLS',\n",
              " 'A1CTXKA2C7BSC8',\n",
              " 'A1U360OMVQRPUB',\n",
              " 'A3NIQK6ZLYEP1L',\n",
              " 'A1JKGTL51HHTU1',\n",
              " 'A3VMCKYN22X0CO',\n",
              " 'A2ICKSJ6T7WIBO',\n",
              " 'A24505CR98NLLV',\n",
              " 'AQ6AGWKWMTY8H',\n",
              " 'A16IITISD2LAX0',\n",
              " 'AAR8E3JF9K93P',\n",
              " 'A2E3F04ZK7FG66',\n",
              " 'A18OBUSMXVE8R0',\n",
              " 'A1TCDS9S2NIVPB',\n",
              " 'A26JGAM6GZMM4V',\n",
              " 'A2OJW07GQRNJUT',\n",
              " 'A36TDC5SGAN0EP',\n",
              " 'A3EX36SNRYD5VL',\n",
              " 'A2RPIGO3G4M6GN',\n",
              " 'ANEDXRFDZDL18',\n",
              " 'A1I6U5AQAT3ZG9',\n",
              " 'A3BFDEBT5IV4UN',\n",
              " 'A3KCMEJTRQHNAP',\n",
              " 'A3GKPMHV4U64IY',\n",
              " 'A2F6SZLKG0TOJ7',\n",
              " 'A1DLVUJFANNU1Q',\n",
              " 'A2SY92ZXU2FOEU',\n",
              " 'A2XNOB1T796Y6B',\n",
              " 'A1DW5IH6QCOFQ7',\n",
              " 'A1K4S4MWXI9E9M',\n",
              " 'A1OYW08VVPMP3Q',\n",
              " 'A2SI6BNK5SWSMD',\n",
              " 'A2BZCHIDR5FTYA',\n",
              " 'A320TMDV6KCFU',\n",
              " 'A2E9HDZXQORZLA',\n",
              " 'A33I4RCFITFXG5',\n",
              " 'A3B48AN8JID1JK',\n",
              " 'A1FDV3WPOHREY9',\n",
              " 'A3LF914GG87TWP',\n",
              " 'A2MF4TISBBQT5A',\n",
              " 'ANH8VL45X2L1S',\n",
              " 'A13QTZ8CIMHHG4',\n",
              " 'A23MAG8UKFL0QW',\n",
              " 'A3TI1WDAEOTD0I',\n",
              " 'A24H4WUFUDPTAA',\n",
              " 'AR9RKLQQC2L6K',\n",
              " 'ANSX922QNYA67',\n",
              " 'A3TAF7M58DN46F',\n",
              " 'A391VTDTFIM6X3',\n",
              " 'A3NPRWXTO85BJ0',\n",
              " 'A24ZMNWTW8AQUR',\n",
              " 'A2XXQJBK2IDMGI',\n",
              " 'AIO247KHD2O40',\n",
              " 'AW4NFCPN81CS3',\n",
              " 'A1ARJBC8VD5P8P',\n",
              " 'A3R7MXVQRGGIQ9',\n",
              " 'AJKWF4W7QD4NS',\n",
              " 'A3A7FF87LEVCQ1',\n",
              " 'A27XUU2DXILHYZ',\n",
              " 'A3KRBW13FWBUH',\n",
              " 'A1X2URS71RRMMF',\n",
              " 'A30TK6U7DNS82R',\n",
              " 'A3Q04XXGGED746',\n",
              " 'AKMEY1BSHSDG7',\n",
              " 'A2PD27UKAD3Q00',\n",
              " 'A2V92F5R7MLCVI',\n",
              " 'AG35NEEFCMQVR',\n",
              " 'A3MT311233OHMQ',\n",
              " 'A1DPU1ZBRWSFD3',\n",
              " 'ATFRPYKXCCTJX',\n",
              " 'A3KI93AT8FAXI1',\n",
              " 'A3TGY3ANGBNK7C',\n",
              " 'A3KBRXW4PKK2MT',\n",
              " 'A3IQ0P3M39IY8U',\n",
              " 'A3LXRIY0HE71K',\n",
              " 'A3326UC548HDXO',\n",
              " 'A3L1Z0R3ZB2OFU',\n",
              " 'A1E5ZR1Z4OQJG',\n",
              " 'ANOBZWKE25SBY',\n",
              " 'A14I311IIUMBWC',\n",
              " 'A35MPEXF4V8YAL',\n",
              " 'A2FS9CYCWC6HLW',\n",
              " 'A2UDGZUEYHULS5',\n",
              " 'A134C9GVEU5TQE',\n",
              " 'A18RWUG5OVTR1O',\n",
              " 'A1WVA7V02PQOY6',\n",
              " 'A81S2CYRRJGHI',\n",
              " 'A3EPHBMU07LZ50',\n",
              " 'A3K3P9U2AB4P4R',\n",
              " 'ACJT8MUC0LRF0',\n",
              " 'A7LQTXGRMVD6R',\n",
              " 'A1UFU1Q1KSSWIY',\n",
              " 'A39650P2CZUUC9',\n",
              " 'A2F6N60Z96CAJI',\n",
              " 'AYT4FJYVCHYLE',\n",
              " 'A1BI8PUEHA5CHW',\n",
              " 'A2H44WVZS59KKT',\n",
              " 'A39ABKRS1MKFTW',\n",
              " 'A1E2NA2F4RTQ9B',\n",
              " 'A2NHD7LUXVGTD3',\n",
              " 'A1CHM200OEN65X',\n",
              " 'A3M174IC0VXOS2',\n",
              " 'A2PR6NXG0PA3KY',\n",
              " 'A1CNQTCRQ35IMM',\n",
              " 'A1IOJE0W1NXOSE',\n",
              " 'A11L3YX5WIDKJ',\n",
              " 'A3Q86MZSVUUAD8',\n",
              " 'APTVNT7U6RZC3',\n",
              " 'A370Z6I5GBWU44',\n",
              " 'A1KSGE7FCMX6SY',\n",
              " 'A3T0OTH5072YRE',\n",
              " 'AX54G5AL870Q8',\n",
              " 'A1F3DFRPGVEUI8',\n",
              " 'A1N1YEMTI9DJ86',\n",
              " 'A303U1MOXG5R1F',\n",
              " 'A20EEWWSFMZ1PN',\n",
              " 'A1X8VZWTOG8IS6',\n",
              " 'A28WJUJF6D2ULA',\n",
              " 'A30KEXFT9SILL6',\n",
              " 'A1DA6E4FNRSAWN',\n",
              " 'A1G9FX1KV45N41',\n",
              " 'ABMX8XUNPR3LP',\n",
              " 'A2TUA4VWCMNXI',\n",
              " 'A37XGUQ1VH0XM6',\n",
              " 'A4FX5YCJA630V',\n",
              " 'A2EDZH51XHFA9B',\n",
              " 'AFVZXHIUSXINA',\n",
              " 'A96K1ZGW56S2I',\n",
              " 'A1POFVVXUZR3IQ',\n",
              " 'A3MV1KKHX51FYT',\n",
              " 'A2S166WSCFIFP5',\n",
              " 'A3OJFPKMCXKOM0',\n",
              " 'A2X29H96X7C3XJ',\n",
              " 'A3SOV9HFM5H9T1',\n",
              " 'AKB2PYODH0TKS',\n",
              " 'AFVQZQ8PW0L',\n",
              " 'ATK1PI2HWROER',\n",
              " 'A2VG0RY3EUWZKB',\n",
              " 'A2GBJQ9THOYDAJ',\n",
              " 'AITIU2DG1MM4A',\n",
              " 'A2C27IQUH9N1Z',\n",
              " 'A1ER5AYS3FQ9O3',\n",
              " 'A2ODBHT4URXVXQ',\n",
              " 'A1XXJ6I7K2I7SI',\n",
              " 'A16QODENBJVUI1',\n",
              " 'ABN5K7K1TM1QA',\n",
              " 'AC1K4OQOZ90RS',\n",
              " 'A4R8GJX3UZ1I',\n",
              " 'A1IU7S4HCK1XK0',\n",
              " 'A2F3SXHT6RBV81',\n",
              " 'A4H4KYSM2KQ85',\n",
              " 'A2DSXA1E02C86D',\n",
              " 'A22RY8N8CNDF3A',\n",
              " 'A1G37DFO8MQW0M',\n",
              " 'A1DYMH30TSRONY',\n",
              " 'AUEY946M1L939',\n",
              " 'A25KKXUQQ0OLWB',\n",
              " 'A2F540P3L6P5CL',\n",
              " 'AKPKPMWM6IIU5',\n",
              " 'A2G5IFYYHFIQNB',\n",
              " 'A3UW23DBF2KHWC',\n",
              " 'A9LAPV8XNKZVZ',\n",
              " 'ACEOOCYZRPWF3',\n",
              " 'A1OB5L3WMHJAD9',\n",
              " 'A21VR7M8O55EF6',\n",
              " 'AMLA0B6EHD4OS',\n",
              " 'A17BTP1QHK2I3I',\n",
              " 'AJDYDG7YZY9QL',\n",
              " 'A1D5RCOILPC9LX',\n",
              " 'A3KF4IP2MUS8QQ',\n",
              " 'A232HUAELH5J6V',\n",
              " 'AUTBHG6070SL4',\n",
              " 'A2B9Y0WXNSN17U',\n",
              " 'A38AAPXSJN4C5G',\n",
              " 'AMX0PJKV4PPNJ',\n",
              " 'A2I6MHMAZZDCRX',\n",
              " 'A2JP0URFHXP6DO',\n",
              " 'A6HXFDIC7DVTC',\n",
              " 'A2KWQ64TRHB3YH',\n",
              " 'A281NPSIMI1C2R',\n",
              " 'A126KX6FVI4T66',\n",
              " 'AUHG8KSHI529U',\n",
              " 'A36K2N527TXXJN',\n",
              " 'A1S8AJIUIO6M9K',\n",
              " 'A222LQEPE7O7BV',\n",
              " 'AQ3540NJNST0C',\n",
              " 'A4SKIA2A7IDRX',\n",
              " 'A1M4NJYP0WNL8Q',\n",
              " 'A19UT0OPQCDR8',\n",
              " 'ABUY5XK1R4YYZ',\n",
              " 'A1KYJA5YM1479G',\n",
              " 'AD9HAE7DPTQDG',\n",
              " 'A126YLPKFPNQDS',\n",
              " 'A25HWUX0L2DCFM',\n",
              " 'A2RQ0AT4XZUIXL',\n",
              " 'A680RUE1FDO8B',\n",
              " 'A1M8PP7MLHNBQB',\n",
              " 'A1NATT3PN24QWY',\n",
              " 'A11I1I9QLMAM1A',\n",
              " 'A2CR57GAJKNWVV',\n",
              " 'A3BH49ZKESHDID',\n",
              " 'A3OJAWIMUKNHTP',\n",
              " 'A3R19YKNL641X3',\n",
              " 'A14R9XMZVJ6INB',\n",
              " 'A328S9RN3U5M68',\n",
              " 'A1LKSZ9CYJ6829',\n",
              " 'A2L7N2U5Z316ZE',\n",
              " 'A3UV7L5ND3EH8T',\n",
              " 'A2FSWI7Q6MZ9PX',\n",
              " 'A1HA6KZZNDCME9',\n",
              " 'A18FUHNBP90IB4',\n",
              " 'A2VV2MISGXFY1O',\n",
              " 'A1S60W4KWFX1Y9',\n",
              " 'A2QZVW56O4WSBT',\n",
              " 'A2OCDK0BOW6UCY',\n",
              " 'A1XRQ6YJ7HXQFQ',\n",
              " 'A6XR7Y415RPD0',\n",
              " 'A2G09684ZOK8X2',\n",
              " 'A186ZAYP2L4CDZ',\n",
              " 'A1JLU5H1CCENWX',\n",
              " 'A1AKQ1YUS4BT82',\n",
              " 'A27R2V3WLS43LP',\n",
              " 'A20HMA36ESANHC',\n",
              " 'A2TSTJP0B3A3H5',\n",
              " 'A2ZY49IDE6TY5I',\n",
              " 'A3U7ELIED4WP4R',\n",
              " 'A18JHVX925K101',\n",
              " 'A3R9X003XW0LNR',\n",
              " 'A3ICDLUQ3V2QY2',\n",
              " 'A8N3FYDA2VUYY',\n",
              " 'A1X4L7AO1BXMHK',\n",
              " 'A2TBZAC0XYHLIB',\n",
              " 'A3PATLW8T3PQV7',\n",
              " 'A3BSM1MMD6QHIP',\n",
              " 'A324NNSMM9EFML',\n",
              " 'A20XM6F911RIDE',\n",
              " 'AX9C10JD538D9',\n",
              " 'A2X6WMYTYRE130',\n",
              " 'A8710RWTFG3IY',\n",
              " 'A19GJX6TTSK0C0',\n",
              " 'A1YZ3IJXI2J119',\n",
              " 'A26J2TRDPZH7RZ',\n",
              " 'A2TXR85WQLE32N',\n",
              " 'A2IIB10X0CECYV',\n",
              " 'A3KPD3WLML2Q4E',\n",
              " 'A9Q28YTLYREO7',\n",
              " 'A2VKWLCNZF4ZVB',\n",
              " 'A3CN9CCJUNIPKT',\n",
              " 'A5GYYHY2KI5CI',\n",
              " 'A1LACH6MLQWZ',\n",
              " 'A1XIDKCJ7SOVXP',\n",
              " 'A2VCGJLKGK2WJJ',\n",
              " 'A1LI7KZH6VHPAQ',\n",
              " 'A3NHUQ33CFH3VM',\n",
              " 'A3JVE1D10L1CFA',\n",
              " 'A4QC76NMWE5OC',\n",
              " 'A31BD4RXCON7QO',\n",
              " 'ADDT2MU773IYL',\n",
              " 'A3DIGM3KB4E11V',\n",
              " 'ADEVBXUS0RSIR',\n",
              " 'A32R0ZHR7S3GYH',\n",
              " 'A1K9IG5MP8RW75',\n",
              " 'AJV985MKGCIQ0',\n",
              " 'A2JZCZYHNQHSCP',\n",
              " 'A3MGX52HV1IE0P',\n",
              " 'A3U41P3MHAEXYU',\n",
              " 'A2UBDYN21RI97X',\n",
              " 'A5JZNVV4TEAWU',\n",
              " 'AM09IO8QXEB1B',\n",
              " 'A23GRXCXQU3SM8',\n",
              " 'A3P4BJ6GBH7KIW',\n",
              " 'A2KBF2OYR359AJ',\n",
              " 'A35YAEKTV8E88X',\n",
              " 'A1FJFLAAQD5WH2',\n",
              " 'A2AY83K9N60V38',\n",
              " 'A2VXSQHJWZAQGY',\n",
              " 'A1XJOSJN6FHFO0',\n",
              " 'A2WZZFJSNLR631',\n",
              " 'A3O5RMXRQBWWVX']"
            ]
          },
          "execution_count": 98,
          "metadata": {},
          "output_type": "execute_result"
        }
      ],
      "source": [
        "users"
      ]
    },
    {
      "cell_type": "markdown",
      "metadata": {
        "id": "jz_rmXDpSAlY"
      },
      "source": [
        "---\n",
        "\n",
        "### ``` RMSE Calculation```\n"
      ]
    },
    {
      "cell_type": "code",
      "execution_count": null,
      "metadata": {
        "id": "Mo7Je_eTSAlZ"
      },
      "outputs": [],
      "source": [
        "train_rdd, test_rdd = book_rates_rdd.randomSplit([0.8, 0.2], seed=42)\n",
        "\n",
        "test_data = test_rdd.map(lambda x: (x[0], x[1], x[2]))\n"
      ]
    },
    {
      "cell_type": "code",
      "execution_count": null,
      "metadata": {
        "id": "7_htrkYlSAlZ",
        "outputId": "cb2387f1-8fd9-42e5-fa0e-70d2ebc27c88"
      },
      "outputs": [
        {
          "name": "stderr",
          "output_type": "stream",
          "text": [
            "                                                                                \r"
          ]
        },
        {
          "name": "stdout",
          "output_type": "stream",
          "text": [
            "Root Mean Squared Error (RMSE): 4.399588671397565\n"
          ]
        }
      ],
      "source": [
        "user_item_matrix_dict = user_item_matrix.collectAsMap()\n",
        "user_item_matrix_broadcast = sc.broadcast(user_item_matrix_dict)\n",
        "\n",
        "train_book_features_rdd = train_rdd \\\n",
        "    .map(lambda x: (x[1], (x[0], x[2]))) \\\n",
        "    .groupByKey() \\\n",
        "    .map(lambda x: (x[0], [rating for _, rating in x[1]]))\n",
        "\n",
        "\n",
        "train_book_features_df = train_book_features_rdd.toDF([\"BookID\", \"Features\"])\n",
        "\n",
        "train_cartesian_df = train_book_features_df.alias(\"A\").crossJoin(train_book_features_df.alias(\"B\"))\n",
        "\n",
        "similar_items_train = train_cartesian_df.withColumn(\n",
        "    \"Similarity\",\n",
        "    pearson_correlation_udf(col(\"A.Features\"), col(\"B.Features\"))\n",
        ").filter(col(\"A.BookID\") != col(\"B.BookID\")) \\\n",
        " .select(\n",
        "    col(\"A.BookID\").alias(\"BookID1\"),\n",
        "    col(\"B.BookID\").alias(\"BookID2\"),\n",
        "    \"Similarity\"\n",
        ")\n",
        "\n",
        "\n",
        "similar_items_dict = similar_items_train.rdd.map(\n",
        "    lambda row: (row[\"BookID1\"], (row[\"BookID2\"], row[\"Similarity\"]))\n",
        ").groupByKey().mapValues(list).collectAsMap()\n",
        "\n",
        "similar_items_broadcast = sc.broadcast(similar_items_dict)\n",
        "\n",
        "\n",
        "def predict_rating(user, book, user_item_matrix_broadcast, similar_items_broadcast):\n",
        "\n",
        "    user_item_matrix = user_item_matrix_broadcast.value\n",
        "    similar_items = similar_items_broadcast.value\n",
        "\n",
        "    similar_books = similar_items.get(book, [])\n",
        "\n",
        "    numerator = 0\n",
        "    denominator = 0\n",
        "\n",
        "    for similar_book, similarity in similar_books:\n",
        "        if user in user_item_matrix and similar_book in user_item_matrix[user]:\n",
        "            numerator += similarity * user_item_matrix[user][similar_book]\n",
        "            denominator += abs(similarity)\n",
        "\n",
        "    return numerator / denominator if denominator != 0 else 0\n",
        "\n",
        "\n",
        "def compute_rmse(test_data, user_item_matrix_broadcast, similar_items_broadcast):\n",
        "    def calculate_error(row):\n",
        "        user, book, actual_rating = row\n",
        "        predicted_rating = predict_rating(user, book, user_item_matrix_broadcast, similar_items_broadcast)\n",
        "        return (predicted_rating - actual_rating) ** 2\n",
        "\n",
        "    errors = test_data.map(calculate_error)\n",
        "    mean_squared_error = errors.mean()\n",
        "    rmse = mean_squared_error ** 0.5\n",
        "    return rmse\n",
        "\n",
        "rmse = compute_rmse(test_data, user_item_matrix_broadcast, similar_items_broadcast)\n",
        "print(f\"Root Mean Squared Error (RMSE): {rmse}\")\n"
      ]
    },
    {
      "cell_type": "markdown",
      "metadata": {
        "id": "_Tc_T3n8SAla"
      },
      "source": [
        "#### Adding Bias to Reduce the RMSE"
      ]
    },
    {
      "cell_type": "code",
      "execution_count": null,
      "metadata": {
        "id": "grI13mlzSAla",
        "outputId": "a80a0c59-9d9b-4187-b332-ce4a9a896110"
      },
      "outputs": [
        {
          "name": "stderr",
          "output_type": "stream",
          "text": [
            "                                                                                \r"
          ]
        },
        {
          "name": "stdout",
          "output_type": "stream",
          "text": [
            "Root Mean Squared Error (RMSE): 1.8955287916243304\n"
          ]
        }
      ],
      "source": [
        "user_item_matrix_dict = user_item_matrix.collectAsMap()\n",
        "user_item_matrix_broadcast = sc.broadcast(user_item_matrix_dict)\n",
        "\n",
        "train_book_features_rdd = train_rdd \\\n",
        "    .map(lambda x: (x[1], (x[0], x[2]))) \\\n",
        "    .groupByKey() \\\n",
        "    .map(lambda x: (x[0], [rating for _, rating in x[1]]))\n",
        "\n",
        "\n",
        "train_book_features_df = train_book_features_rdd.toDF([\"BookID\", \"Features\"])\n",
        "\n",
        "train_cartesian_df = train_book_features_df.alias(\"A\").crossJoin(train_book_features_df.alias(\"B\"))\n",
        "\n",
        "similar_items_train = train_cartesian_df.withColumn(\n",
        "    \"Similarity\",\n",
        "    pearson_correlation_udf(col(\"A.Features\"), col(\"B.Features\"))\n",
        ").filter(col(\"A.BookID\") != col(\"B.BookID\")) \\\n",
        " .select(\n",
        "    col(\"A.BookID\").alias(\"BookID1\"),\n",
        "    col(\"B.BookID\").alias(\"BookID2\"),\n",
        "    \"Similarity\"\n",
        ")\n",
        "\n",
        "\n",
        "similar_items_dict = similar_items_train.rdd.map(\n",
        "    lambda row: (row[\"BookID1\"], (row[\"BookID2\"], row[\"Similarity\"]))\n",
        ").groupByKey().mapValues(list).collectAsMap()\n",
        "\n",
        "similar_items_broadcast = sc.broadcast(similar_items_dict)\n",
        "\n",
        "\n",
        "global_mean = sum([sum(ratings.values()) for ratings in user_item_matrix_dict.values()]) / \\\n",
        "              sum([len(ratings) for ratings in user_item_matrix_dict.values()])\n",
        "\n",
        "\n",
        "user_bias = {user: (sum(ratings.values()) / len(ratings) - global_mean)\n",
        "             for user, ratings in user_item_matrix_dict.items()}\n",
        "\n",
        "book_bias = {}\n",
        "for user, ratings in user_item_matrix_dict.items():\n",
        "    for book, rating in ratings.items():\n",
        "        book_bias[book] = book_bias.get(book, []) + [rating]\n",
        "\n",
        "book_bias = {book: (sum(ratings) / len(ratings) - global_mean) for book, ratings in book_bias.items()}\n",
        "\n",
        "def predict_rating(user, book, user_item_matrix_broadcast, similar_items_broadcast):\n",
        "    user_item_matrix = user_item_matrix_broadcast.value\n",
        "    similar_items = similar_items_broadcast.value\n",
        "\n",
        "    similar_books = similar_items.get(book, [])\n",
        "\n",
        "    numerator = 0\n",
        "    denominator = 0\n",
        "\n",
        "    for similar_book, similarity in similar_books:\n",
        "        if user in user_item_matrix and similar_book in user_item_matrix[user]:\n",
        "            numerator += similarity * user_item_matrix[user][similar_book]\n",
        "            denominator += abs(similarity)\n",
        "\n",
        "    bias = global_mean + user_bias.get(user, 0) + book_bias.get(book, 0)\n",
        "    prediction = bias + (numerator / denominator if denominator != 0 else 0)\n",
        "\n",
        "    return prediction\n",
        "\n",
        "def compute_rmse(test_data, user_item_matrix_broadcast, similar_items_broadcast):\n",
        "    def calculate_error(row):\n",
        "        user, book, actual_rating = row\n",
        "        predicted_rating = predict_rating(user, book, user_item_matrix_broadcast, similar_items_broadcast)\n",
        "        return (predicted_rating - actual_rating) ** 2\n",
        "\n",
        "    errors = test_data.map(calculate_error)\n",
        "    mean_squared_error = errors.mean()\n",
        "    rmse = mean_squared_error ** 0.5\n",
        "    return rmse\n",
        "\n",
        "rmse = compute_rmse(test_data, user_item_matrix_broadcast, similar_items_broadcast)\n",
        "print(f\"Root Mean Squared Error (RMSE): {rmse}\")\n"
      ]
    },
    {
      "cell_type": "markdown",
      "metadata": {
        "id": "d4Uk7aQQSAlb"
      },
      "source": [
        "The RMSE value of **1.895** is relatively acceptable compared to the rating scale (**1 to 5**). However, there is still room for further improvement.\n",
        "\n",
        "Strengths of the Current Model are:\n",
        "- **Incorporating Biases**: Considering biases has resulted in better modeling of baseline ratings.\n",
        "- **Feature-Based Similarity**: Using feature-based similarity for books has allowed for relatively more accurate computation of item relationships.\n"
      ]
    },
    {
      "cell_type": "markdown",
      "metadata": {
        "id": "HVXNzSqHSAlb"
      },
      "source": [
        "#### ```improve RMSE```\n",
        "To improve the results, both **weight normalization** and **adding regularization** can be applied.\n",
        "\n",
        " 1. **Weight Normalization**\n",
        "- **Objective**: Enhance the impact of stronger similarities on predictions while reducing the influence of weaker similarities.\n",
        "- **Implementation**:\n",
        "  - Assign a minimum threshold to similarities and ignore those below it.\n",
        "  - Normalize similarities so their sum equals \\(1\\).\n",
        "\n",
        "\n",
        " 2. **Adding Regularization**\n",
        "- **Objective**: Reduce the impact of overfitting when calculating biases and similarities.\n",
        "- **Implementation**:\n",
        "  - Compute user and book biases by adding a regularization term λ:\n",
        "    $$\n",
        "    b_u = \\frac{\\sum_{i \\in I_u} (r_{ui} - \\mu)}{\\lambda + |I_u|}\n",
        "    $$\n",
        "  - λ is the regularization term, which balances the model.\n",
        "\n"
      ]
    },
    {
      "cell_type": "code",
      "execution_count": null,
      "metadata": {
        "id": "R1ogTkUMSAlc"
      },
      "outputs": [],
      "source": [
        "similar_items_dict = similar_items_train.rdd.map(\n",
        "    lambda row: (row[\"BookID1\"], (row[\"BookID2\"], row[\"Similarity\"]))\n",
        ").groupByKey().mapValues(list).collectAsMap()\n",
        "\n",
        "similar_items_broadcast = sc.broadcast(similar_items_dict)"
      ]
    },
    {
      "cell_type": "code",
      "execution_count": null,
      "metadata": {
        "id": "uEPHECGSSAli",
        "outputId": "b16984b8-fbf3-4590-a9e4-f00b57417557"
      },
      "outputs": [
        {
          "name": "stdout",
          "output_type": "stream",
          "text": [
            "Root Mean Squared Error (RMSE) with Bias: 1.6184307157320332\n"
          ]
        }
      ],
      "source": [
        "global_mean = train_rdd.map(lambda x: x[2]).mean()\n",
        "\n",
        "\n",
        "user_bias = train_rdd.map(lambda x: (x[0], x[2] - global_mean)) \\\n",
        "    .groupByKey() \\\n",
        "    .mapValues(lambda ratings: sum(ratings) / len(ratings)) \\\n",
        "    .collectAsMap()\n",
        "\n",
        "item_bias = train_rdd.map(lambda x: (x[1], x[2] - global_mean)) \\\n",
        "    .groupByKey() \\\n",
        "    .mapValues(lambda ratings: sum(ratings) / len(ratings)) \\\n",
        "    .collectAsMap()\n",
        "\n",
        "user_bias_broadcast = sc.broadcast(user_bias)\n",
        "item_bias_broadcast = sc.broadcast(item_bias)\n",
        "\n",
        "def predict_rating_with_bias(user, book, similar_items_broadcast, user_item_matrix_broadcast, user_bias_broadcast, item_bias_broadcast, lambda_reg=0.05):\n",
        "    user_item_matrix = user_item_matrix_broadcast.value\n",
        "    similar_items = similar_items_broadcast.value.get(book, [])\n",
        "    user_bias = user_bias_broadcast.value\n",
        "    item_bias = item_bias_broadcast.value\n",
        "\n",
        "    user_b = user_bias.get(user, 0)\n",
        "    item_b = item_bias.get(book, 0)\n",
        "\n",
        "    numerator = 0\n",
        "    denominator = 0\n",
        "\n",
        "    total_similarity = sum(similarity for _, similarity in similar_items)\n",
        "    normalized_similar_books = [(similar_book, similarity / total_similarity) for similar_book, similarity in similar_items if total_similarity > 0]\n",
        "\n",
        "    for similar_book, similarity in normalized_similar_books:\n",
        "        if user in user_item_matrix and similar_book in user_item_matrix[user]:\n",
        "            rating = user_item_matrix[user][similar_book]\n",
        "            numerator += similarity * rating\n",
        "            denominator += abs(similarity)\n",
        "\n",
        "    predicted_interaction = numerator / denominator if denominator != 0 else 0\n",
        "    regularized_bias = lambda_reg / (lambda_reg + len(user_item_matrix.get(user, {})))\n",
        "\n",
        "    return global_mean + user_b + item_b + predicted_interaction + regularized_bias\n",
        "\n",
        "def compute_rmse_with_bias(test_data, user_item_matrix_broadcast, similar_items_broadcast, user_bias_broadcast, item_bias_broadcast):\n",
        "    def calculate_error(row):\n",
        "        user, book, actual_rating = row\n",
        "        predicted_rating = predict_rating_with_bias(\n",
        "            user, book, similar_items_broadcast, user_item_matrix_broadcast, user_bias_broadcast, item_bias_broadcast\n",
        "        )\n",
        "        return (predicted_rating - actual_rating) ** 2\n",
        "\n",
        "    errors = test_data.map(calculate_error)\n",
        "    mean_squared_error = errors.mean()\n",
        "    rmse = mean_squared_error ** 0.5\n",
        "    return rmse\n",
        "\n",
        "rmse_with_bias = compute_rmse_with_bias(test_data, user_item_matrix_broadcast, similar_items_broadcast, user_bias_broadcast, item_bias_broadcast)\n",
        "print(f\"Root Mean Squared Error (RMSE) with Bias: {rmse_with_bias}\")\n"
      ]
    },
    {
      "cell_type": "markdown",
      "metadata": {
        "id": "hDr7wCbpSAlj"
      },
      "source": [
        "---\n",
        "\n",
        "### ```Best RMSE```\n",
        "\n",
        "$$\n",
        "\\text{RMSE} = \\sqrt{\\frac{1}{N} \\sum_{i=1}^{N} (y_i - \\hat{y}_i)^2}\n",
        "$$\n",
        "\n",
        "- yi: Real Score\n",
        "- ŷi: Predicted Score\n",
        "- N: Samples in Test Data\n"
      ]
    },
    {
      "cell_type": "code",
      "execution_count": null,
      "metadata": {
        "id": "6no8YWtTSAlj",
        "outputId": "bf2f33f7-a5b7-4b27-8d26-cde54915c437"
      },
      "outputs": [
        {
          "name": "stdout",
          "output_type": "stream",
          "text": [
            "Train set size: 7271\n",
            "Test set size: 1826\n"
          ]
        }
      ],
      "source": [
        "train_data, test_data = book_rates_rdd.randomSplit([0.8, 0.2], seed=42)\n",
        "\n",
        "print(f\"Train set size: {train_data.count()}\")\n",
        "print(f\"Test set size: {test_data.count()}\")"
      ]
    },
    {
      "cell_type": "code",
      "execution_count": null,
      "metadata": {
        "id": "zslOIF7vSAlj"
      },
      "outputs": [],
      "source": [
        "# Mean on Train data\n",
        "mean_rating = train_data.map(lambda x: float(x[2])).mean()\n",
        "\n",
        "# user-bias on Train data\n",
        "user_bias = train_data \\\n",
        "    .map(lambda x: (x[0], (float(x[2]) - mean_rating))) \\\n",
        "    .groupByKey() \\\n",
        "    .mapValues(lambda values: sum(values) / len(values)) \\\n",
        "    .collectAsMap()\n",
        "\n",
        "# item-bias on Train data\n",
        "item_bias = train_data \\\n",
        "    .map(lambda x: (x[1], (float(x[2]) - mean_rating - user_bias.get(x[0], 0)))) \\\n",
        "    .groupByKey() \\\n",
        "    .mapValues(lambda values: sum(values) / len(values)) \\\n",
        "    .collectAsMap()"
      ]
    },
    {
      "cell_type": "code",
      "execution_count": null,
      "metadata": {
        "id": "ZJH6yaErSAlk",
        "outputId": "c56cd917-370e-4d1f-a94c-f45438543c9a"
      },
      "outputs": [
        {
          "name": "stderr",
          "output_type": "stream",
          "text": [
            "                                                                                \r"
          ]
        }
      ],
      "source": [
        "user_item_matrix_dict = user_item_matrix.collectAsMap()\n",
        "\n",
        "pearson_similar_items_dict = pearson_similar_items.rdd.map(lambda x: (\n",
        "    (x[\"BookID1\"], x[\"BookID2\"]), x[\"Similarity\"]\n",
        ")).collectAsMap()\n",
        "\n",
        "broadcast_user_item_matrix = sc.broadcast(user_item_matrix_dict)\n",
        "broadcast_pearson_similar_items = sc.broadcast(pearson_similar_items_dict)"
      ]
    },
    {
      "cell_type": "code",
      "execution_count": null,
      "metadata": {
        "id": "_Y89KiUWSAll"
      },
      "outputs": [],
      "source": [
        "def predict_rating(user, book, user_item_matrix_dict, pearson_similar_items_dict, mean_rating, user_bias, item_bias):\n",
        "\n",
        "    baseline = mean_rating + user_bias.get(user, 0) + item_bias.get(book, 0)\n",
        "\n",
        "    similar_books = []\n",
        "    for (book1, book2), similarity in pearson_similar_items_dict.items():\n",
        "        if book1 == book:\n",
        "            similar_books.append((book2, similarity))\n",
        "        elif book2 == book:\n",
        "            similar_books.append((book1, similarity))\n",
        "\n",
        "    numerator = 0\n",
        "    denominator = 0\n",
        "    for similar_book, similarity in similar_books:\n",
        "        if user in user_item_matrix_dict and similar_book in user_item_matrix_dict[user]:\n",
        "            if similarity > 0:\n",
        "                numerator += similarity * (user_item_matrix_dict[user][similar_book] - baseline)\n",
        "                denominator += abs(similarity)\n",
        "\n",
        "    predicted_rating = baseline + (numerator / denominator if denominator != 0 else 0)\n",
        "\n",
        "    # predicted_rating = max(1, min(5, predicted_rating))\n",
        "\n",
        "    return predicted_rating"
      ]
    },
    {
      "cell_type": "code",
      "execution_count": null,
      "metadata": {
        "id": "G5Of-8PtSAll",
        "outputId": "a0b2c64b-ac9c-426e-8390-41117e40fae8"
      },
      "outputs": [
        {
          "name": "stdout",
          "output_type": "stream",
          "text": [
            "Predicted rating for User A30H2335OM7RD6 on Book 0007136838: 4.381743995015661\n",
            "Predicted rating for User A20EEWWSFMZ1PN on Book 0002007770: 4.804942576281027\n",
            "Predicted rating for User 243252fw on Book w2: 4.266400770182919\n"
          ]
        }
      ],
      "source": [
        "example_user_1 = \"A30H2335OM7RD6\"\n",
        "example_book_1 = \"0007136838\"\n",
        "predicted_rating_1 = predict_rating(example_user_1, example_book_1, user_item_matrix_dict, pearson_similar_items_dict, mean_rating, user_bias, item_bias)\n",
        "print(f\"Predicted rating for User {example_user_1} on Book {example_book_1}: {predicted_rating_1}\")\n",
        "\n",
        "example_user_2 = \"A20EEWWSFMZ1PN\"\n",
        "example_book_2 = \"0002007770\"\n",
        "predicted_rating_2 = predict_rating(example_user_2, example_book_2, user_item_matrix_dict, pearson_similar_items_dict, mean_rating, user_bias, item_bias)\n",
        "print(f\"Predicted rating for User {example_user_2} on Book {example_book_2}: {predicted_rating_2}\")\n",
        "\n",
        "example_user_3 = \"243252fw\"\n",
        "example_book_3 = \"w2\"\n",
        "predicted_rating_3 = predict_rating(example_user_3, example_book_3, user_item_matrix_dict, pearson_similar_items_dict, mean_rating, user_bias, item_bias)\n",
        "print(f\"Predicted rating for User {example_user_3} on Book {example_book_3}: {predicted_rating_3}\")\n"
      ]
    },
    {
      "cell_type": "code",
      "execution_count": null,
      "metadata": {
        "id": "1vcgsju1SAln",
        "outputId": "e8357179-3232-4953-8b28-2ccb7953664f"
      },
      "outputs": [
        {
          "name": "stderr",
          "output_type": "stream",
          "text": [
            "[Stage 25559:===========================>                           (1 + 1) / 2]\r"
          ]
        },
        {
          "name": "stdout",
          "output_type": "stream",
          "text": [
            "RMSE: 0.8630944237430908\n"
          ]
        },
        {
          "name": "stderr",
          "output_type": "stream",
          "text": [
            "                                                                                \r"
          ]
        }
      ],
      "source": [
        "from math import sqrt\n",
        "\n",
        "test_predictions = test_data.map(lambda x: (\n",
        "    x[0],  # User ID\n",
        "    x[1],  # Book ID\n",
        "    float(x[2]),  # Actual Rating\n",
        "    predict_rating(x[0], x[1], user_item_matrix_dict, pearson_similar_items_dict, mean_rating, user_bias, item_bias)  # Predicted Rating\n",
        "))\n",
        "\n",
        "squared_errors = test_predictions.map(lambda x: (x[2] - x[3]) ** 2)\n",
        "\n",
        "mse = squared_errors.mean()\n",
        "rmse = sqrt(mse)\n",
        "\n",
        "print(f\"Root Mean Squared Error (RMSE): {rmse}\")"
      ]
    },
    {
      "cell_type": "code",
      "execution_count": null,
      "metadata": {
        "id": "dvi5DzjvAZRL"
      },
      "outputs": [],
      "source": [
        "print(f\"Root Mean Squared Error (RMSE): 0.8630944237430908\")"
      ]
    },
    {
      "cell_type": "markdown",
      "metadata": {
        "id": "-wJUSCKnSAln"
      },
      "source": [
        "**Interpreting the RMSE Value**\n",
        "\n",
        "1. **RMSE Value**:\n",
        "   - The lower the RMSE value, the more accurate model.\n",
        "   - In recommender systems, RMSE values below 1 typically indicate good performance.\n",
        "\n",
        "2. **Comparison with the Rating Scale**:\n",
        "   - Since the rating scale is between 1 and 5, an error of **0.86** means that predictions are, on average, less than 1 unit away from the actual ratings. So This is acceptable for a recommender system.\n"
      ]
    },
    {
      "cell_type": "markdown",
      "metadata": {
        "id": "KQnf68KeSAlo"
      },
      "source": [
        "---\n",
        "\n",
        "### ```Fill the Evaluation File with Rating```"
      ]
    },
    {
      "cell_type": "code",
      "execution_count": null,
      "metadata": {
        "id": "MmZWEWZaSAlo",
        "outputId": "12848233-99d8-4eeb-f9ad-735b896ea214"
      },
      "outputs": [
        {
          "name": "stdout",
          "output_type": "stream",
          "text": [
            "Train set size: 7271\n",
            "Test set size: 1826\n"
          ]
        }
      ],
      "source": [
        "train_data, test_data = book_rates_rdd.randomSplit([0.8, 0.2], seed=42)\n",
        "\n",
        "print(f\"Train set size: {train_data.count()}\")\n",
        "print(f\"Test set size: {test_data.count()}\")"
      ]
    },
    {
      "cell_type": "code",
      "execution_count": null,
      "metadata": {
        "id": "bWIYY4kCSAlp"
      },
      "outputs": [],
      "source": [
        "# Mean on Train data\n",
        "mean_rating = train_data.map(lambda x: float(x[2])).mean()\n",
        "\n",
        "# user-bias on Train data\n",
        "user_bias = train_data \\\n",
        "    .map(lambda x: (x[0], (float(x[2]) - mean_rating))) \\\n",
        "    .groupByKey() \\\n",
        "    .mapValues(lambda values: sum(values) / len(values)) \\\n",
        "    .collectAsMap()\n",
        "\n",
        "# item-bias on Train data\n",
        "item_bias = train_data \\\n",
        "    .map(lambda x: (x[1], (float(x[2]) - mean_rating - user_bias.get(x[0], 0)))) \\\n",
        "    .groupByKey() \\\n",
        "    .mapValues(lambda values: sum(values) / len(values)) \\\n",
        "    .collectAsMap()"
      ]
    },
    {
      "cell_type": "code",
      "execution_count": null,
      "metadata": {
        "id": "VJAr2PbhSAlq",
        "outputId": "36f74bce-c368-4547-f03a-2bb03d05e1f6"
      },
      "outputs": [
        {
          "name": "stderr",
          "output_type": "stream",
          "text": [
            "                                                                                \r"
          ]
        }
      ],
      "source": [
        "user_item_matrix_dict = user_item_matrix.collectAsMap()\n",
        "\n",
        "pearson_similar_items_dict = pearson_similar_items.rdd.map(lambda x: (\n",
        "    (x[\"BookID1\"], x[\"BookID2\"]), x[\"Similarity\"]\n",
        ")).collectAsMap()\n",
        "\n",
        "broadcast_user_item_matrix = sc.broadcast(user_item_matrix_dict)\n",
        "broadcast_pearson_similar_items = sc.broadcast(pearson_similar_items_dict)"
      ]
    },
    {
      "cell_type": "code",
      "execution_count": null,
      "metadata": {
        "id": "FSDfPOq2SAlq",
        "outputId": "88ded9ba-ec4a-4d1a-e3dd-95926dcfa92f"
      },
      "outputs": [
        {
          "name": "stderr",
          "output_type": "stream",
          "text": [
            "                                                                                \r"
          ]
        }
      ],
      "source": [
        "def predict_rating(user, book, user_item_matrix_dict, pearson_similar_items_dict, mean_rating, user_bias, item_bias):\n",
        "\n",
        "    baseline = mean_rating + user_bias.get(user, 0) + item_bias.get(book, 0)\n",
        "\n",
        "    similar_books = []\n",
        "    for (book1, book2), similarity in pearson_similar_items_dict.items():\n",
        "        if book1 == book:\n",
        "            similar_books.append((book2, similarity))\n",
        "        elif book2 == book:\n",
        "            similar_books.append((book1, similarity))\n",
        "\n",
        "    numerator = 0\n",
        "    denominator = 0\n",
        "    for similar_book, similarity in similar_books:\n",
        "        if user in user_item_matrix_dict and similar_book in user_item_matrix_dict[user]:\n",
        "            if similarity > 0:\n",
        "                numerator += similarity * (user_item_matrix_dict[user][similar_book] - baseline)\n",
        "                denominator += abs(similarity)\n",
        "\n",
        "    predicted_rating = baseline + (numerator / denominator if denominator != 0 else 0)\n",
        "\n",
        "    # predicted_rating = max(1, min(5, predicted_rating))\n",
        "\n",
        "    return predicted_rating\n",
        "\n",
        "\n",
        "input_file = './data/Evaluate_P2.csv'\n",
        "output_file = './output/Evaluation_P2_Completed.csv'\n",
        "\n",
        "user_item_matrix_dict = user_item_matrix.collectAsMap()\n",
        "pearson_similar_items_dict = pearson_similar_items.rdd.map(lambda x: (\n",
        "    (x[\"BookID1\"], x[\"BookID2\"]), x[\"Similarity\"]\n",
        ")).collectAsMap()\n",
        "\n",
        "with open(input_file, 'r') as infile, open(output_file, 'w', newline='') as outfile:\n",
        "    reader = csv.reader(infile)\n",
        "    writer = csv.writer(outfile)\n",
        "\n",
        "    header = next(reader)\n",
        "    writer.writerow(header)\n",
        "\n",
        "    for row in reader:\n",
        "        user_id = row[0]\n",
        "        book_id = row[1]\n",
        "\n",
        "        # Calculate Predict Score\n",
        "        predicted_rating = predict_rating(user_id, book_id, user_item_matrix_dict, pearson_similar_items_dict, mean_rating, user_bias, item_bias)\n",
        "\n",
        "        # Replace the Predicted Score with ?\n",
        "        row[2] = str(predicted_rating)\n",
        "\n",
        "        writer.writerow(row)\n"
      ]
    },
    {
      "cell_type": "markdown",
      "metadata": {
        "id": "E9tDnjljSAlr"
      },
      "source": [
        "---\n",
        "\n",
        "### ```Recommend Books```"
      ]
    },
    {
      "cell_type": "code",
      "execution_count": null,
      "metadata": {
        "id": "k718PIaeSAlr",
        "outputId": "5002b701-e516-4114-c148-2c89e981c557"
      },
      "outputs": [
        {
          "name": "stdout",
          "output_type": "stream",
          "text": [
            "User A30H2335OM7RD6:\n",
            "\n",
            " 3 Lowest Predicted Scores:\n",
            "Book ID: 147780756X, Predicted Rating: 3.035498712282858\n",
            "Book ID: 0743566572, Predicted Rating: 3.189187019563758\n",
            "Book ID: 0743496728, Predicted Rating: 3.210288994720364\n",
            "\n",
            " 3 Highest Predicted Scores:\n",
            "Book ID: 0020519109, Predicted Rating: 5.0\n",
            "Book ID: 0060098902, Predicted Rating: 5.0\n",
            "Book ID: 0060175400, Predicted Rating: 5.0\n"
          ]
        }
      ],
      "source": [
        "def recommend_books_based_on_predictions(user_id, book_rates_rdd, user_item_matrix_dict, pearson_similar_items_dict, mean_rating, user_bias, item_bias):\n",
        "\n",
        "    all_books = book_rates_rdd.map(lambda x: x[1]).distinct().collect()\n",
        "\n",
        "    user_rated_books = book_rates_rdd.filter(lambda x: x[0] == user_id).map(lambda x: x[1]).collect()\n",
        "\n",
        "    unrated_books = [book for book in all_books if book not in user_rated_books]\n",
        "\n",
        "    if not unrated_books:\n",
        "        print(f\"User {user_id} rated all books\")\n",
        "        return\n",
        "\n",
        "    predictions = []\n",
        "    for book in unrated_books:\n",
        "        predicted_rating = predict_rating(user_id, book, user_item_matrix_dict, pearson_similar_items_dict, mean_rating, user_bias, item_bias)\n",
        "        predictions.append((book, predicted_rating))\n",
        "\n",
        "    sorted_by_lowest = sorted(predictions, key=lambda x: x[1])\n",
        "    sorted_by_highest = sorted(predictions, key=lambda x: x[1], reverse=True)\n",
        "\n",
        "    lowest_rated_books = sorted_by_lowest[:3]\n",
        "    highest_rated_books = sorted_by_highest[:3]\n",
        "\n",
        "    print(f\"User {user_id}:\")\n",
        "    print(\"\\n 3 Lowest Predicted Scores:\")\n",
        "    for book, rating in lowest_rated_books:\n",
        "        print(f\"Book ID: {book}, Predicted Rating: {rating}\")\n",
        "\n",
        "    print(\"\\n 3 Highest Predicted Scores:\")\n",
        "    for book, rating in highest_rated_books:\n",
        "        print(f\"Book ID: {book}, Predicted Rating: {rating}\")\n",
        "\n",
        "# User ID\n",
        "example_user = \"A30H2335OM7RD6\"\n",
        "recommend_books_based_on_predictions(example_user, book_rates_rdd, user_item_matrix_dict, pearson_similar_items_dict, mean_rating, user_bias, item_bias)"
      ]
    }
  ],
  "metadata": {
    "colab": {
      "collapsed_sections": [
        "6KETDVt2SAjo",
        "vEcUpplSSAj-",
        "dII6i7ahSAkd",
        "zCli7ksGSAke",
        "3-yA5t17SAki"
      ],
      "provenance": []
    },
    "kernelspec": {
      "display_name": "base",
      "language": "python",
      "name": "python3"
    },
    "language_info": {
      "codemirror_mode": {
        "name": "ipython",
        "version": 3
      },
      "file_extension": ".py",
      "mimetype": "text/x-python",
      "name": "python",
      "nbconvert_exporter": "python",
      "pygments_lexer": "ipython3",
      "version": "3.11.5"
    }
  },
  "nbformat": 4,
  "nbformat_minor": 0
}
